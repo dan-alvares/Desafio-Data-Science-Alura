{
 "cells": [
  {
   "cell_type": "code",
   "execution_count": 60,
   "id": "cf933478-75c4-4fee-a841-3669064739f0",
   "metadata": {
    "jupyter": {
     "source_hidden": true
    },
    "tags": []
   },
   "outputs": [],
   "source": [
    "import pandas as pd\n",
    "import matplotlib.pyplot as plt\n",
    "import seaborn as sns\n",
    "import numpy as np\n",
    "import pandas_profiling\n",
    "from sklearn.model_selection import train_test_split\n",
    "from sklearn.linear_model import LogisticRegression\n",
    "from sklearn import metrics\n",
    "from sklearn.metrics import confusion_matrix\n",
    "from sklearn.metrics import ConfusionMatrixDisplay\n",
    "from sklearn.datasets import make_classification\n",
    "import sys\n",
    "sys.path.append('../')\n",
    "%matplotlib inline\n",
    "pd.options.display.max_columns = 25"
   ]
  },
  {
   "cell_type": "markdown",
   "id": "bf46663b-96b9-4ebf-8d0d-207f6ce46d35",
   "metadata": {},
   "source": [
    "<img src=\"img/alura-vox.png\" style=\"height:260px\">"
   ]
  },
  {
   "cell_type": "markdown",
   "id": "d663689a-e7e1-457b-a3e3-f72d3a62a8a4",
   "metadata": {
    "tags": []
   },
   "source": [
    "# Tarefas da Semana 3\n",
    "\n",
    "- [ ] Verificar se a variável target está balanceada (undersampling ou oversampling)\n",
    "- [ ] Aplicar encoding nos seus dados\n",
    "- [ ] Criar dois ou mais modelos de Machine Learning\n",
    "- [ ] Avaliar cada modelo utilizando métricas de ML\n",
    "- [ ] Escolher o melhor modelo (justificar a escolha)\n",
    "- [ ] Otimizar o melhor modelo\n",
    "- [ ] Verificar qual o melhor tipo de balanceamento com esses dados"
   ]
  },
  {
   "cell_type": "markdown",
   "id": "8605f2af-f4fd-4726-b6eb-e9e6da079338",
   "metadata": {},
   "source": [
    "# Carregando Base de Dados\n",
    "### Os dados usados já foram tratados e organizados na semana anterior"
   ]
  },
  {
   "cell_type": "code",
   "execution_count": 82,
   "id": "27c4b47c-4bbb-40ad-9dd5-2cb37c32eb34",
   "metadata": {
    "jupyter": {
     "source_hidden": true
    },
    "tags": []
   },
   "outputs": [
    {
     "data": {
      "text/html": [
       "<div>\n",
       "<style scoped>\n",
       "    .dataframe tbody tr th:only-of-type {\n",
       "        vertical-align: middle;\n",
       "    }\n",
       "\n",
       "    .dataframe tbody tr th {\n",
       "        vertical-align: top;\n",
       "    }\n",
       "\n",
       "    .dataframe thead th {\n",
       "        text-align: right;\n",
       "    }\n",
       "</style>\n",
       "<table border=\"1\" class=\"dataframe\">\n",
       "  <thead>\n",
       "    <tr style=\"text-align: right;\">\n",
       "      <th></th>\n",
       "      <th>cliente_id</th>\n",
       "      <th>churn</th>\n",
       "      <th>genero</th>\n",
       "      <th>idoso</th>\n",
       "      <th>casado</th>\n",
       "      <th>dependentes</th>\n",
       "      <th>duracao_contrato</th>\n",
       "      <th>assinatura_telefone</th>\n",
       "      <th>linhas_extras</th>\n",
       "      <th>assinatura_internet</th>\n",
       "      <th>protecao_online</th>\n",
       "      <th>backup_nuvem</th>\n",
       "      <th>protecao_dispositivo</th>\n",
       "      <th>suporte_tecnico</th>\n",
       "      <th>streaming_tv</th>\n",
       "      <th>streaming_filmes</th>\n",
       "      <th>contrato</th>\n",
       "      <th>cobranca_digital</th>\n",
       "      <th>metodo_pagamento</th>\n",
       "      <th>custo_diario</th>\n",
       "      <th>custo_mensal</th>\n",
       "      <th>custo_total</th>\n",
       "    </tr>\n",
       "  </thead>\n",
       "  <tbody>\n",
       "    <tr>\n",
       "      <th>0</th>\n",
       "      <td>0002-ORFBO</td>\n",
       "      <td>Não</td>\n",
       "      <td>Feminino</td>\n",
       "      <td>Não</td>\n",
       "      <td>Sim</td>\n",
       "      <td>Sim</td>\n",
       "      <td>9</td>\n",
       "      <td>Sim</td>\n",
       "      <td>Não</td>\n",
       "      <td>dsl</td>\n",
       "      <td>Não</td>\n",
       "      <td>Sim</td>\n",
       "      <td>Não</td>\n",
       "      <td>Sim</td>\n",
       "      <td>Sim</td>\n",
       "      <td>Não</td>\n",
       "      <td>Anual</td>\n",
       "      <td>Sim</td>\n",
       "      <td>Cheque</td>\n",
       "      <td>2.19</td>\n",
       "      <td>65.6</td>\n",
       "      <td>593.30</td>\n",
       "    </tr>\n",
       "    <tr>\n",
       "      <th>1</th>\n",
       "      <td>0003-MKNFE</td>\n",
       "      <td>Não</td>\n",
       "      <td>Masculino</td>\n",
       "      <td>Não</td>\n",
       "      <td>Não</td>\n",
       "      <td>Não</td>\n",
       "      <td>9</td>\n",
       "      <td>Sim</td>\n",
       "      <td>Sim</td>\n",
       "      <td>dsl</td>\n",
       "      <td>Não</td>\n",
       "      <td>Não</td>\n",
       "      <td>Não</td>\n",
       "      <td>Não</td>\n",
       "      <td>Não</td>\n",
       "      <td>Sim</td>\n",
       "      <td>Mensal</td>\n",
       "      <td>Não</td>\n",
       "      <td>Cheque</td>\n",
       "      <td>2.00</td>\n",
       "      <td>59.9</td>\n",
       "      <td>542.40</td>\n",
       "    </tr>\n",
       "    <tr>\n",
       "      <th>2</th>\n",
       "      <td>0004-TLHLJ</td>\n",
       "      <td>Sim</td>\n",
       "      <td>Masculino</td>\n",
       "      <td>Não</td>\n",
       "      <td>Não</td>\n",
       "      <td>Não</td>\n",
       "      <td>4</td>\n",
       "      <td>Sim</td>\n",
       "      <td>Não</td>\n",
       "      <td>fibra</td>\n",
       "      <td>Não</td>\n",
       "      <td>Não</td>\n",
       "      <td>Sim</td>\n",
       "      <td>Não</td>\n",
       "      <td>Não</td>\n",
       "      <td>Não</td>\n",
       "      <td>Mensal</td>\n",
       "      <td>Sim</td>\n",
       "      <td>Cheque eletrônico</td>\n",
       "      <td>2.46</td>\n",
       "      <td>73.9</td>\n",
       "      <td>280.85</td>\n",
       "    </tr>\n",
       "    <tr>\n",
       "      <th>3</th>\n",
       "      <td>0011-IGKFF</td>\n",
       "      <td>Sim</td>\n",
       "      <td>Masculino</td>\n",
       "      <td>Sim</td>\n",
       "      <td>Sim</td>\n",
       "      <td>Não</td>\n",
       "      <td>13</td>\n",
       "      <td>Sim</td>\n",
       "      <td>Não</td>\n",
       "      <td>fibra</td>\n",
       "      <td>Não</td>\n",
       "      <td>Sim</td>\n",
       "      <td>Sim</td>\n",
       "      <td>Não</td>\n",
       "      <td>Sim</td>\n",
       "      <td>Sim</td>\n",
       "      <td>Mensal</td>\n",
       "      <td>Sim</td>\n",
       "      <td>Cheque eletrônico</td>\n",
       "      <td>3.27</td>\n",
       "      <td>98.0</td>\n",
       "      <td>1237.85</td>\n",
       "    </tr>\n",
       "    <tr>\n",
       "      <th>4</th>\n",
       "      <td>0013-EXCHZ</td>\n",
       "      <td>Sim</td>\n",
       "      <td>Feminino</td>\n",
       "      <td>Sim</td>\n",
       "      <td>Sim</td>\n",
       "      <td>Não</td>\n",
       "      <td>3</td>\n",
       "      <td>Sim</td>\n",
       "      <td>Não</td>\n",
       "      <td>fibra</td>\n",
       "      <td>Não</td>\n",
       "      <td>Não</td>\n",
       "      <td>Não</td>\n",
       "      <td>Sim</td>\n",
       "      <td>Sim</td>\n",
       "      <td>Não</td>\n",
       "      <td>Mensal</td>\n",
       "      <td>Sim</td>\n",
       "      <td>Cheque</td>\n",
       "      <td>2.80</td>\n",
       "      <td>83.9</td>\n",
       "      <td>267.40</td>\n",
       "    </tr>\n",
       "  </tbody>\n",
       "</table>\n",
       "</div>"
      ],
      "text/plain": [
       "   cliente_id churn     genero idoso casado dependentes  duracao_contrato  \\\n",
       "0  0002-ORFBO   Não   Feminino   Não    Sim         Sim                 9   \n",
       "1  0003-MKNFE   Não  Masculino   Não    Não         Não                 9   \n",
       "2  0004-TLHLJ   Sim  Masculino   Não    Não         Não                 4   \n",
       "3  0011-IGKFF   Sim  Masculino   Sim    Sim         Não                13   \n",
       "4  0013-EXCHZ   Sim   Feminino   Sim    Sim         Não                 3   \n",
       "\n",
       "  assinatura_telefone linhas_extras assinatura_internet protecao_online  \\\n",
       "0                 Sim           Não                 dsl             Não   \n",
       "1                 Sim           Sim                 dsl             Não   \n",
       "2                 Sim           Não               fibra             Não   \n",
       "3                 Sim           Não               fibra             Não   \n",
       "4                 Sim           Não               fibra             Não   \n",
       "\n",
       "  backup_nuvem protecao_dispositivo suporte_tecnico streaming_tv  \\\n",
       "0          Sim                  Não             Sim          Sim   \n",
       "1          Não                  Não             Não          Não   \n",
       "2          Não                  Sim             Não          Não   \n",
       "3          Sim                  Sim             Não          Sim   \n",
       "4          Não                  Não             Sim          Sim   \n",
       "\n",
       "  streaming_filmes contrato cobranca_digital   metodo_pagamento  custo_diario  \\\n",
       "0              Não    Anual              Sim             Cheque          2.19   \n",
       "1              Sim   Mensal              Não             Cheque          2.00   \n",
       "2              Não   Mensal              Sim  Cheque eletrônico          2.46   \n",
       "3              Sim   Mensal              Sim  Cheque eletrônico          3.27   \n",
       "4              Não   Mensal              Sim             Cheque          2.80   \n",
       "\n",
       "   custo_mensal  custo_total  \n",
       "0          65.6       593.30  \n",
       "1          59.9       542.40  \n",
       "2          73.9       280.85  \n",
       "3          98.0      1237.85  \n",
       "4          83.9       267.40  "
      ]
     },
     "execution_count": 82,
     "metadata": {},
     "output_type": "execute_result"
    }
   ],
   "source": [
    "dados = pd.read_json('../Dados/dados_churn_clean.json')\n",
    "dados.head()"
   ]
  },
  {
   "cell_type": "markdown",
   "id": "9294cba5-53b9-4fa8-93d8-88581113d6cc",
   "metadata": {},
   "source": [
    "# Ocorrências de Churn\n",
    "Esses valores serão analisados posteriormente para verificar a possibilidade de tratamento de under ou oversampling."
   ]
  },
  {
   "cell_type": "code",
   "execution_count": 85,
   "id": "df422119-9d18-422d-8d3b-2c864e4e0c42",
   "metadata": {
    "jupyter": {
     "source_hidden": true
    },
    "tags": []
   },
   "outputs": [
    {
     "data": {
      "text/html": [
       "<div>\n",
       "<style scoped>\n",
       "    .dataframe tbody tr th:only-of-type {\n",
       "        vertical-align: middle;\n",
       "    }\n",
       "\n",
       "    .dataframe tbody tr th {\n",
       "        vertical-align: top;\n",
       "    }\n",
       "\n",
       "    .dataframe thead th {\n",
       "        text-align: right;\n",
       "    }\n",
       "</style>\n",
       "<table border=\"1\" class=\"dataframe\">\n",
       "  <thead>\n",
       "    <tr style=\"text-align: right;\">\n",
       "      <th></th>\n",
       "      <th>Não</th>\n",
       "      <th>Sim</th>\n",
       "      <th>Proporção</th>\n",
       "    </tr>\n",
       "  </thead>\n",
       "  <tbody>\n",
       "    <tr>\n",
       "      <th>churn</th>\n",
       "      <td>5174</td>\n",
       "      <td>1869</td>\n",
       "      <td>2.77</td>\n",
       "    </tr>\n",
       "  </tbody>\n",
       "</table>\n",
       "</div>"
      ],
      "text/plain": [
       "        Não   Sim  Proporção\n",
       "churn  5174  1869       2.77"
      ]
     },
     "execution_count": 85,
     "metadata": {},
     "output_type": "execute_result"
    }
   ],
   "source": [
    "churn = dados.churn.value_counts().to_frame().T\n",
    "churn['Proporção'] = round(churn['Não'] / churn['Sim'],2)\n",
    "churn"
   ]
  },
  {
   "cell_type": "markdown",
   "id": "da6898b9-454e-4f16-acb7-ec45e1b7d0b9",
   "metadata": {},
   "source": [
    "Podemos ver que temos uma proporção de 2.77 : 1 na variável target `churn`."
   ]
  },
  {
   "cell_type": "markdown",
   "id": "2f3084d4-af78-4923-9a8c-2bd59d38fb59",
   "metadata": {},
   "source": [
    "# Verificando as variáveis categóricas que serão tratadas"
   ]
  },
  {
   "cell_type": "code",
   "execution_count": 86,
   "id": "7e12e2d8-9be6-407a-83b5-a6a87d117afc",
   "metadata": {},
   "outputs": [
    {
     "name": "stdout",
     "output_type": "stream",
     "text": [
      "Variável churn: ['Não' 'Sim']\n",
      "Variável genero: ['Feminino' 'Masculino']\n",
      "Variável idoso: ['Não' 'Sim']\n",
      "Variável casado: ['Sim' 'Não']\n",
      "Variável dependentes: ['Sim' 'Não']\n",
      "Variável assinatura_telefone: ['Sim' 'Não']\n",
      "Variável linhas_extras: ['Não' 'Sim' 'Sem assinatura de telefone']\n",
      "Variável assinatura_internet: ['dsl' 'fibra' 'não contratada']\n",
      "Variável protecao_online: ['Não' 'Sim' 'internet não contratada']\n",
      "Variável backup_nuvem: ['Sim' 'Não' 'internet não contratada']\n",
      "Variável protecao_dispositivo: ['Não' 'Sim' 'internet não contratada']\n",
      "Variável suporte_tecnico: ['Sim' 'Não' 'internet não contratada']\n",
      "Variável streaming_tv: ['Sim' 'Não' 'internet não contratada']\n",
      "Variável streaming_filmes: ['Não' 'Sim' 'internet não contratada']\n",
      "Variável contrato: ['Anual' 'Mensal' 'Bianual']\n",
      "Variável cobranca_digital: ['Sim' 'Não']\n",
      "Variável metodo_pagamento: ['Cheque' 'Cheque eletrônico' 'Cartão de crédito' 'Transferência bancária']\n"
     ]
    }
   ],
   "source": [
    "for coluna in dados.columns[1:]:\n",
    "    if dados[coluna].dtype == 'object':\n",
    "        print(f'Variável {coluna}:', dados[coluna].unique())"
   ]
  },
  {
   "cell_type": "markdown",
   "id": "ac4845a7-a404-42cc-ab6d-5630b7a72ea1",
   "metadata": {},
   "source": [
    "# Explicando o processo de ajuste:\n",
    "Vamos realizar algumas alterações dentro da base de dados para que seja possível rodar os testes e criar o modelo de machine learning.\n",
    "\n",
    "## As variáveis que serão tratadas neste momento:\n",
    "Para isso vamos alterar os valores `Sim` e `Não` para `1` e `0` respectivamente, para as variáveis categóricas destacadas:\n",
    "* `churn`\n",
    "* `genero`\n",
    "* `idoso`\n",
    "* `casado` neste caso serão convertidos da seguinte maneira: Masculino será 0 e Feminino será definido como 1\n",
    "* `dependentes`\n",
    "* `assinatura_telefone`\n",
    "* `cobrança_digital`\n",
    "\n",
    "Já as demais variáveis categóricas serão tratadas utilizando o `método dummies` da biblioteca Pandas.\n"
   ]
  },
  {
   "cell_type": "code",
   "execution_count": 87,
   "id": "33baa751-614e-493c-9e3f-0b712347426c",
   "metadata": {},
   "outputs": [
    {
     "data": {
      "text/html": [
       "<div>\n",
       "<style scoped>\n",
       "    .dataframe tbody tr th:only-of-type {\n",
       "        vertical-align: middle;\n",
       "    }\n",
       "\n",
       "    .dataframe tbody tr th {\n",
       "        vertical-align: top;\n",
       "    }\n",
       "\n",
       "    .dataframe thead th {\n",
       "        text-align: right;\n",
       "    }\n",
       "</style>\n",
       "<table border=\"1\" class=\"dataframe\">\n",
       "  <thead>\n",
       "    <tr style=\"text-align: right;\">\n",
       "      <th></th>\n",
       "      <th>churn</th>\n",
       "      <th>genero</th>\n",
       "      <th>idoso</th>\n",
       "      <th>casado</th>\n",
       "      <th>dependentes</th>\n",
       "      <th>duracao_contrato</th>\n",
       "      <th>assinatura_telefone</th>\n",
       "      <th>linhas_extras</th>\n",
       "      <th>assinatura_internet</th>\n",
       "      <th>protecao_online</th>\n",
       "      <th>backup_nuvem</th>\n",
       "      <th>protecao_dispositivo</th>\n",
       "      <th>suporte_tecnico</th>\n",
       "      <th>streaming_tv</th>\n",
       "      <th>streaming_filmes</th>\n",
       "      <th>contrato</th>\n",
       "      <th>cobranca_digital</th>\n",
       "      <th>metodo_pagamento</th>\n",
       "      <th>custo_diario</th>\n",
       "      <th>custo_mensal</th>\n",
       "      <th>custo_total</th>\n",
       "    </tr>\n",
       "  </thead>\n",
       "  <tbody>\n",
       "    <tr>\n",
       "      <th>0</th>\n",
       "      <td>0</td>\n",
       "      <td>1</td>\n",
       "      <td>0</td>\n",
       "      <td>1</td>\n",
       "      <td>1</td>\n",
       "      <td>9</td>\n",
       "      <td>1</td>\n",
       "      <td>Não</td>\n",
       "      <td>dsl</td>\n",
       "      <td>Não</td>\n",
       "      <td>Sim</td>\n",
       "      <td>Não</td>\n",
       "      <td>Sim</td>\n",
       "      <td>Sim</td>\n",
       "      <td>Não</td>\n",
       "      <td>Anual</td>\n",
       "      <td>1</td>\n",
       "      <td>Cheque</td>\n",
       "      <td>2.19</td>\n",
       "      <td>65.6</td>\n",
       "      <td>593.30</td>\n",
       "    </tr>\n",
       "    <tr>\n",
       "      <th>1</th>\n",
       "      <td>0</td>\n",
       "      <td>0</td>\n",
       "      <td>0</td>\n",
       "      <td>0</td>\n",
       "      <td>0</td>\n",
       "      <td>9</td>\n",
       "      <td>1</td>\n",
       "      <td>Sim</td>\n",
       "      <td>dsl</td>\n",
       "      <td>Não</td>\n",
       "      <td>Não</td>\n",
       "      <td>Não</td>\n",
       "      <td>Não</td>\n",
       "      <td>Não</td>\n",
       "      <td>Sim</td>\n",
       "      <td>Mensal</td>\n",
       "      <td>0</td>\n",
       "      <td>Cheque</td>\n",
       "      <td>2.00</td>\n",
       "      <td>59.9</td>\n",
       "      <td>542.40</td>\n",
       "    </tr>\n",
       "    <tr>\n",
       "      <th>2</th>\n",
       "      <td>1</td>\n",
       "      <td>0</td>\n",
       "      <td>0</td>\n",
       "      <td>0</td>\n",
       "      <td>0</td>\n",
       "      <td>4</td>\n",
       "      <td>1</td>\n",
       "      <td>Não</td>\n",
       "      <td>fibra</td>\n",
       "      <td>Não</td>\n",
       "      <td>Não</td>\n",
       "      <td>Sim</td>\n",
       "      <td>Não</td>\n",
       "      <td>Não</td>\n",
       "      <td>Não</td>\n",
       "      <td>Mensal</td>\n",
       "      <td>1</td>\n",
       "      <td>Cheque eletrônico</td>\n",
       "      <td>2.46</td>\n",
       "      <td>73.9</td>\n",
       "      <td>280.85</td>\n",
       "    </tr>\n",
       "    <tr>\n",
       "      <th>3</th>\n",
       "      <td>1</td>\n",
       "      <td>0</td>\n",
       "      <td>1</td>\n",
       "      <td>1</td>\n",
       "      <td>0</td>\n",
       "      <td>13</td>\n",
       "      <td>1</td>\n",
       "      <td>Não</td>\n",
       "      <td>fibra</td>\n",
       "      <td>Não</td>\n",
       "      <td>Sim</td>\n",
       "      <td>Sim</td>\n",
       "      <td>Não</td>\n",
       "      <td>Sim</td>\n",
       "      <td>Sim</td>\n",
       "      <td>Mensal</td>\n",
       "      <td>1</td>\n",
       "      <td>Cheque eletrônico</td>\n",
       "      <td>3.27</td>\n",
       "      <td>98.0</td>\n",
       "      <td>1237.85</td>\n",
       "    </tr>\n",
       "    <tr>\n",
       "      <th>4</th>\n",
       "      <td>1</td>\n",
       "      <td>1</td>\n",
       "      <td>1</td>\n",
       "      <td>1</td>\n",
       "      <td>0</td>\n",
       "      <td>3</td>\n",
       "      <td>1</td>\n",
       "      <td>Não</td>\n",
       "      <td>fibra</td>\n",
       "      <td>Não</td>\n",
       "      <td>Não</td>\n",
       "      <td>Não</td>\n",
       "      <td>Sim</td>\n",
       "      <td>Sim</td>\n",
       "      <td>Não</td>\n",
       "      <td>Mensal</td>\n",
       "      <td>1</td>\n",
       "      <td>Cheque</td>\n",
       "      <td>2.80</td>\n",
       "      <td>83.9</td>\n",
       "      <td>267.40</td>\n",
       "    </tr>\n",
       "  </tbody>\n",
       "</table>\n",
       "</div>"
      ],
      "text/plain": [
       "   churn  genero  idoso  casado  dependentes  duracao_contrato  \\\n",
       "0      0       1      0       1            1                 9   \n",
       "1      0       0      0       0            0                 9   \n",
       "2      1       0      0       0            0                 4   \n",
       "3      1       0      1       1            0                13   \n",
       "4      1       1      1       1            0                 3   \n",
       "\n",
       "   assinatura_telefone linhas_extras assinatura_internet protecao_online  \\\n",
       "0                    1           Não                 dsl             Não   \n",
       "1                    1           Sim                 dsl             Não   \n",
       "2                    1           Não               fibra             Não   \n",
       "3                    1           Não               fibra             Não   \n",
       "4                    1           Não               fibra             Não   \n",
       "\n",
       "  backup_nuvem protecao_dispositivo suporte_tecnico streaming_tv  \\\n",
       "0          Sim                  Não             Sim          Sim   \n",
       "1          Não                  Não             Não          Não   \n",
       "2          Não                  Sim             Não          Não   \n",
       "3          Sim                  Sim             Não          Sim   \n",
       "4          Não                  Não             Sim          Sim   \n",
       "\n",
       "  streaming_filmes contrato  cobranca_digital   metodo_pagamento  \\\n",
       "0              Não    Anual                 1             Cheque   \n",
       "1              Sim   Mensal                 0             Cheque   \n",
       "2              Não   Mensal                 1  Cheque eletrônico   \n",
       "3              Sim   Mensal                 1  Cheque eletrônico   \n",
       "4              Não   Mensal                 1             Cheque   \n",
       "\n",
       "   custo_diario  custo_mensal  custo_total  \n",
       "0          2.19          65.6       593.30  \n",
       "1          2.00          59.9       542.40  \n",
       "2          2.46          73.9       280.85  \n",
       "3          3.27          98.0      1237.85  \n",
       "4          2.80          83.9       267.40  "
      ]
     },
     "execution_count": 87,
     "metadata": {},
     "output_type": "execute_result"
    }
   ],
   "source": [
    "ajuste_binario = {'Não': 0, 'Sim': 1, 'Masculino': 0, 'Feminino': 1}\n",
    "selecao = ['churn', 'genero', 'idoso', 'casado', 'dependentes', 'assinatura_telefone', 'cobranca_digital']\n",
    "\n",
    "for coluna in dados.columns:\n",
    "    if coluna in selecao:\n",
    "        dados[coluna].replace(ajuste_binario, inplace = True)\n",
    "dados.drop(columns = 'cliente_id', inplace = True)        \n",
    "dados.head()"
   ]
  },
  {
   "cell_type": "code",
   "execution_count": 88,
   "id": "23d706ad-6634-4899-99ed-97d36f408fb0",
   "metadata": {},
   "outputs": [
    {
     "name": "stdout",
     "output_type": "stream",
     "text": [
      "<class 'pandas.core.frame.DataFrame'>\n",
      "Int64Index: 7043 entries, 0 to 7042\n",
      "Data columns (total 21 columns):\n",
      " #   Column                Non-Null Count  Dtype  \n",
      "---  ------                --------------  -----  \n",
      " 0   churn                 7043 non-null   int64  \n",
      " 1   genero                7043 non-null   int64  \n",
      " 2   idoso                 7043 non-null   int64  \n",
      " 3   casado                7043 non-null   int64  \n",
      " 4   dependentes           7043 non-null   int64  \n",
      " 5   duracao_contrato      7043 non-null   int64  \n",
      " 6   assinatura_telefone   7043 non-null   int64  \n",
      " 7   linhas_extras         7043 non-null   object \n",
      " 8   assinatura_internet   7043 non-null   object \n",
      " 9   protecao_online       7043 non-null   object \n",
      " 10  backup_nuvem          7043 non-null   object \n",
      " 11  protecao_dispositivo  7043 non-null   object \n",
      " 12  suporte_tecnico       7043 non-null   object \n",
      " 13  streaming_tv          7043 non-null   object \n",
      " 14  streaming_filmes      7043 non-null   object \n",
      " 15  contrato              7043 non-null   object \n",
      " 16  cobranca_digital      7043 non-null   int64  \n",
      " 17  metodo_pagamento      7043 non-null   object \n",
      " 18  custo_diario          7043 non-null   float64\n",
      " 19  custo_mensal          7043 non-null   float64\n",
      " 20  custo_total           7043 non-null   float64\n",
      "dtypes: float64(3), int64(8), object(10)\n",
      "memory usage: 1.2+ MB\n"
     ]
    }
   ],
   "source": [
    "dados.info()"
   ]
  },
  {
   "cell_type": "code",
   "execution_count": 89,
   "id": "d6ca7590-bf34-4dfd-905a-39a55e2aa10a",
   "metadata": {},
   "outputs": [
    {
     "name": "stdout",
     "output_type": "stream",
     "text": [
      "Variável linhas_extras: ['Não' 'Sim' 'Sem assinatura de telefone']\n",
      "Variável assinatura_internet: ['dsl' 'fibra' 'não contratada']\n",
      "Variável protecao_online: ['Não' 'Sim' 'internet não contratada']\n",
      "Variável backup_nuvem: ['Sim' 'Não' 'internet não contratada']\n",
      "Variável protecao_dispositivo: ['Não' 'Sim' 'internet não contratada']\n",
      "Variável suporte_tecnico: ['Sim' 'Não' 'internet não contratada']\n",
      "Variável streaming_tv: ['Sim' 'Não' 'internet não contratada']\n",
      "Variável streaming_filmes: ['Não' 'Sim' 'internet não contratada']\n",
      "Variável contrato: ['Anual' 'Mensal' 'Bianual']\n",
      "Variável metodo_pagamento: ['Cheque' 'Cheque eletrônico' 'Cartão de crédito' 'Transferência bancária']\n"
     ]
    }
   ],
   "source": [
    "variaveis_dummy = []\n",
    "for coluna in dados.columns[1:]:\n",
    "    if dados[coluna].dtype == 'object':\n",
    "        print(f'Variável {coluna}:', dados[coluna].unique())\n",
    "        variaveis_dummy.append(coluna)"
   ]
  },
  {
   "cell_type": "code",
   "execution_count": 90,
   "id": "5ca34e7d-531d-4819-b2b9-23bf829a5cc3",
   "metadata": {},
   "outputs": [
    {
     "data": {
      "text/html": [
       "<div>\n",
       "<style scoped>\n",
       "    .dataframe tbody tr th:only-of-type {\n",
       "        vertical-align: middle;\n",
       "    }\n",
       "\n",
       "    .dataframe tbody tr th {\n",
       "        vertical-align: top;\n",
       "    }\n",
       "\n",
       "    .dataframe thead th {\n",
       "        text-align: right;\n",
       "    }\n",
       "</style>\n",
       "<table border=\"1\" class=\"dataframe\">\n",
       "  <thead>\n",
       "    <tr style=\"text-align: right;\">\n",
       "      <th></th>\n",
       "      <th>churn</th>\n",
       "      <th>genero</th>\n",
       "      <th>idoso</th>\n",
       "      <th>casado</th>\n",
       "      <th>dependentes</th>\n",
       "      <th>duracao_contrato</th>\n",
       "      <th>assinatura_telefone</th>\n",
       "      <th>cobranca_digital</th>\n",
       "      <th>custo_diario</th>\n",
       "      <th>custo_mensal</th>\n",
       "      <th>custo_total</th>\n",
       "      <th>linhas_extras_Não</th>\n",
       "      <th>...</th>\n",
       "      <th>streaming_tv_Sim</th>\n",
       "      <th>streaming_tv_internet não contratada</th>\n",
       "      <th>streaming_filmes_Não</th>\n",
       "      <th>streaming_filmes_Sim</th>\n",
       "      <th>streaming_filmes_internet não contratada</th>\n",
       "      <th>contrato_Anual</th>\n",
       "      <th>contrato_Bianual</th>\n",
       "      <th>contrato_Mensal</th>\n",
       "      <th>metodo_pagamento_Cartão de crédito</th>\n",
       "      <th>metodo_pagamento_Cheque</th>\n",
       "      <th>metodo_pagamento_Cheque eletrônico</th>\n",
       "      <th>metodo_pagamento_Transferência bancária</th>\n",
       "    </tr>\n",
       "  </thead>\n",
       "  <tbody>\n",
       "    <tr>\n",
       "      <th>0</th>\n",
       "      <td>0</td>\n",
       "      <td>1</td>\n",
       "      <td>0</td>\n",
       "      <td>1</td>\n",
       "      <td>1</td>\n",
       "      <td>9</td>\n",
       "      <td>1</td>\n",
       "      <td>1</td>\n",
       "      <td>2.19</td>\n",
       "      <td>65.6</td>\n",
       "      <td>593.30</td>\n",
       "      <td>1</td>\n",
       "      <td>...</td>\n",
       "      <td>1</td>\n",
       "      <td>0</td>\n",
       "      <td>1</td>\n",
       "      <td>0</td>\n",
       "      <td>0</td>\n",
       "      <td>1</td>\n",
       "      <td>0</td>\n",
       "      <td>0</td>\n",
       "      <td>0</td>\n",
       "      <td>1</td>\n",
       "      <td>0</td>\n",
       "      <td>0</td>\n",
       "    </tr>\n",
       "    <tr>\n",
       "      <th>1</th>\n",
       "      <td>0</td>\n",
       "      <td>0</td>\n",
       "      <td>0</td>\n",
       "      <td>0</td>\n",
       "      <td>0</td>\n",
       "      <td>9</td>\n",
       "      <td>1</td>\n",
       "      <td>0</td>\n",
       "      <td>2.00</td>\n",
       "      <td>59.9</td>\n",
       "      <td>542.40</td>\n",
       "      <td>0</td>\n",
       "      <td>...</td>\n",
       "      <td>0</td>\n",
       "      <td>0</td>\n",
       "      <td>0</td>\n",
       "      <td>1</td>\n",
       "      <td>0</td>\n",
       "      <td>0</td>\n",
       "      <td>0</td>\n",
       "      <td>1</td>\n",
       "      <td>0</td>\n",
       "      <td>1</td>\n",
       "      <td>0</td>\n",
       "      <td>0</td>\n",
       "    </tr>\n",
       "    <tr>\n",
       "      <th>2</th>\n",
       "      <td>1</td>\n",
       "      <td>0</td>\n",
       "      <td>0</td>\n",
       "      <td>0</td>\n",
       "      <td>0</td>\n",
       "      <td>4</td>\n",
       "      <td>1</td>\n",
       "      <td>1</td>\n",
       "      <td>2.46</td>\n",
       "      <td>73.9</td>\n",
       "      <td>280.85</td>\n",
       "      <td>1</td>\n",
       "      <td>...</td>\n",
       "      <td>0</td>\n",
       "      <td>0</td>\n",
       "      <td>1</td>\n",
       "      <td>0</td>\n",
       "      <td>0</td>\n",
       "      <td>0</td>\n",
       "      <td>0</td>\n",
       "      <td>1</td>\n",
       "      <td>0</td>\n",
       "      <td>0</td>\n",
       "      <td>1</td>\n",
       "      <td>0</td>\n",
       "    </tr>\n",
       "    <tr>\n",
       "      <th>3</th>\n",
       "      <td>1</td>\n",
       "      <td>0</td>\n",
       "      <td>1</td>\n",
       "      <td>1</td>\n",
       "      <td>0</td>\n",
       "      <td>13</td>\n",
       "      <td>1</td>\n",
       "      <td>1</td>\n",
       "      <td>3.27</td>\n",
       "      <td>98.0</td>\n",
       "      <td>1237.85</td>\n",
       "      <td>1</td>\n",
       "      <td>...</td>\n",
       "      <td>1</td>\n",
       "      <td>0</td>\n",
       "      <td>0</td>\n",
       "      <td>1</td>\n",
       "      <td>0</td>\n",
       "      <td>0</td>\n",
       "      <td>0</td>\n",
       "      <td>1</td>\n",
       "      <td>0</td>\n",
       "      <td>0</td>\n",
       "      <td>1</td>\n",
       "      <td>0</td>\n",
       "    </tr>\n",
       "    <tr>\n",
       "      <th>4</th>\n",
       "      <td>1</td>\n",
       "      <td>1</td>\n",
       "      <td>1</td>\n",
       "      <td>1</td>\n",
       "      <td>0</td>\n",
       "      <td>3</td>\n",
       "      <td>1</td>\n",
       "      <td>1</td>\n",
       "      <td>2.80</td>\n",
       "      <td>83.9</td>\n",
       "      <td>267.40</td>\n",
       "      <td>1</td>\n",
       "      <td>...</td>\n",
       "      <td>1</td>\n",
       "      <td>0</td>\n",
       "      <td>1</td>\n",
       "      <td>0</td>\n",
       "      <td>0</td>\n",
       "      <td>0</td>\n",
       "      <td>0</td>\n",
       "      <td>1</td>\n",
       "      <td>0</td>\n",
       "      <td>1</td>\n",
       "      <td>0</td>\n",
       "      <td>0</td>\n",
       "    </tr>\n",
       "  </tbody>\n",
       "</table>\n",
       "<p>5 rows × 42 columns</p>\n",
       "</div>"
      ],
      "text/plain": [
       "   churn  genero  idoso  casado  dependentes  duracao_contrato  \\\n",
       "0      0       1      0       1            1                 9   \n",
       "1      0       0      0       0            0                 9   \n",
       "2      1       0      0       0            0                 4   \n",
       "3      1       0      1       1            0                13   \n",
       "4      1       1      1       1            0                 3   \n",
       "\n",
       "   assinatura_telefone  cobranca_digital  custo_diario  custo_mensal  \\\n",
       "0                    1                 1          2.19          65.6   \n",
       "1                    1                 0          2.00          59.9   \n",
       "2                    1                 1          2.46          73.9   \n",
       "3                    1                 1          3.27          98.0   \n",
       "4                    1                 1          2.80          83.9   \n",
       "\n",
       "   custo_total  linhas_extras_Não  ...  streaming_tv_Sim  \\\n",
       "0       593.30                  1  ...                 1   \n",
       "1       542.40                  0  ...                 0   \n",
       "2       280.85                  1  ...                 0   \n",
       "3      1237.85                  1  ...                 1   \n",
       "4       267.40                  1  ...                 1   \n",
       "\n",
       "   streaming_tv_internet não contratada  streaming_filmes_Não  \\\n",
       "0                                     0                     1   \n",
       "1                                     0                     0   \n",
       "2                                     0                     1   \n",
       "3                                     0                     0   \n",
       "4                                     0                     1   \n",
       "\n",
       "   streaming_filmes_Sim  streaming_filmes_internet não contratada  \\\n",
       "0                     0                                         0   \n",
       "1                     1                                         0   \n",
       "2                     0                                         0   \n",
       "3                     1                                         0   \n",
       "4                     0                                         0   \n",
       "\n",
       "   contrato_Anual  contrato_Bianual  contrato_Mensal  \\\n",
       "0               1                 0                0   \n",
       "1               0                 0                1   \n",
       "2               0                 0                1   \n",
       "3               0                 0                1   \n",
       "4               0                 0                1   \n",
       "\n",
       "   metodo_pagamento_Cartão de crédito  metodo_pagamento_Cheque  \\\n",
       "0                                   0                        1   \n",
       "1                                   0                        1   \n",
       "2                                   0                        0   \n",
       "3                                   0                        0   \n",
       "4                                   0                        1   \n",
       "\n",
       "   metodo_pagamento_Cheque eletrônico  metodo_pagamento_Transferência bancária  \n",
       "0                                   0                                        0  \n",
       "1                                   0                                        0  \n",
       "2                                   1                                        0  \n",
       "3                                   1                                        0  \n",
       "4                                   0                                        0  \n",
       "\n",
       "[5 rows x 42 columns]"
      ]
     },
     "execution_count": 90,
     "metadata": {},
     "output_type": "execute_result"
    }
   ],
   "source": [
    "dados = pd.get_dummies(data = dados, columns = variaveis_dummy)\n",
    "dados.head()"
   ]
  },
  {
   "cell_type": "markdown",
   "id": "36aae0c6-9d53-447a-80e6-9b69533bd034",
   "metadata": {},
   "source": [
    "# Gerando Perfil da Base de Dados\n",
    "### O perfil dos dados será salvo num documento externo no formato HTML, permitindo sua posterior consulta"
   ]
  },
  {
   "cell_type": "code",
   "execution_count": 53,
   "id": "9237cd5f-fcba-44fc-8762-576fe7e9a1d7",
   "metadata": {},
   "outputs": [
    {
     "data": {
      "application/vnd.jupyter.widget-view+json": {
       "model_id": "fb45a47d36794c8a90c640be0feaf286",
       "version_major": 2,
       "version_minor": 0
      },
      "text/plain": [
       "Summarize dataset:   0%|          | 0/5 [00:00<?, ?it/s]"
      ]
     },
     "metadata": {},
     "output_type": "display_data"
    },
    {
     "data": {
      "application/vnd.jupyter.widget-view+json": {
       "model_id": "72f5f5865e124c028fd17cd34e338ce1",
       "version_major": 2,
       "version_minor": 0
      },
      "text/plain": [
       "Generate report structure:   0%|          | 0/1 [00:00<?, ?it/s]"
      ]
     },
     "metadata": {},
     "output_type": "display_data"
    },
    {
     "data": {
      "application/vnd.jupyter.widget-view+json": {
       "model_id": "22b4638d756c4220b22836cb83006491",
       "version_major": 2,
       "version_minor": 0
      },
      "text/plain": [
       "Render HTML:   0%|          | 0/1 [00:00<?, ?it/s]"
      ]
     },
     "metadata": {},
     "output_type": "display_data"
    },
    {
     "data": {
      "application/vnd.jupyter.widget-view+json": {
       "model_id": "52075e9ffbd34554a8a938223801cfb8",
       "version_major": 2,
       "version_minor": 0
      },
      "text/plain": [
       "Export report to file:   0%|          | 0/1 [00:00<?, ?it/s]"
      ]
     },
     "metadata": {},
     "output_type": "display_data"
    }
   ],
   "source": [
    "perfil_dadosv2 = pandas_profiling.ProfileReport(dados)\n",
    "perfil_dadosv2.to_file('perfil_aluravozv2.html')"
   ]
  },
  {
   "cell_type": "markdown",
   "id": "404bc20a-1410-4547-abea-140f3d514222",
   "metadata": {},
   "source": [
    "# Regressão Logística\n",
    "Vamos treinar o modelo"
   ]
  },
  {
   "cell_type": "code",
   "execution_count": 91,
   "id": "1f7f735f-7f50-4a3b-a1a0-7017889bb918",
   "metadata": {},
   "outputs": [],
   "source": [
    "x = dados.drop(columns = 'churn')\n",
    "y = dados.churn"
   ]
  },
  {
   "cell_type": "code",
   "execution_count": 92,
   "id": "f1886cc5-2c9e-4087-9e01-94a64e4a85f9",
   "metadata": {},
   "outputs": [],
   "source": [
    "SEED = 42\n",
    "x_train, x_test, y_train, y_test = train_test_split(x, y, test_size = 0.25, random_state = SEED)"
   ]
  },
  {
   "cell_type": "code",
   "execution_count": 93,
   "id": "a5356bd2-3c9e-4724-a44e-069115aac77d",
   "metadata": {},
   "outputs": [
    {
     "name": "stdout",
     "output_type": "stream",
     "text": [
      "Acurácia: 0.8165814877910278\n",
      "Precisão: 0.6866485013623979\n",
      "Recall: 0.5478260869565217\n",
      "F1 Score 0.6094316807738815\n"
     ]
    }
   ],
   "source": [
    "lr = LogisticRegression(max_iter = 1000, random_state = SEED)\n",
    "lr.fit(x_train, y_train)\n",
    "y_pred = lr.predict(x_test)\n",
    "\n",
    "print('Acurácia:', metrics.accuracy_score(y_test, y_pred))\n",
    "print('Precisão:', metrics.precision_score(y_test, y_pred))\n",
    "print('Recall:', metrics.recall_score(y_test, y_pred))\n",
    "print('F1 Score', metrics.f1_score(y_test, y_pred))"
   ]
  },
  {
   "cell_type": "markdown",
   "id": "513313ae-3a41-4cbf-a416-17f08d09bbef",
   "metadata": {},
   "source": [
    "## A variável target está balanceada?\n",
    "Não, já tinha sido conferido sua proporção inicialmente, mas através dos resultados obtidos na célula acima, podemos ver seu impacto no modelo. Com isso iremos balancear sua proporção para obtermos melhores resultados no modelo."
   ]
  },
  {
   "cell_type": "code",
   "execution_count": 94,
   "id": "4f96d808-7737-4b0f-b022-d044da674e42",
   "metadata": {},
   "outputs": [
    {
     "data": {
      "text/plain": [
       "<sklearn.metrics._plot.confusion_matrix.ConfusionMatrixDisplay at 0x7fde90ca64a0>"
      ]
     },
     "execution_count": 94,
     "metadata": {},
     "output_type": "execute_result"
    },
    {
     "data": {
      "image/png": "[encoded data removed]",
      "text/plain": [
       "<Figure size 432x288 with 2 Axes>"
      ]
     },
     "metadata": {
      "needs_background": "light"
     },
     "output_type": "display_data"
    }
   ],
   "source": [
    "cm = confusion_matrix(y_test, y_pred)\n",
    "matriz_confusao = ConfusionMatrixDisplay(confusion_matrix = cm)\n",
    "matriz_confusao.plot()"
   ]
  },
  {
   "cell_type": "code",
   "execution_count": 95,
   "id": "d02b3794-fc0f-426a-8ccc-ac502e949d82",
   "metadata": {},
   "outputs": [
    {
     "data": {
      "text/plain": [
       "<matplotlib.legend.Legend at 0x7fde909157e0>"
      ]
     },
     "execution_count": 95,
     "metadata": {},
     "output_type": "execute_result"
    },
    {
     "data": {
      "image/png": "[encoded data removed]",
      "text/plain": [
       "<Figure size 432x288 with 1 Axes>"
      ]
     },
     "metadata": {
      "needs_background": "light"
     },
     "output_type": "display_data"
    }
   ],
   "source": [
    "y_pred_proba = lr.predict_proba(x_test)[::,1]\n",
    "fpr, tpr, _ = metrics.roc_curve(y_test, y_pred_proba)\n",
    "auc = metrics.roc_auc_score(y_test, y_pred_proba)\n",
    "# plt.rcParams['figure.figsize'] = (12., 8.)\n",
    "plt.plot(fpr, tpr, label = 'LR, auc='+str(auc))\n",
    "plt.plot([0,1],[0,1], color = 'red', lw = 2, linestyle='--')\n",
    "plt.legend(loc=4)"
   ]
  },
  {
   "cell_type": "code",
   "execution_count": null,
   "id": "e33b21dd-1ece-4193-aeb4-24bcea85df74",
   "metadata": {},
   "outputs": [],
   "source": []
  }
 ],
 "metadata": {
  "kernelspec": {
   "display_name": "Python 3 (ipykernel)",
   "language": "python",
   "name": "python3"
  },
  "language_info": {
   "codemirror_mode": {
    "name": "ipython",
    "version": 3
   },
   "file_extension": ".py",
   "mimetype": "text/x-python",
   "name": "python",
   "nbconvert_exporter": "python",
   "pygments_lexer": "ipython3",
   "version": "3.10.4"
  }
 },
 "nbformat": 4,
 "nbformat_minor": 5
}
