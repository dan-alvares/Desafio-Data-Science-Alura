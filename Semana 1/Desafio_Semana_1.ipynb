{
 "cells": [
  {
   "cell_type": "code",
   "execution_count": 147,
   "id": "a765e84d-daf5-449c-b24f-45f762cd7c3e",
   "metadata": {},
   "outputs": [],
   "source": [
    "import pandas as pd\n",
    "import matplotlib.pyplot as plt\n",
    "import seaborn as sns\n",
    "%matplotlib inline"
   ]
  },
  {
   "cell_type": "markdown",
   "id": "a9476ad9-4e37-4273-8d45-0b8d9388a882",
   "metadata": {},
   "source": [
    "# Importando base de dados"
   ]
  },
  {
   "cell_type": "markdown",
   "id": "f5680e8c-9e22-4cea-8c8e-3d2021227cfe",
   "metadata": {},
   "source": [
    "## Dicionário de dados\n",
    "\n",
    "#### Cliente:\n",
    "* `gender`: gênero (masculino e feminino) \n",
    "* `SeniorCitizen`: informação sobre um cliente ter ou não idade igual ou maior que 65 anos \n",
    "* `customerID`: número de identificação único de cada cliente\n",
    "* `Partner`:  se o cliente possui ou não um parceiro ou parceira\n",
    "* `Dependents`: se o cliente possui ou não dependentes\n",
    "\n",
    "#### Variável Target:\n",
    "* `Churn`: se o cliente deixou ou não a empresa \n",
    "\n",
    "#### Serviço de Telefonia:\n",
    "* `tenure`:  meses de contrato do cliente\n",
    "* `PhoneService`: assinatura de serviço telefônico \n",
    "* `MultipleLines`: assisnatura de mais de uma linha de telefone \n",
    "\n",
    "#### Serviço de Internet:\n",
    "* `InternetService`: assinatura de um provedor internet \n",
    "* `OnlineSecurity`: assinatura adicional de segurança online \n",
    "* `OnlineBackup`: assinatura adicional de backup online \n",
    "* `DeviceProtection`: assinatura adicional de proteção no dispositivo \n",
    "* `TechSupport`: assinatura adicional de suporte técnico, menos tempo de espera\n",
    "* `StreamingTV`: assinatura de TV a cabo \n",
    "* `StreamingMovies`: assinatura de streaming de filmes \n",
    "\n",
    "#### Contrato:\n",
    "* `Contract`: tipo de contrato\n",
    "* `PaperlessBilling`: se o cliente prefere receber online a fatura\n",
    "* `PaymentMethod`: forma de pagamento\n",
    "* `Charges.Monthly`: total de todos os serviços do cliente por mês\n",
    "* `Charges.Total`: total gasto pelo cliente"
   ]
  },
  {
   "cell_type": "code",
   "execution_count": 148,
   "id": "124a41b5-7a00-4708-999c-bc77afba0c6c",
   "metadata": {},
   "outputs": [],
   "source": [
    "dados = pd.read_json('Telco-Customer-Churn.json')"
   ]
  },
  {
   "cell_type": "markdown",
   "id": "e7ba6c2e-35cb-4723-a154-a478a7c5724f",
   "metadata": {},
   "source": [
    "## Explorando os dados"
   ]
  },
  {
   "cell_type": "code",
   "execution_count": 149,
   "id": "11c9154e-8dea-4ed6-89ae-d0fda9870b88",
   "metadata": {},
   "outputs": [
    {
     "data": {
      "text/html": [
       "<div>\n",
       "<style scoped>\n",
       "    .dataframe tbody tr th:only-of-type {\n",
       "        vertical-align: middle;\n",
       "    }\n",
       "\n",
       "    .dataframe tbody tr th {\n",
       "        vertical-align: top;\n",
       "    }\n",
       "\n",
       "    .dataframe thead th {\n",
       "        text-align: right;\n",
       "    }\n",
       "</style>\n",
       "<table border=\"1\" class=\"dataframe\">\n",
       "  <thead>\n",
       "    <tr style=\"text-align: right;\">\n",
       "      <th></th>\n",
       "      <th>customerID</th>\n",
       "      <th>Churn</th>\n",
       "      <th>customer</th>\n",
       "      <th>phone</th>\n",
       "      <th>internet</th>\n",
       "      <th>account</th>\n",
       "    </tr>\n",
       "  </thead>\n",
       "  <tbody>\n",
       "    <tr>\n",
       "      <th>0</th>\n",
       "      <td>0002-ORFBO</td>\n",
       "      <td>No</td>\n",
       "      <td>{'gender': 'Female', 'SeniorCitizen': 0, 'Part...</td>\n",
       "      <td>{'PhoneService': 'Yes', 'MultipleLines': 'No'}</td>\n",
       "      <td>{'InternetService': 'DSL', 'OnlineSecurity': '...</td>\n",
       "      <td>{'Contract': 'One year', 'PaperlessBilling': '...</td>\n",
       "    </tr>\n",
       "    <tr>\n",
       "      <th>1</th>\n",
       "      <td>0003-MKNFE</td>\n",
       "      <td>No</td>\n",
       "      <td>{'gender': 'Male', 'SeniorCitizen': 0, 'Partne...</td>\n",
       "      <td>{'PhoneService': 'Yes', 'MultipleLines': 'Yes'}</td>\n",
       "      <td>{'InternetService': 'DSL', 'OnlineSecurity': '...</td>\n",
       "      <td>{'Contract': 'Month-to-month', 'PaperlessBilli...</td>\n",
       "    </tr>\n",
       "    <tr>\n",
       "      <th>2</th>\n",
       "      <td>0004-TLHLJ</td>\n",
       "      <td>Yes</td>\n",
       "      <td>{'gender': 'Male', 'SeniorCitizen': 0, 'Partne...</td>\n",
       "      <td>{'PhoneService': 'Yes', 'MultipleLines': 'No'}</td>\n",
       "      <td>{'InternetService': 'Fiber optic', 'OnlineSecu...</td>\n",
       "      <td>{'Contract': 'Month-to-month', 'PaperlessBilli...</td>\n",
       "    </tr>\n",
       "    <tr>\n",
       "      <th>3</th>\n",
       "      <td>0011-IGKFF</td>\n",
       "      <td>Yes</td>\n",
       "      <td>{'gender': 'Male', 'SeniorCitizen': 1, 'Partne...</td>\n",
       "      <td>{'PhoneService': 'Yes', 'MultipleLines': 'No'}</td>\n",
       "      <td>{'InternetService': 'Fiber optic', 'OnlineSecu...</td>\n",
       "      <td>{'Contract': 'Month-to-month', 'PaperlessBilli...</td>\n",
       "    </tr>\n",
       "    <tr>\n",
       "      <th>4</th>\n",
       "      <td>0013-EXCHZ</td>\n",
       "      <td>Yes</td>\n",
       "      <td>{'gender': 'Female', 'SeniorCitizen': 1, 'Part...</td>\n",
       "      <td>{'PhoneService': 'Yes', 'MultipleLines': 'No'}</td>\n",
       "      <td>{'InternetService': 'Fiber optic', 'OnlineSecu...</td>\n",
       "      <td>{'Contract': 'Month-to-month', 'PaperlessBilli...</td>\n",
       "    </tr>\n",
       "  </tbody>\n",
       "</table>\n",
       "</div>"
      ],
      "text/plain": [
       "   customerID Churn                                           customer  \\\n",
       "0  0002-ORFBO    No  {'gender': 'Female', 'SeniorCitizen': 0, 'Part...   \n",
       "1  0003-MKNFE    No  {'gender': 'Male', 'SeniorCitizen': 0, 'Partne...   \n",
       "2  0004-TLHLJ   Yes  {'gender': 'Male', 'SeniorCitizen': 0, 'Partne...   \n",
       "3  0011-IGKFF   Yes  {'gender': 'Male', 'SeniorCitizen': 1, 'Partne...   \n",
       "4  0013-EXCHZ   Yes  {'gender': 'Female', 'SeniorCitizen': 1, 'Part...   \n",
       "\n",
       "                                             phone  \\\n",
       "0   {'PhoneService': 'Yes', 'MultipleLines': 'No'}   \n",
       "1  {'PhoneService': 'Yes', 'MultipleLines': 'Yes'}   \n",
       "2   {'PhoneService': 'Yes', 'MultipleLines': 'No'}   \n",
       "3   {'PhoneService': 'Yes', 'MultipleLines': 'No'}   \n",
       "4   {'PhoneService': 'Yes', 'MultipleLines': 'No'}   \n",
       "\n",
       "                                            internet  \\\n",
       "0  {'InternetService': 'DSL', 'OnlineSecurity': '...   \n",
       "1  {'InternetService': 'DSL', 'OnlineSecurity': '...   \n",
       "2  {'InternetService': 'Fiber optic', 'OnlineSecu...   \n",
       "3  {'InternetService': 'Fiber optic', 'OnlineSecu...   \n",
       "4  {'InternetService': 'Fiber optic', 'OnlineSecu...   \n",
       "\n",
       "                                             account  \n",
       "0  {'Contract': 'One year', 'PaperlessBilling': '...  \n",
       "1  {'Contract': 'Month-to-month', 'PaperlessBilli...  \n",
       "2  {'Contract': 'Month-to-month', 'PaperlessBilli...  \n",
       "3  {'Contract': 'Month-to-month', 'PaperlessBilli...  \n",
       "4  {'Contract': 'Month-to-month', 'PaperlessBilli...  "
      ]
     },
     "execution_count": 149,
     "metadata": {},
     "output_type": "execute_result"
    }
   ],
   "source": [
    "dados.head()"
   ]
  },
  {
   "cell_type": "code",
   "execution_count": 150,
   "id": "ebac819a-b489-4e01-a7b5-08dcbe91cad7",
   "metadata": {},
   "outputs": [
    {
     "data": {
      "text/html": [
       "<div>\n",
       "<style scoped>\n",
       "    .dataframe tbody tr th:only-of-type {\n",
       "        vertical-align: middle;\n",
       "    }\n",
       "\n",
       "    .dataframe tbody tr th {\n",
       "        vertical-align: top;\n",
       "    }\n",
       "\n",
       "    .dataframe thead th {\n",
       "        text-align: right;\n",
       "    }\n",
       "</style>\n",
       "<table border=\"1\" class=\"dataframe\">\n",
       "  <thead>\n",
       "    <tr style=\"text-align: right;\">\n",
       "      <th></th>\n",
       "      <th>customerID</th>\n",
       "      <th>Churn</th>\n",
       "      <th>customer</th>\n",
       "      <th>phone</th>\n",
       "      <th>internet</th>\n",
       "      <th>account</th>\n",
       "    </tr>\n",
       "  </thead>\n",
       "  <tbody>\n",
       "    <tr>\n",
       "      <th>7262</th>\n",
       "      <td>9987-LUTYD</td>\n",
       "      <td>No</td>\n",
       "      <td>{'gender': 'Female', 'SeniorCitizen': 0, 'Part...</td>\n",
       "      <td>{'PhoneService': 'Yes', 'MultipleLines': 'No'}</td>\n",
       "      <td>{'InternetService': 'DSL', 'OnlineSecurity': '...</td>\n",
       "      <td>{'Contract': 'One year', 'PaperlessBilling': '...</td>\n",
       "    </tr>\n",
       "    <tr>\n",
       "      <th>7263</th>\n",
       "      <td>9992-RRAMN</td>\n",
       "      <td>Yes</td>\n",
       "      <td>{'gender': 'Male', 'SeniorCitizen': 0, 'Partne...</td>\n",
       "      <td>{'PhoneService': 'Yes', 'MultipleLines': 'Yes'}</td>\n",
       "      <td>{'InternetService': 'Fiber optic', 'OnlineSecu...</td>\n",
       "      <td>{'Contract': 'Month-to-month', 'PaperlessBilli...</td>\n",
       "    </tr>\n",
       "    <tr>\n",
       "      <th>7264</th>\n",
       "      <td>9992-UJOEL</td>\n",
       "      <td>No</td>\n",
       "      <td>{'gender': 'Male', 'SeniorCitizen': 0, 'Partne...</td>\n",
       "      <td>{'PhoneService': 'Yes', 'MultipleLines': 'No'}</td>\n",
       "      <td>{'InternetService': 'DSL', 'OnlineSecurity': '...</td>\n",
       "      <td>{'Contract': 'Month-to-month', 'PaperlessBilli...</td>\n",
       "    </tr>\n",
       "    <tr>\n",
       "      <th>7265</th>\n",
       "      <td>9993-LHIEB</td>\n",
       "      <td>No</td>\n",
       "      <td>{'gender': 'Male', 'SeniorCitizen': 0, 'Partne...</td>\n",
       "      <td>{'PhoneService': 'Yes', 'MultipleLines': 'No'}</td>\n",
       "      <td>{'InternetService': 'DSL', 'OnlineSecurity': '...</td>\n",
       "      <td>{'Contract': 'Two year', 'PaperlessBilling': '...</td>\n",
       "    </tr>\n",
       "    <tr>\n",
       "      <th>7266</th>\n",
       "      <td>9995-HOTOH</td>\n",
       "      <td>No</td>\n",
       "      <td>{'gender': 'Male', 'SeniorCitizen': 0, 'Partne...</td>\n",
       "      <td>{'PhoneService': 'No', 'MultipleLines': 'No ph...</td>\n",
       "      <td>{'InternetService': 'DSL', 'OnlineSecurity': '...</td>\n",
       "      <td>{'Contract': 'Two year', 'PaperlessBilling': '...</td>\n",
       "    </tr>\n",
       "  </tbody>\n",
       "</table>\n",
       "</div>"
      ],
      "text/plain": [
       "      customerID Churn                                           customer  \\\n",
       "7262  9987-LUTYD    No  {'gender': 'Female', 'SeniorCitizen': 0, 'Part...   \n",
       "7263  9992-RRAMN   Yes  {'gender': 'Male', 'SeniorCitizen': 0, 'Partne...   \n",
       "7264  9992-UJOEL    No  {'gender': 'Male', 'SeniorCitizen': 0, 'Partne...   \n",
       "7265  9993-LHIEB    No  {'gender': 'Male', 'SeniorCitizen': 0, 'Partne...   \n",
       "7266  9995-HOTOH    No  {'gender': 'Male', 'SeniorCitizen': 0, 'Partne...   \n",
       "\n",
       "                                                  phone  \\\n",
       "7262     {'PhoneService': 'Yes', 'MultipleLines': 'No'}   \n",
       "7263    {'PhoneService': 'Yes', 'MultipleLines': 'Yes'}   \n",
       "7264     {'PhoneService': 'Yes', 'MultipleLines': 'No'}   \n",
       "7265     {'PhoneService': 'Yes', 'MultipleLines': 'No'}   \n",
       "7266  {'PhoneService': 'No', 'MultipleLines': 'No ph...   \n",
       "\n",
       "                                               internet  \\\n",
       "7262  {'InternetService': 'DSL', 'OnlineSecurity': '...   \n",
       "7263  {'InternetService': 'Fiber optic', 'OnlineSecu...   \n",
       "7264  {'InternetService': 'DSL', 'OnlineSecurity': '...   \n",
       "7265  {'InternetService': 'DSL', 'OnlineSecurity': '...   \n",
       "7266  {'InternetService': 'DSL', 'OnlineSecurity': '...   \n",
       "\n",
       "                                                account  \n",
       "7262  {'Contract': 'One year', 'PaperlessBilling': '...  \n",
       "7263  {'Contract': 'Month-to-month', 'PaperlessBilli...  \n",
       "7264  {'Contract': 'Month-to-month', 'PaperlessBilli...  \n",
       "7265  {'Contract': 'Two year', 'PaperlessBilling': '...  \n",
       "7266  {'Contract': 'Two year', 'PaperlessBilling': '...  "
      ]
     },
     "execution_count": 150,
     "metadata": {},
     "output_type": "execute_result"
    }
   ],
   "source": [
    "dados.tail()"
   ]
  },
  {
   "cell_type": "markdown",
   "id": "f736e27d-5fb7-4d0d-85d0-5cb12b72b21a",
   "metadata": {},
   "source": [
    "## Observação sobre os dados originais:\n",
    "Percebe-se que as colunas `customer`, `phone`, `internet`, `account` possuem vários valores dentro de chaves, impossibilitando sua análise imediata da tabela original. Tais colunas precisarão ser exploradas individualmente e anexadas num novo dataframe."
   ]
  },
  {
   "cell_type": "markdown",
   "id": "9cabf276-eeb9-4726-b63c-5a5c416e6e21",
   "metadata": {
    "tags": []
   },
   "source": [
    "# Vamos traduzir e padronizar os rótulos do Data Frame"
   ]
  },
  {
   "cell_type": "code",
   "execution_count": 151,
   "id": "f37f4989-7ec3-40d5-bbb1-cd6988cb9761",
   "metadata": {},
   "outputs": [
    {
     "data": {
      "text/html": [
       "<div>\n",
       "<style scoped>\n",
       "    .dataframe tbody tr th:only-of-type {\n",
       "        vertical-align: middle;\n",
       "    }\n",
       "\n",
       "    .dataframe tbody tr th {\n",
       "        vertical-align: top;\n",
       "    }\n",
       "\n",
       "    .dataframe thead th {\n",
       "        text-align: right;\n",
       "    }\n",
       "</style>\n",
       "<table border=\"1\" class=\"dataframe\">\n",
       "  <thead>\n",
       "    <tr style=\"text-align: right;\">\n",
       "      <th></th>\n",
       "      <th>cliente_id</th>\n",
       "      <th>churn</th>\n",
       "      <th>dados_cliente</th>\n",
       "      <th>servicos_telefone</th>\n",
       "      <th>servicos_internet</th>\n",
       "      <th>detalhes_contrato</th>\n",
       "    </tr>\n",
       "  </thead>\n",
       "  <tbody>\n",
       "    <tr>\n",
       "      <th>0</th>\n",
       "      <td>0002-ORFBO</td>\n",
       "      <td>No</td>\n",
       "      <td>{'gender': 'Female', 'SeniorCitizen': 0, 'Part...</td>\n",
       "      <td>{'PhoneService': 'Yes', 'MultipleLines': 'No'}</td>\n",
       "      <td>{'InternetService': 'DSL', 'OnlineSecurity': '...</td>\n",
       "      <td>{'Contract': 'One year', 'PaperlessBilling': '...</td>\n",
       "    </tr>\n",
       "    <tr>\n",
       "      <th>1</th>\n",
       "      <td>0003-MKNFE</td>\n",
       "      <td>No</td>\n",
       "      <td>{'gender': 'Male', 'SeniorCitizen': 0, 'Partne...</td>\n",
       "      <td>{'PhoneService': 'Yes', 'MultipleLines': 'Yes'}</td>\n",
       "      <td>{'InternetService': 'DSL', 'OnlineSecurity': '...</td>\n",
       "      <td>{'Contract': 'Month-to-month', 'PaperlessBilli...</td>\n",
       "    </tr>\n",
       "    <tr>\n",
       "      <th>2</th>\n",
       "      <td>0004-TLHLJ</td>\n",
       "      <td>Yes</td>\n",
       "      <td>{'gender': 'Male', 'SeniorCitizen': 0, 'Partne...</td>\n",
       "      <td>{'PhoneService': 'Yes', 'MultipleLines': 'No'}</td>\n",
       "      <td>{'InternetService': 'Fiber optic', 'OnlineSecu...</td>\n",
       "      <td>{'Contract': 'Month-to-month', 'PaperlessBilli...</td>\n",
       "    </tr>\n",
       "    <tr>\n",
       "      <th>3</th>\n",
       "      <td>0011-IGKFF</td>\n",
       "      <td>Yes</td>\n",
       "      <td>{'gender': 'Male', 'SeniorCitizen': 1, 'Partne...</td>\n",
       "      <td>{'PhoneService': 'Yes', 'MultipleLines': 'No'}</td>\n",
       "      <td>{'InternetService': 'Fiber optic', 'OnlineSecu...</td>\n",
       "      <td>{'Contract': 'Month-to-month', 'PaperlessBilli...</td>\n",
       "    </tr>\n",
       "    <tr>\n",
       "      <th>4</th>\n",
       "      <td>0013-EXCHZ</td>\n",
       "      <td>Yes</td>\n",
       "      <td>{'gender': 'Female', 'SeniorCitizen': 1, 'Part...</td>\n",
       "      <td>{'PhoneService': 'Yes', 'MultipleLines': 'No'}</td>\n",
       "      <td>{'InternetService': 'Fiber optic', 'OnlineSecu...</td>\n",
       "      <td>{'Contract': 'Month-to-month', 'PaperlessBilli...</td>\n",
       "    </tr>\n",
       "  </tbody>\n",
       "</table>\n",
       "</div>"
      ],
      "text/plain": [
       "   cliente_id churn                                      dados_cliente  \\\n",
       "0  0002-ORFBO    No  {'gender': 'Female', 'SeniorCitizen': 0, 'Part...   \n",
       "1  0003-MKNFE    No  {'gender': 'Male', 'SeniorCitizen': 0, 'Partne...   \n",
       "2  0004-TLHLJ   Yes  {'gender': 'Male', 'SeniorCitizen': 0, 'Partne...   \n",
       "3  0011-IGKFF   Yes  {'gender': 'Male', 'SeniorCitizen': 1, 'Partne...   \n",
       "4  0013-EXCHZ   Yes  {'gender': 'Female', 'SeniorCitizen': 1, 'Part...   \n",
       "\n",
       "                                 servicos_telefone  \\\n",
       "0   {'PhoneService': 'Yes', 'MultipleLines': 'No'}   \n",
       "1  {'PhoneService': 'Yes', 'MultipleLines': 'Yes'}   \n",
       "2   {'PhoneService': 'Yes', 'MultipleLines': 'No'}   \n",
       "3   {'PhoneService': 'Yes', 'MultipleLines': 'No'}   \n",
       "4   {'PhoneService': 'Yes', 'MultipleLines': 'No'}   \n",
       "\n",
       "                                   servicos_internet  \\\n",
       "0  {'InternetService': 'DSL', 'OnlineSecurity': '...   \n",
       "1  {'InternetService': 'DSL', 'OnlineSecurity': '...   \n",
       "2  {'InternetService': 'Fiber optic', 'OnlineSecu...   \n",
       "3  {'InternetService': 'Fiber optic', 'OnlineSecu...   \n",
       "4  {'InternetService': 'Fiber optic', 'OnlineSecu...   \n",
       "\n",
       "                                   detalhes_contrato  \n",
       "0  {'Contract': 'One year', 'PaperlessBilling': '...  \n",
       "1  {'Contract': 'Month-to-month', 'PaperlessBilli...  \n",
       "2  {'Contract': 'Month-to-month', 'PaperlessBilli...  \n",
       "3  {'Contract': 'Month-to-month', 'PaperlessBilli...  \n",
       "4  {'Contract': 'Month-to-month', 'PaperlessBilli...  "
      ]
     },
     "execution_count": 151,
     "metadata": {},
     "output_type": "execute_result"
    }
   ],
   "source": [
    "rotulos_df = {'customerID': 'cliente_id', 'Churn': 'churn', 'customer': 'dados_cliente', 'phone': 'servicos_telefone', 'internet': 'servicos_internet','account': 'detalhes_contrato'}\n",
    "dados.rename(columns = rotulos_df, inplace = True)\n",
    "dados.head()"
   ]
  },
  {
   "cell_type": "code",
   "execution_count": 152,
   "id": "cde569cd-2255-454f-b05f-79b758e50ab8",
   "metadata": {},
   "outputs": [
    {
     "data": {
      "text/plain": [
       "array(['0002-ORFBO', '0003-MKNFE', '0004-TLHLJ', ..., '9992-UJOEL',\n",
       "       '9993-LHIEB', '9995-HOTOH'], dtype=object)"
      ]
     },
     "execution_count": 152,
     "metadata": {},
     "output_type": "execute_result"
    }
   ],
   "source": [
    "dados.cliente_id.unique()"
   ]
  },
  {
   "cell_type": "code",
   "execution_count": 153,
   "id": "6fc0b7b0-a1a1-46bf-97a2-985d4a920355",
   "metadata": {},
   "outputs": [
    {
     "data": {
      "text/plain": [
       "0002-ORFBO    1\n",
       "6614-VBEGU    1\n",
       "6637-KYRCV    1\n",
       "6635-MYYYZ    1\n",
       "6635-CPNUN    1\n",
       "             ..\n",
       "3374-TTZTK    1\n",
       "3374-PZLXD    1\n",
       "3374-LXDEV    1\n",
       "3373-YZZYM    1\n",
       "9995-HOTOH    1\n",
       "Name: cliente_id, Length: 7267, dtype: int64"
      ]
     },
     "execution_count": 153,
     "metadata": {},
     "output_type": "execute_result"
    }
   ],
   "source": [
    "dados.cliente_id.value_counts()"
   ]
  },
  {
   "cell_type": "code",
   "execution_count": 154,
   "id": "122e09d1-eeb9-4807-9b65-96db2f53bc22",
   "metadata": {},
   "outputs": [
    {
     "data": {
      "text/plain": [
       "array(['No', 'Yes', ''], dtype=object)"
      ]
     },
     "execution_count": 154,
     "metadata": {},
     "output_type": "execute_result"
    }
   ],
   "source": [
    "dados.churn.unique()"
   ]
  },
  {
   "cell_type": "code",
   "execution_count": 155,
   "id": "5a7b05c6-c927-4a01-bf39-0ea9e0ac9957",
   "metadata": {},
   "outputs": [
    {
     "data": {
      "text/plain": [
       "No     71.198569\n",
       "Yes    25.719004\n",
       "        3.082427\n",
       "Name: churn, dtype: float64"
      ]
     },
     "execution_count": 155,
     "metadata": {},
     "output_type": "execute_result"
    }
   ],
   "source": [
    "dados.churn.value_counts(normalize = True) * 100"
   ]
  },
  {
   "cell_type": "code",
   "execution_count": 156,
   "id": "17f56591-ce9b-4379-8273-c2b5b5989952",
   "metadata": {},
   "outputs": [
    {
     "data": {
      "text/plain": [
       "{'gender': 'Female',\n",
       " 'SeniorCitizen': 0,\n",
       " 'Partner': 'Yes',\n",
       " 'Dependents': 'Yes',\n",
       " 'tenure': 9}"
      ]
     },
     "execution_count": 156,
     "metadata": {},
     "output_type": "execute_result"
    }
   ],
   "source": [
    "dados.dados_cliente[0]"
   ]
  },
  {
   "cell_type": "code",
   "execution_count": 157,
   "id": "c40aa6b2-3b85-415d-af8c-3f1b8fea372e",
   "metadata": {},
   "outputs": [
    {
     "data": {
      "text/plain": [
       "{'PhoneService': 'Yes', 'MultipleLines': 'No'}"
      ]
     },
     "execution_count": 157,
     "metadata": {},
     "output_type": "execute_result"
    }
   ],
   "source": [
    "dados.servicos_telefone[0]"
   ]
  },
  {
   "cell_type": "code",
   "execution_count": 158,
   "id": "ff1267e9-297f-4bda-bc85-2505fc7fe0d0",
   "metadata": {},
   "outputs": [
    {
     "data": {
      "text/plain": [
       "{'InternetService': 'DSL',\n",
       " 'OnlineSecurity': 'No',\n",
       " 'OnlineBackup': 'Yes',\n",
       " 'DeviceProtection': 'No',\n",
       " 'TechSupport': 'Yes',\n",
       " 'StreamingTV': 'Yes',\n",
       " 'StreamingMovies': 'No'}"
      ]
     },
     "execution_count": 158,
     "metadata": {},
     "output_type": "execute_result"
    }
   ],
   "source": [
    "dados.servicos_internet[0]"
   ]
  },
  {
   "cell_type": "code",
   "execution_count": 159,
   "id": "8283eca1-4e3c-463d-8bc3-ed90be1dd4c5",
   "metadata": {},
   "outputs": [
    {
     "data": {
      "text/plain": [
       "{'Contract': 'One year',\n",
       " 'PaperlessBilling': 'Yes',\n",
       " 'PaymentMethod': 'Mailed check',\n",
       " 'Charges': {'Monthly': 65.6, 'Total': '593.3'}}"
      ]
     },
     "execution_count": 159,
     "metadata": {},
     "output_type": "execute_result"
    }
   ],
   "source": [
    "dados.detalhes_contrato[0]"
   ]
  },
  {
   "cell_type": "markdown",
   "id": "baae8088-56f9-4681-bf84-6b2e1134c8bb",
   "metadata": {},
   "source": [
    "Os dados estão dispostos dentro de chaves, configurando dicionários (chave: valor). Estes serão explorados separadamente, constituindo novas colunas."
   ]
  },
  {
   "cell_type": "code",
   "execution_count": 160,
   "id": "bac192f6-5f3c-4b9e-9958-484008484bc0",
   "metadata": {},
   "outputs": [
    {
     "name": "stdout",
     "output_type": "stream",
     "text": [
      "<class 'pandas.core.frame.DataFrame'>\n",
      "RangeIndex: 7267 entries, 0 to 7266\n",
      "Data columns (total 6 columns):\n",
      " #   Column             Non-Null Count  Dtype \n",
      "---  ------             --------------  ----- \n",
      " 0   cliente_id         7267 non-null   object\n",
      " 1   churn              7267 non-null   object\n",
      " 2   dados_cliente      7267 non-null   object\n",
      " 3   servicos_telefone  7267 non-null   object\n",
      " 4   servicos_internet  7267 non-null   object\n",
      " 5   detalhes_contrato  7267 non-null   object\n",
      "dtypes: object(6)\n",
      "memory usage: 340.8+ KB\n"
     ]
    }
   ],
   "source": [
    "dados.info()"
   ]
  },
  {
   "cell_type": "markdown",
   "id": "300212f5-0589-4e44-9e4b-589ca70ec934",
   "metadata": {},
   "source": [
    "# Observação\n",
    "Todas as 7267 entradas da base de dados não são nulas mas ainda podem existir inconsistências."
   ]
  },
  {
   "cell_type": "markdown",
   "id": "aeb6fee9-4d44-4d24-928d-c22d3b0e2840",
   "metadata": {},
   "source": [
    "## Traduzindo e padronizando os valores de churn\n",
    "Tais traduções serão realizadas para os demais campos de valores da base de dados"
   ]
  },
  {
   "cell_type": "code",
   "execution_count": 161,
   "id": "c21658fa-0dcd-477f-bab4-4c02ac09f3b2",
   "metadata": {},
   "outputs": [
    {
     "data": {
      "text/plain": [
       "array(['No', 'Yes', ''], dtype=object)"
      ]
     },
     "execution_count": 161,
     "metadata": {},
     "output_type": "execute_result"
    }
   ],
   "source": [
    "dados.churn.unique()"
   ]
  },
  {
   "cell_type": "code",
   "execution_count": 162,
   "id": "ec1dccd0-6f6e-448a-a350-95aa5e9da8bc",
   "metadata": {},
   "outputs": [
    {
     "data": {
      "text/html": [
       "<div>\n",
       "<style scoped>\n",
       "    .dataframe tbody tr th:only-of-type {\n",
       "        vertical-align: middle;\n",
       "    }\n",
       "\n",
       "    .dataframe tbody tr th {\n",
       "        vertical-align: top;\n",
       "    }\n",
       "\n",
       "    .dataframe thead th {\n",
       "        text-align: right;\n",
       "    }\n",
       "</style>\n",
       "<table border=\"1\" class=\"dataframe\">\n",
       "  <thead>\n",
       "    <tr style=\"text-align: right;\">\n",
       "      <th></th>\n",
       "      <th>cliente_id</th>\n",
       "      <th>churn</th>\n",
       "      <th>dados_cliente</th>\n",
       "      <th>servicos_telefone</th>\n",
       "      <th>servicos_internet</th>\n",
       "      <th>detalhes_contrato</th>\n",
       "    </tr>\n",
       "  </thead>\n",
       "  <tbody>\n",
       "    <tr>\n",
       "      <th>0</th>\n",
       "      <td>0002-ORFBO</td>\n",
       "      <td>Não</td>\n",
       "      <td>{'gender': 'Female', 'SeniorCitizen': 0, 'Part...</td>\n",
       "      <td>{'PhoneService': 'Yes', 'MultipleLines': 'No'}</td>\n",
       "      <td>{'InternetService': 'DSL', 'OnlineSecurity': '...</td>\n",
       "      <td>{'Contract': 'One year', 'PaperlessBilling': '...</td>\n",
       "    </tr>\n",
       "    <tr>\n",
       "      <th>1</th>\n",
       "      <td>0003-MKNFE</td>\n",
       "      <td>Não</td>\n",
       "      <td>{'gender': 'Male', 'SeniorCitizen': 0, 'Partne...</td>\n",
       "      <td>{'PhoneService': 'Yes', 'MultipleLines': 'Yes'}</td>\n",
       "      <td>{'InternetService': 'DSL', 'OnlineSecurity': '...</td>\n",
       "      <td>{'Contract': 'Month-to-month', 'PaperlessBilli...</td>\n",
       "    </tr>\n",
       "    <tr>\n",
       "      <th>2</th>\n",
       "      <td>0004-TLHLJ</td>\n",
       "      <td>Sim</td>\n",
       "      <td>{'gender': 'Male', 'SeniorCitizen': 0, 'Partne...</td>\n",
       "      <td>{'PhoneService': 'Yes', 'MultipleLines': 'No'}</td>\n",
       "      <td>{'InternetService': 'Fiber optic', 'OnlineSecu...</td>\n",
       "      <td>{'Contract': 'Month-to-month', 'PaperlessBilli...</td>\n",
       "    </tr>\n",
       "    <tr>\n",
       "      <th>3</th>\n",
       "      <td>0011-IGKFF</td>\n",
       "      <td>Sim</td>\n",
       "      <td>{'gender': 'Male', 'SeniorCitizen': 1, 'Partne...</td>\n",
       "      <td>{'PhoneService': 'Yes', 'MultipleLines': 'No'}</td>\n",
       "      <td>{'InternetService': 'Fiber optic', 'OnlineSecu...</td>\n",
       "      <td>{'Contract': 'Month-to-month', 'PaperlessBilli...</td>\n",
       "    </tr>\n",
       "    <tr>\n",
       "      <th>4</th>\n",
       "      <td>0013-EXCHZ</td>\n",
       "      <td>Sim</td>\n",
       "      <td>{'gender': 'Female', 'SeniorCitizen': 1, 'Part...</td>\n",
       "      <td>{'PhoneService': 'Yes', 'MultipleLines': 'No'}</td>\n",
       "      <td>{'InternetService': 'Fiber optic', 'OnlineSecu...</td>\n",
       "      <td>{'Contract': 'Month-to-month', 'PaperlessBilli...</td>\n",
       "    </tr>\n",
       "  </tbody>\n",
       "</table>\n",
       "</div>"
      ],
      "text/plain": [
       "   cliente_id churn                                      dados_cliente  \\\n",
       "0  0002-ORFBO   Não  {'gender': 'Female', 'SeniorCitizen': 0, 'Part...   \n",
       "1  0003-MKNFE   Não  {'gender': 'Male', 'SeniorCitizen': 0, 'Partne...   \n",
       "2  0004-TLHLJ   Sim  {'gender': 'Male', 'SeniorCitizen': 0, 'Partne...   \n",
       "3  0011-IGKFF   Sim  {'gender': 'Male', 'SeniorCitizen': 1, 'Partne...   \n",
       "4  0013-EXCHZ   Sim  {'gender': 'Female', 'SeniorCitizen': 1, 'Part...   \n",
       "\n",
       "                                 servicos_telefone  \\\n",
       "0   {'PhoneService': 'Yes', 'MultipleLines': 'No'}   \n",
       "1  {'PhoneService': 'Yes', 'MultipleLines': 'Yes'}   \n",
       "2   {'PhoneService': 'Yes', 'MultipleLines': 'No'}   \n",
       "3   {'PhoneService': 'Yes', 'MultipleLines': 'No'}   \n",
       "4   {'PhoneService': 'Yes', 'MultipleLines': 'No'}   \n",
       "\n",
       "                                   servicos_internet  \\\n",
       "0  {'InternetService': 'DSL', 'OnlineSecurity': '...   \n",
       "1  {'InternetService': 'DSL', 'OnlineSecurity': '...   \n",
       "2  {'InternetService': 'Fiber optic', 'OnlineSecu...   \n",
       "3  {'InternetService': 'Fiber optic', 'OnlineSecu...   \n",
       "4  {'InternetService': 'Fiber optic', 'OnlineSecu...   \n",
       "\n",
       "                                   detalhes_contrato  \n",
       "0  {'Contract': 'One year', 'PaperlessBilling': '...  \n",
       "1  {'Contract': 'Month-to-month', 'PaperlessBilli...  \n",
       "2  {'Contract': 'Month-to-month', 'PaperlessBilli...  \n",
       "3  {'Contract': 'Month-to-month', 'PaperlessBilli...  \n",
       "4  {'Contract': 'Month-to-month', 'PaperlessBilli...  "
      ]
     },
     "execution_count": 162,
     "metadata": {},
     "output_type": "execute_result"
    }
   ],
   "source": [
    "churn_traducao = {'No': 'Não', 'Yes': 'Sim'}\n",
    "dados.churn.replace(churn_traducao, inplace = True)\n",
    "dados.head()"
   ]
  },
  {
   "cell_type": "code",
   "execution_count": 163,
   "id": "55d45d81-bfd3-4eca-9d10-d9eee7fa1184",
   "metadata": {},
   "outputs": [
    {
     "data": {
      "text/plain": [
       "Não    71.198569\n",
       "Sim    25.719004\n",
       "        3.082427\n",
       "Name: churn, dtype: float64"
      ]
     },
     "execution_count": 163,
     "metadata": {},
     "output_type": "execute_result"
    }
   ],
   "source": [
    "dados.churn.value_counts(normalize = True) * 100"
   ]
  },
  {
   "cell_type": "markdown",
   "id": "5b0e6bb3-c656-4335-b2de-fa4384f375c3",
   "metadata": {
    "tags": []
   },
   "source": [
    "## Observação\n",
    "Aproximadamente 3% das entradas de dados apresentam problemas na coluna churn, sendo assim, deverão ser tratadas posteriormente."
   ]
  },
  {
   "cell_type": "code",
   "execution_count": 164,
   "id": "daea4acd-4dff-4ecb-9dd9-9741960be670",
   "metadata": {},
   "outputs": [
    {
     "data": {
      "text/plain": [
       "(7267, 6)"
      ]
     },
     "execution_count": 164,
     "metadata": {},
     "output_type": "execute_result"
    }
   ],
   "source": [
    "dados.shape"
   ]
  },
  {
   "cell_type": "markdown",
   "id": "f161d595-4ee4-45ea-9d8b-66cf81bf52ad",
   "metadata": {},
   "source": [
    "## Agora vamos normalizar as demais colunas do Data Frame\n",
    "### Iniciando com dados_cliente"
   ]
  },
  {
   "cell_type": "code",
   "execution_count": 165,
   "id": "e3d3bea2-2e37-470c-b2ab-71002efa904d",
   "metadata": {},
   "outputs": [
    {
     "data": {
      "text/html": [
       "<div>\n",
       "<style scoped>\n",
       "    .dataframe tbody tr th:only-of-type {\n",
       "        vertical-align: middle;\n",
       "    }\n",
       "\n",
       "    .dataframe tbody tr th {\n",
       "        vertical-align: top;\n",
       "    }\n",
       "\n",
       "    .dataframe thead th {\n",
       "        text-align: right;\n",
       "    }\n",
       "</style>\n",
       "<table border=\"1\" class=\"dataframe\">\n",
       "  <thead>\n",
       "    <tr style=\"text-align: right;\">\n",
       "      <th></th>\n",
       "      <th>genero</th>\n",
       "      <th>idoso</th>\n",
       "      <th>casado</th>\n",
       "      <th>dependentes</th>\n",
       "      <th>duracao_contrato</th>\n",
       "    </tr>\n",
       "  </thead>\n",
       "  <tbody>\n",
       "    <tr>\n",
       "      <th>0</th>\n",
       "      <td>Female</td>\n",
       "      <td>0</td>\n",
       "      <td>Yes</td>\n",
       "      <td>Yes</td>\n",
       "      <td>9</td>\n",
       "    </tr>\n",
       "    <tr>\n",
       "      <th>1</th>\n",
       "      <td>Male</td>\n",
       "      <td>0</td>\n",
       "      <td>No</td>\n",
       "      <td>No</td>\n",
       "      <td>9</td>\n",
       "    </tr>\n",
       "    <tr>\n",
       "      <th>2</th>\n",
       "      <td>Male</td>\n",
       "      <td>0</td>\n",
       "      <td>No</td>\n",
       "      <td>No</td>\n",
       "      <td>4</td>\n",
       "    </tr>\n",
       "    <tr>\n",
       "      <th>3</th>\n",
       "      <td>Male</td>\n",
       "      <td>1</td>\n",
       "      <td>Yes</td>\n",
       "      <td>No</td>\n",
       "      <td>13</td>\n",
       "    </tr>\n",
       "    <tr>\n",
       "      <th>4</th>\n",
       "      <td>Female</td>\n",
       "      <td>1</td>\n",
       "      <td>Yes</td>\n",
       "      <td>No</td>\n",
       "      <td>3</td>\n",
       "    </tr>\n",
       "  </tbody>\n",
       "</table>\n",
       "</div>"
      ],
      "text/plain": [
       "   genero  idoso casado dependentes  duracao_contrato\n",
       "0  Female      0    Yes         Yes                 9\n",
       "1    Male      0     No          No                 9\n",
       "2    Male      0     No          No                 4\n",
       "3    Male      1    Yes          No                13\n",
       "4  Female      1    Yes          No                 3"
      ]
     },
     "execution_count": 165,
     "metadata": {},
     "output_type": "execute_result"
    }
   ],
   "source": [
    "dados_cliente = pd.json_normalize(dados.dados_cliente)\n",
    "clientes_rotulos = {'gender': 'genero', 'SeniorCitizen': 'idoso', 'Partner': 'casado', 'Dependents': 'dependentes', 'tenure': 'duracao_contrato'}\n",
    "dados_cliente.rename(columns = clientes_rotulos, inplace = True)\n",
    "dados_cliente.head()"
   ]
  },
  {
   "cell_type": "code",
   "execution_count": 166,
   "id": "d85fef82-eae4-4f20-8068-1527a39a9ba7",
   "metadata": {},
   "outputs": [
    {
     "data": {
      "text/plain": [
       "array(['Female', 'Male'], dtype=object)"
      ]
     },
     "execution_count": 166,
     "metadata": {},
     "output_type": "execute_result"
    }
   ],
   "source": [
    "dados_cliente.genero.unique()"
   ]
  },
  {
   "cell_type": "code",
   "execution_count": 167,
   "id": "527510fb-795f-4ec8-9cba-5723a7ab9263",
   "metadata": {},
   "outputs": [
    {
     "data": {
      "text/plain": [
       "array([0, 1])"
      ]
     },
     "execution_count": 167,
     "metadata": {},
     "output_type": "execute_result"
    }
   ],
   "source": [
    "dados_cliente.idoso.unique()"
   ]
  },
  {
   "cell_type": "code",
   "execution_count": 168,
   "id": "f6487710-3b1f-4958-9d6d-df4a9532b3a9",
   "metadata": {},
   "outputs": [
    {
     "data": {
      "text/plain": [
       "array(['Yes', 'No'], dtype=object)"
      ]
     },
     "execution_count": 168,
     "metadata": {},
     "output_type": "execute_result"
    }
   ],
   "source": [
    "dados_cliente.casado.unique()"
   ]
  },
  {
   "cell_type": "code",
   "execution_count": 169,
   "id": "0bb65cb3-ce61-422e-9b85-527aa6e34c71",
   "metadata": {},
   "outputs": [
    {
     "data": {
      "text/plain": [
       "array(['Yes', 'No'], dtype=object)"
      ]
     },
     "execution_count": 169,
     "metadata": {},
     "output_type": "execute_result"
    }
   ],
   "source": [
    "dados_cliente.dependentes.unique()"
   ]
  },
  {
   "cell_type": "code",
   "execution_count": 170,
   "id": "4284b225-25ec-446f-afb3-a12a07ba4c48",
   "metadata": {},
   "outputs": [
    {
     "data": {
      "text/plain": [
       "array([ 9,  4, 13,  3, 71, 63,  7, 65, 54, 72,  5, 56, 34,  1, 45, 50, 23,\n",
       "       55, 26, 69, 11, 37, 49, 66, 67, 20, 43, 59, 12, 27,  2, 25, 29, 14,\n",
       "       35, 64, 39, 40,  6, 30, 70, 57, 58, 16, 32, 33, 10, 21, 61, 15, 44,\n",
       "       22, 24, 19, 47, 62, 46, 52,  8, 60, 48, 28, 41, 53, 68, 51, 31, 36,\n",
       "       17, 18, 38, 42,  0])"
      ]
     },
     "execution_count": 170,
     "metadata": {},
     "output_type": "execute_result"
    }
   ],
   "source": [
    "dados_cliente.duracao_contrato.unique()"
   ]
  },
  {
   "cell_type": "code",
   "execution_count": 171,
   "id": "878bb827-6c5b-41bc-8a6f-54e5edae2ea0",
   "metadata": {},
   "outputs": [
    {
     "data": {
      "text/plain": [
       "1     634\n",
       "72    369\n",
       "2     246\n",
       "3     207\n",
       "4     185\n",
       "     ... \n",
       "38     60\n",
       "39     59\n",
       "44     54\n",
       "36     50\n",
       "0      11\n",
       "Name: duracao_contrato, Length: 73, dtype: int64"
      ]
     },
     "execution_count": 171,
     "metadata": {},
     "output_type": "execute_result"
    }
   ],
   "source": [
    "dados_cliente.duracao_contrato.value_counts()"
   ]
  },
  {
   "cell_type": "markdown",
   "id": "bc4399b4-9e75-4737-a058-69390f73c0a9",
   "metadata": {},
   "source": [
    "## Observação:\n",
    "11 clientes apresentam duração de contrato igual à 0. Talvez sejam clientes recentes que ainda não completaram o primeiro mês."
   ]
  },
  {
   "cell_type": "code",
   "execution_count": 172,
   "id": "b73d50f1-b551-4d95-a556-8617cc7f050a",
   "metadata": {},
   "outputs": [
    {
     "data": {
      "text/html": [
       "<div>\n",
       "<style scoped>\n",
       "    .dataframe tbody tr th:only-of-type {\n",
       "        vertical-align: middle;\n",
       "    }\n",
       "\n",
       "    .dataframe tbody tr th {\n",
       "        vertical-align: top;\n",
       "    }\n",
       "\n",
       "    .dataframe thead th {\n",
       "        text-align: right;\n",
       "    }\n",
       "</style>\n",
       "<table border=\"1\" class=\"dataframe\">\n",
       "  <thead>\n",
       "    <tr style=\"text-align: right;\">\n",
       "      <th></th>\n",
       "      <th>genero</th>\n",
       "      <th>idoso</th>\n",
       "      <th>casado</th>\n",
       "      <th>dependentes</th>\n",
       "      <th>duracao_contrato</th>\n",
       "    </tr>\n",
       "  </thead>\n",
       "  <tbody>\n",
       "    <tr>\n",
       "      <th>0</th>\n",
       "      <td>Feminino</td>\n",
       "      <td>Não</td>\n",
       "      <td>Sim</td>\n",
       "      <td>Sim</td>\n",
       "      <td>9</td>\n",
       "    </tr>\n",
       "    <tr>\n",
       "      <th>1</th>\n",
       "      <td>Masculino</td>\n",
       "      <td>Não</td>\n",
       "      <td>Não</td>\n",
       "      <td>Não</td>\n",
       "      <td>9</td>\n",
       "    </tr>\n",
       "    <tr>\n",
       "      <th>2</th>\n",
       "      <td>Masculino</td>\n",
       "      <td>Não</td>\n",
       "      <td>Não</td>\n",
       "      <td>Não</td>\n",
       "      <td>4</td>\n",
       "    </tr>\n",
       "    <tr>\n",
       "      <th>3</th>\n",
       "      <td>Masculino</td>\n",
       "      <td>Sim</td>\n",
       "      <td>Sim</td>\n",
       "      <td>Não</td>\n",
       "      <td>13</td>\n",
       "    </tr>\n",
       "    <tr>\n",
       "      <th>4</th>\n",
       "      <td>Feminino</td>\n",
       "      <td>Sim</td>\n",
       "      <td>Sim</td>\n",
       "      <td>Não</td>\n",
       "      <td>3</td>\n",
       "    </tr>\n",
       "  </tbody>\n",
       "</table>\n",
       "</div>"
      ],
      "text/plain": [
       "      genero idoso casado dependentes  duracao_contrato\n",
       "0   Feminino   Não    Sim         Sim                 9\n",
       "1  Masculino   Não    Não         Não                 9\n",
       "2  Masculino   Não    Não         Não                 4\n",
       "3  Masculino   Sim    Sim         Não                13\n",
       "4   Feminino   Sim    Sim         Não                 3"
      ]
     },
     "execution_count": 172,
     "metadata": {},
     "output_type": "execute_result"
    }
   ],
   "source": [
    "traducao_genero = {'Female': 'Feminino', 'Male': 'Masculino'}\n",
    "traducao_idoso = {0: 'Não', 1: 'Sim'}\n",
    "traducao_casado = {'Yes': 'Sim', 'No': 'Não'}\n",
    "traducao_dependentes = {'Yes': 'Sim', 'No': 'Não'}\n",
    "dados_cliente.genero.replace(traducao_genero, inplace = True)\n",
    "dados_cliente.idoso.replace(traducao_idoso, inplace = True)\n",
    "dados_cliente.casado.replace(traducao_casado, inplace = True)\n",
    "dados_cliente.dependentes.replace(traducao_dependentes, inplace = True)\n",
    "dados_cliente.head()"
   ]
  },
  {
   "cell_type": "markdown",
   "id": "a003621b-e158-46a0-8980-5e441fb061f8",
   "metadata": {},
   "source": [
    "## Normalizando servicos_telefone"
   ]
  },
  {
   "cell_type": "code",
   "execution_count": 173,
   "id": "d59e5cb4-896a-43f6-a48d-99311acf3cb5",
   "metadata": {},
   "outputs": [
    {
     "data": {
      "text/html": [
       "<div>\n",
       "<style scoped>\n",
       "    .dataframe tbody tr th:only-of-type {\n",
       "        vertical-align: middle;\n",
       "    }\n",
       "\n",
       "    .dataframe tbody tr th {\n",
       "        vertical-align: top;\n",
       "    }\n",
       "\n",
       "    .dataframe thead th {\n",
       "        text-align: right;\n",
       "    }\n",
       "</style>\n",
       "<table border=\"1\" class=\"dataframe\">\n",
       "  <thead>\n",
       "    <tr style=\"text-align: right;\">\n",
       "      <th></th>\n",
       "      <th>assinatura_telefone</th>\n",
       "      <th>linhas_extras</th>\n",
       "    </tr>\n",
       "  </thead>\n",
       "  <tbody>\n",
       "    <tr>\n",
       "      <th>0</th>\n",
       "      <td>Yes</td>\n",
       "      <td>No</td>\n",
       "    </tr>\n",
       "    <tr>\n",
       "      <th>1</th>\n",
       "      <td>Yes</td>\n",
       "      <td>Yes</td>\n",
       "    </tr>\n",
       "    <tr>\n",
       "      <th>2</th>\n",
       "      <td>Yes</td>\n",
       "      <td>No</td>\n",
       "    </tr>\n",
       "    <tr>\n",
       "      <th>3</th>\n",
       "      <td>Yes</td>\n",
       "      <td>No</td>\n",
       "    </tr>\n",
       "    <tr>\n",
       "      <th>4</th>\n",
       "      <td>Yes</td>\n",
       "      <td>No</td>\n",
       "    </tr>\n",
       "  </tbody>\n",
       "</table>\n",
       "</div>"
      ],
      "text/plain": [
       "  assinatura_telefone linhas_extras\n",
       "0                 Yes            No\n",
       "1                 Yes           Yes\n",
       "2                 Yes            No\n",
       "3                 Yes            No\n",
       "4                 Yes            No"
      ]
     },
     "execution_count": 173,
     "metadata": {},
     "output_type": "execute_result"
    }
   ],
   "source": [
    "servicos_telefone = pd.json_normalize(dados.servicos_telefone)\n",
    "telefone_rotulos = {'PhoneService': 'assinatura_telefone','MultipleLines': 'linhas_extras'}\n",
    "servicos_telefone.rename(columns = telefone_rotulos, inplace = True)\n",
    "servicos_telefone.head()"
   ]
  },
  {
   "cell_type": "code",
   "execution_count": 174,
   "id": "9f51c65d-f2c4-4189-b73b-1228e4159ed2",
   "metadata": {},
   "outputs": [
    {
     "data": {
      "text/plain": [
       "array(['Yes', 'No'], dtype=object)"
      ]
     },
     "execution_count": 174,
     "metadata": {},
     "output_type": "execute_result"
    }
   ],
   "source": [
    "servicos_telefone.assinatura_telefone.unique()"
   ]
  },
  {
   "cell_type": "code",
   "execution_count": 175,
   "id": "136ff6bc-3bb8-4d06-b083-b8338270b7a6",
   "metadata": {},
   "outputs": [
    {
     "data": {
      "text/plain": [
       "array(['No', 'Yes', 'No phone service'], dtype=object)"
      ]
     },
     "execution_count": 175,
     "metadata": {},
     "output_type": "execute_result"
    }
   ],
   "source": [
    "servicos_telefone.linhas_extras.unique()"
   ]
  },
  {
   "cell_type": "code",
   "execution_count": 176,
   "id": "db42305a-e9a7-48c1-98ca-9b30434f6c49",
   "metadata": {},
   "outputs": [
    {
     "data": {
      "text/html": [
       "<div>\n",
       "<style scoped>\n",
       "    .dataframe tbody tr th:only-of-type {\n",
       "        vertical-align: middle;\n",
       "    }\n",
       "\n",
       "    .dataframe tbody tr th {\n",
       "        vertical-align: top;\n",
       "    }\n",
       "\n",
       "    .dataframe thead th {\n",
       "        text-align: right;\n",
       "    }\n",
       "</style>\n",
       "<table border=\"1\" class=\"dataframe\">\n",
       "  <thead>\n",
       "    <tr style=\"text-align: right;\">\n",
       "      <th></th>\n",
       "      <th>assinatura_telefone</th>\n",
       "      <th>linhas_extras</th>\n",
       "    </tr>\n",
       "  </thead>\n",
       "  <tbody>\n",
       "    <tr>\n",
       "      <th>0</th>\n",
       "      <td>Sim</td>\n",
       "      <td>Não</td>\n",
       "    </tr>\n",
       "    <tr>\n",
       "      <th>1</th>\n",
       "      <td>Sim</td>\n",
       "      <td>Sim</td>\n",
       "    </tr>\n",
       "    <tr>\n",
       "      <th>2</th>\n",
       "      <td>Sim</td>\n",
       "      <td>Não</td>\n",
       "    </tr>\n",
       "    <tr>\n",
       "      <th>3</th>\n",
       "      <td>Sim</td>\n",
       "      <td>Não</td>\n",
       "    </tr>\n",
       "    <tr>\n",
       "      <th>4</th>\n",
       "      <td>Sim</td>\n",
       "      <td>Não</td>\n",
       "    </tr>\n",
       "  </tbody>\n",
       "</table>\n",
       "</div>"
      ],
      "text/plain": [
       "  assinatura_telefone linhas_extras\n",
       "0                 Sim           Não\n",
       "1                 Sim           Sim\n",
       "2                 Sim           Não\n",
       "3                 Sim           Não\n",
       "4                 Sim           Não"
      ]
     },
     "execution_count": 176,
     "metadata": {},
     "output_type": "execute_result"
    }
   ],
   "source": [
    "traducao_assinatura = {'Yes': 'Sim', 'No': 'Não'}\n",
    "traducao_linhas_extras = {'No': 'Não', 'Yes': 'Sim', 'No phone service': 'Sem assinatura de telefone'}\n",
    "servicos_telefone.assinatura_telefone.replace(traducao_assinatura, inplace = True)\n",
    "servicos_telefone.linhas_extras.replace(traducao_linhas_extras, inplace = True)\n",
    "servicos_telefone.head()"
   ]
  },
  {
   "cell_type": "markdown",
   "id": "35e00c73-e25a-4fa2-b5a7-9d506c914dcc",
   "metadata": {},
   "source": [
    "## Normalizando servicos_internet"
   ]
  },
  {
   "cell_type": "code",
   "execution_count": 177,
   "id": "1b86df87-6c9a-4601-ad44-30287bb5c1f7",
   "metadata": {},
   "outputs": [],
   "source": [
    "servicos_internet = pd.json_normalize(dados.servicos_internet)"
   ]
  },
  {
   "cell_type": "code",
   "execution_count": 178,
   "id": "20e976ca-d23d-4808-9bbf-1378fba800c7",
   "metadata": {},
   "outputs": [
    {
     "data": {
      "text/html": [
       "<div>\n",
       "<style scoped>\n",
       "    .dataframe tbody tr th:only-of-type {\n",
       "        vertical-align: middle;\n",
       "    }\n",
       "\n",
       "    .dataframe tbody tr th {\n",
       "        vertical-align: top;\n",
       "    }\n",
       "\n",
       "    .dataframe thead th {\n",
       "        text-align: right;\n",
       "    }\n",
       "</style>\n",
       "<table border=\"1\" class=\"dataframe\">\n",
       "  <thead>\n",
       "    <tr style=\"text-align: right;\">\n",
       "      <th></th>\n",
       "      <th>assinatura_internet</th>\n",
       "      <th>protecao_online</th>\n",
       "      <th>backup_nuvem</th>\n",
       "      <th>protecao_dispositivo</th>\n",
       "      <th>suporte_tecnico</th>\n",
       "      <th>streaming_tv</th>\n",
       "      <th>streaming_filmes</th>\n",
       "    </tr>\n",
       "  </thead>\n",
       "  <tbody>\n",
       "    <tr>\n",
       "      <th>0</th>\n",
       "      <td>DSL</td>\n",
       "      <td>No</td>\n",
       "      <td>Yes</td>\n",
       "      <td>No</td>\n",
       "      <td>Yes</td>\n",
       "      <td>Yes</td>\n",
       "      <td>No</td>\n",
       "    </tr>\n",
       "    <tr>\n",
       "      <th>1</th>\n",
       "      <td>DSL</td>\n",
       "      <td>No</td>\n",
       "      <td>No</td>\n",
       "      <td>No</td>\n",
       "      <td>No</td>\n",
       "      <td>No</td>\n",
       "      <td>Yes</td>\n",
       "    </tr>\n",
       "    <tr>\n",
       "      <th>2</th>\n",
       "      <td>Fiber optic</td>\n",
       "      <td>No</td>\n",
       "      <td>No</td>\n",
       "      <td>Yes</td>\n",
       "      <td>No</td>\n",
       "      <td>No</td>\n",
       "      <td>No</td>\n",
       "    </tr>\n",
       "    <tr>\n",
       "      <th>3</th>\n",
       "      <td>Fiber optic</td>\n",
       "      <td>No</td>\n",
       "      <td>Yes</td>\n",
       "      <td>Yes</td>\n",
       "      <td>No</td>\n",
       "      <td>Yes</td>\n",
       "      <td>Yes</td>\n",
       "    </tr>\n",
       "    <tr>\n",
       "      <th>4</th>\n",
       "      <td>Fiber optic</td>\n",
       "      <td>No</td>\n",
       "      <td>No</td>\n",
       "      <td>No</td>\n",
       "      <td>Yes</td>\n",
       "      <td>Yes</td>\n",
       "      <td>No</td>\n",
       "    </tr>\n",
       "  </tbody>\n",
       "</table>\n",
       "</div>"
      ],
      "text/plain": [
       "  assinatura_internet protecao_online backup_nuvem protecao_dispositivo  \\\n",
       "0                 DSL              No          Yes                   No   \n",
       "1                 DSL              No           No                   No   \n",
       "2         Fiber optic              No           No                  Yes   \n",
       "3         Fiber optic              No          Yes                  Yes   \n",
       "4         Fiber optic              No           No                   No   \n",
       "\n",
       "  suporte_tecnico streaming_tv streaming_filmes  \n",
       "0             Yes          Yes               No  \n",
       "1              No           No              Yes  \n",
       "2              No           No               No  \n",
       "3              No          Yes              Yes  \n",
       "4             Yes          Yes               No  "
      ]
     },
     "execution_count": 178,
     "metadata": {},
     "output_type": "execute_result"
    }
   ],
   "source": [
    "servicos_rotulos = {'InternetService': 'assinatura_internet',\n",
    "                    'OnlineSecurity': 'protecao_online',\n",
    "                    'OnlineBackup': 'backup_nuvem',\n",
    "                    'DeviceProtection': 'protecao_dispositivo',\n",
    "                    'TechSupport': 'suporte_tecnico',\n",
    "                    'StreamingTV': 'streaming_tv',\n",
    "                    'StreamingMovies': 'streaming_filmes'}\n",
    "servicos_internet.rename(columns = servicos_rotulos, inplace = True)\n",
    "servicos_internet.head()"
   ]
  },
  {
   "cell_type": "code",
   "execution_count": 179,
   "id": "b6332420-2b81-4bd5-9242-999358d92c74",
   "metadata": {},
   "outputs": [
    {
     "data": {
      "text/plain": [
       "array(['DSL', 'Fiber optic', 'No'], dtype=object)"
      ]
     },
     "execution_count": 179,
     "metadata": {},
     "output_type": "execute_result"
    }
   ],
   "source": [
    "servicos_internet.assinatura_internet.unique()"
   ]
  },
  {
   "cell_type": "markdown",
   "id": "1a535419-38bb-4703-8046-b204f86c36cb",
   "metadata": {},
   "source": [
    "### Nota-se que as demais colunas apresentam valores parecidos"
   ]
  },
  {
   "cell_type": "code",
   "execution_count": 180,
   "id": "7d9a2a9a-c501-4a85-8294-a57ba4b5f599",
   "metadata": {},
   "outputs": [
    {
     "data": {
      "text/plain": [
       "array(['No', 'Yes', 'No internet service'], dtype=object)"
      ]
     },
     "execution_count": 180,
     "metadata": {},
     "output_type": "execute_result"
    }
   ],
   "source": [
    "servicos_internet.protecao_online.unique()"
   ]
  },
  {
   "cell_type": "code",
   "execution_count": 181,
   "id": "53129478-eadc-48e8-9a8c-6175182f103c",
   "metadata": {},
   "outputs": [
    {
     "data": {
      "text/plain": [
       "array(['Yes', 'No', 'No internet service'], dtype=object)"
      ]
     },
     "execution_count": 181,
     "metadata": {},
     "output_type": "execute_result"
    }
   ],
   "source": [
    "servicos_internet.backup_nuvem.unique()"
   ]
  },
  {
   "cell_type": "code",
   "execution_count": 182,
   "id": "640ad5f3-1ed9-40cc-92f4-9d2c8c4b8c3f",
   "metadata": {},
   "outputs": [
    {
     "data": {
      "text/plain": [
       "array(['No', 'Yes', 'No internet service'], dtype=object)"
      ]
     },
     "execution_count": 182,
     "metadata": {},
     "output_type": "execute_result"
    }
   ],
   "source": [
    "servicos_internet.protecao_dispositivo.unique()"
   ]
  },
  {
   "cell_type": "code",
   "execution_count": 183,
   "id": "060e4597-2558-450f-b710-3605b024c390",
   "metadata": {},
   "outputs": [
    {
     "data": {
      "text/plain": [
       "array(['Yes', 'No', 'No internet service'], dtype=object)"
      ]
     },
     "execution_count": 183,
     "metadata": {},
     "output_type": "execute_result"
    }
   ],
   "source": [
    "servicos_internet.suporte_tecnico.unique()"
   ]
  },
  {
   "cell_type": "code",
   "execution_count": 184,
   "id": "f627df8f-1c33-4836-828c-c1656f92c16d",
   "metadata": {},
   "outputs": [
    {
     "data": {
      "text/plain": [
       "array(['Yes', 'No', 'No internet service'], dtype=object)"
      ]
     },
     "execution_count": 184,
     "metadata": {},
     "output_type": "execute_result"
    }
   ],
   "source": [
    "servicos_internet.streaming_tv.unique()"
   ]
  },
  {
   "cell_type": "code",
   "execution_count": 185,
   "id": "89991f10-5885-4ede-b274-c1f802e102b4",
   "metadata": {},
   "outputs": [
    {
     "data": {
      "text/plain": [
       "array(['No', 'Yes', 'No internet service'], dtype=object)"
      ]
     },
     "execution_count": 185,
     "metadata": {},
     "output_type": "execute_result"
    }
   ],
   "source": [
    "servicos_internet.streaming_filmes.unique()"
   ]
  },
  {
   "cell_type": "code",
   "execution_count": 186,
   "id": "5b97c7c8-1c04-4092-b82d-f6474853ab14",
   "metadata": {
    "tags": []
   },
   "outputs": [],
   "source": [
    "assinatura_internet_traduzia = {'Fiber optic': 'fibra', 'DSL': 'dsl', 'No': 'não contratada'}\n",
    "servicos_internet.assinatura_internet.replace(assinatura_internet_traduzia, inplace = True)"
   ]
  },
  {
   "cell_type": "code",
   "execution_count": 187,
   "id": "e2497ec2-dbcf-41e0-a87d-98c2c9eb3349",
   "metadata": {},
   "outputs": [
    {
     "data": {
      "text/plain": [
       "Index(['assinatura_internet', 'protecao_online', 'backup_nuvem',\n",
       "       'protecao_dispositivo', 'suporte_tecnico', 'streaming_tv',\n",
       "       'streaming_filmes'],\n",
       "      dtype='object')"
      ]
     },
     "execution_count": 187,
     "metadata": {},
     "output_type": "execute_result"
    }
   ],
   "source": [
    "demais_traducoes = {'No': 'Não', 'Yes': 'Sim', 'No internet service': 'internet não contratada'}\n",
    "colunas_servicos = servicos_internet.columns\n",
    "colunas_servicos"
   ]
  },
  {
   "cell_type": "code",
   "execution_count": 188,
   "id": "21a047f6-8e90-4f0e-bcfb-9c44a0e4ed38",
   "metadata": {},
   "outputs": [],
   "source": [
    "servicos_internet[['protecao_online', 'backup_nuvem',\n",
    "       'protecao_dispositivo', 'suporte_tecnico', 'streaming_tv',\n",
    "       'streaming_filmes']] = servicos_internet[['protecao_online', 'backup_nuvem',\n",
    "       'protecao_dispositivo', 'suporte_tecnico', 'streaming_tv',\n",
    "       'streaming_filmes']].replace(demais_traducoes)"
   ]
  },
  {
   "cell_type": "code",
   "execution_count": 189,
   "id": "15dfb699-5cd9-4e54-8071-83128056b7d3",
   "metadata": {},
   "outputs": [
    {
     "data": {
      "text/html": [
       "<div>\n",
       "<style scoped>\n",
       "    .dataframe tbody tr th:only-of-type {\n",
       "        vertical-align: middle;\n",
       "    }\n",
       "\n",
       "    .dataframe tbody tr th {\n",
       "        vertical-align: top;\n",
       "    }\n",
       "\n",
       "    .dataframe thead th {\n",
       "        text-align: right;\n",
       "    }\n",
       "</style>\n",
       "<table border=\"1\" class=\"dataframe\">\n",
       "  <thead>\n",
       "    <tr style=\"text-align: right;\">\n",
       "      <th></th>\n",
       "      <th>assinatura_internet</th>\n",
       "      <th>protecao_online</th>\n",
       "      <th>backup_nuvem</th>\n",
       "      <th>protecao_dispositivo</th>\n",
       "      <th>suporte_tecnico</th>\n",
       "      <th>streaming_tv</th>\n",
       "      <th>streaming_filmes</th>\n",
       "    </tr>\n",
       "  </thead>\n",
       "  <tbody>\n",
       "    <tr>\n",
       "      <th>0</th>\n",
       "      <td>dsl</td>\n",
       "      <td>Não</td>\n",
       "      <td>Sim</td>\n",
       "      <td>Não</td>\n",
       "      <td>Sim</td>\n",
       "      <td>Sim</td>\n",
       "      <td>Não</td>\n",
       "    </tr>\n",
       "    <tr>\n",
       "      <th>1</th>\n",
       "      <td>dsl</td>\n",
       "      <td>Não</td>\n",
       "      <td>Não</td>\n",
       "      <td>Não</td>\n",
       "      <td>Não</td>\n",
       "      <td>Não</td>\n",
       "      <td>Sim</td>\n",
       "    </tr>\n",
       "    <tr>\n",
       "      <th>2</th>\n",
       "      <td>fibra</td>\n",
       "      <td>Não</td>\n",
       "      <td>Não</td>\n",
       "      <td>Sim</td>\n",
       "      <td>Não</td>\n",
       "      <td>Não</td>\n",
       "      <td>Não</td>\n",
       "    </tr>\n",
       "    <tr>\n",
       "      <th>3</th>\n",
       "      <td>fibra</td>\n",
       "      <td>Não</td>\n",
       "      <td>Sim</td>\n",
       "      <td>Sim</td>\n",
       "      <td>Não</td>\n",
       "      <td>Sim</td>\n",
       "      <td>Sim</td>\n",
       "    </tr>\n",
       "    <tr>\n",
       "      <th>4</th>\n",
       "      <td>fibra</td>\n",
       "      <td>Não</td>\n",
       "      <td>Não</td>\n",
       "      <td>Não</td>\n",
       "      <td>Sim</td>\n",
       "      <td>Sim</td>\n",
       "      <td>Não</td>\n",
       "    </tr>\n",
       "    <tr>\n",
       "      <th>...</th>\n",
       "      <td>...</td>\n",
       "      <td>...</td>\n",
       "      <td>...</td>\n",
       "      <td>...</td>\n",
       "      <td>...</td>\n",
       "      <td>...</td>\n",
       "      <td>...</td>\n",
       "    </tr>\n",
       "    <tr>\n",
       "      <th>7262</th>\n",
       "      <td>dsl</td>\n",
       "      <td>Sim</td>\n",
       "      <td>Não</td>\n",
       "      <td>Não</td>\n",
       "      <td>Sim</td>\n",
       "      <td>Não</td>\n",
       "      <td>Não</td>\n",
       "    </tr>\n",
       "    <tr>\n",
       "      <th>7263</th>\n",
       "      <td>fibra</td>\n",
       "      <td>Não</td>\n",
       "      <td>Não</td>\n",
       "      <td>Não</td>\n",
       "      <td>Não</td>\n",
       "      <td>Não</td>\n",
       "      <td>Sim</td>\n",
       "    </tr>\n",
       "    <tr>\n",
       "      <th>7264</th>\n",
       "      <td>dsl</td>\n",
       "      <td>Não</td>\n",
       "      <td>Sim</td>\n",
       "      <td>Não</td>\n",
       "      <td>Não</td>\n",
       "      <td>Não</td>\n",
       "      <td>Não</td>\n",
       "    </tr>\n",
       "    <tr>\n",
       "      <th>7265</th>\n",
       "      <td>dsl</td>\n",
       "      <td>Sim</td>\n",
       "      <td>Não</td>\n",
       "      <td>Sim</td>\n",
       "      <td>Sim</td>\n",
       "      <td>Não</td>\n",
       "      <td>Sim</td>\n",
       "    </tr>\n",
       "    <tr>\n",
       "      <th>7266</th>\n",
       "      <td>dsl</td>\n",
       "      <td>Sim</td>\n",
       "      <td>Sim</td>\n",
       "      <td>Sim</td>\n",
       "      <td>Não</td>\n",
       "      <td>Sim</td>\n",
       "      <td>Sim</td>\n",
       "    </tr>\n",
       "  </tbody>\n",
       "</table>\n",
       "<p>7267 rows × 7 columns</p>\n",
       "</div>"
      ],
      "text/plain": [
       "     assinatura_internet protecao_online backup_nuvem protecao_dispositivo  \\\n",
       "0                    dsl             Não          Sim                  Não   \n",
       "1                    dsl             Não          Não                  Não   \n",
       "2                  fibra             Não          Não                  Sim   \n",
       "3                  fibra             Não          Sim                  Sim   \n",
       "4                  fibra             Não          Não                  Não   \n",
       "...                  ...             ...          ...                  ...   \n",
       "7262                 dsl             Sim          Não                  Não   \n",
       "7263               fibra             Não          Não                  Não   \n",
       "7264                 dsl             Não          Sim                  Não   \n",
       "7265                 dsl             Sim          Não                  Sim   \n",
       "7266                 dsl             Sim          Sim                  Sim   \n",
       "\n",
       "     suporte_tecnico streaming_tv streaming_filmes  \n",
       "0                Sim          Sim              Não  \n",
       "1                Não          Não              Sim  \n",
       "2                Não          Não              Não  \n",
       "3                Não          Sim              Sim  \n",
       "4                Sim          Sim              Não  \n",
       "...              ...          ...              ...  \n",
       "7262             Sim          Não              Não  \n",
       "7263             Não          Não              Sim  \n",
       "7264             Não          Não              Não  \n",
       "7265             Sim          Não              Sim  \n",
       "7266             Não          Sim              Sim  \n",
       "\n",
       "[7267 rows x 7 columns]"
      ]
     },
     "execution_count": 189,
     "metadata": {},
     "output_type": "execute_result"
    }
   ],
   "source": [
    "servicos_internet"
   ]
  },
  {
   "cell_type": "markdown",
   "id": "3b4d67bf-223d-4cec-8ffc-4341c3bf0846",
   "metadata": {},
   "source": [
    "## Normalizando a coluna detalhes_contrato"
   ]
  },
  {
   "cell_type": "code",
   "execution_count": 190,
   "id": "ee6ee353-4e48-4037-a6db-19ecbc6e19d8",
   "metadata": {},
   "outputs": [
    {
     "data": {
      "text/html": [
       "<div>\n",
       "<style scoped>\n",
       "    .dataframe tbody tr th:only-of-type {\n",
       "        vertical-align: middle;\n",
       "    }\n",
       "\n",
       "    .dataframe tbody tr th {\n",
       "        vertical-align: top;\n",
       "    }\n",
       "\n",
       "    .dataframe thead th {\n",
       "        text-align: right;\n",
       "    }\n",
       "</style>\n",
       "<table border=\"1\" class=\"dataframe\">\n",
       "  <thead>\n",
       "    <tr style=\"text-align: right;\">\n",
       "      <th></th>\n",
       "      <th>contrato</th>\n",
       "      <th>cobranca_digital</th>\n",
       "      <th>metodo_pagamento</th>\n",
       "      <th>custo_mensal</th>\n",
       "      <th>custo_total</th>\n",
       "    </tr>\n",
       "  </thead>\n",
       "  <tbody>\n",
       "    <tr>\n",
       "      <th>0</th>\n",
       "      <td>One year</td>\n",
       "      <td>Yes</td>\n",
       "      <td>Mailed check</td>\n",
       "      <td>65.6</td>\n",
       "      <td>593.3</td>\n",
       "    </tr>\n",
       "    <tr>\n",
       "      <th>1</th>\n",
       "      <td>Month-to-month</td>\n",
       "      <td>No</td>\n",
       "      <td>Mailed check</td>\n",
       "      <td>59.9</td>\n",
       "      <td>542.4</td>\n",
       "    </tr>\n",
       "    <tr>\n",
       "      <th>2</th>\n",
       "      <td>Month-to-month</td>\n",
       "      <td>Yes</td>\n",
       "      <td>Electronic check</td>\n",
       "      <td>73.9</td>\n",
       "      <td>280.85</td>\n",
       "    </tr>\n",
       "    <tr>\n",
       "      <th>3</th>\n",
       "      <td>Month-to-month</td>\n",
       "      <td>Yes</td>\n",
       "      <td>Electronic check</td>\n",
       "      <td>98.0</td>\n",
       "      <td>1237.85</td>\n",
       "    </tr>\n",
       "    <tr>\n",
       "      <th>4</th>\n",
       "      <td>Month-to-month</td>\n",
       "      <td>Yes</td>\n",
       "      <td>Mailed check</td>\n",
       "      <td>83.9</td>\n",
       "      <td>267.4</td>\n",
       "    </tr>\n",
       "  </tbody>\n",
       "</table>\n",
       "</div>"
      ],
      "text/plain": [
       "         contrato cobranca_digital  metodo_pagamento  custo_mensal custo_total\n",
       "0        One year              Yes      Mailed check          65.6       593.3\n",
       "1  Month-to-month               No      Mailed check          59.9       542.4\n",
       "2  Month-to-month              Yes  Electronic check          73.9      280.85\n",
       "3  Month-to-month              Yes  Electronic check          98.0     1237.85\n",
       "4  Month-to-month              Yes      Mailed check          83.9       267.4"
      ]
     },
     "execution_count": 190,
     "metadata": {},
     "output_type": "execute_result"
    }
   ],
   "source": [
    "detalhes_contrato = pd.json_normalize(dados.detalhes_contrato)\n",
    "detalhes_contrato_rotulos = {'Contract': 'contrato','PaperlessBilling': 'cobranca_digital','PaymentMethod': 'metodo_pagamento','Charges.Monthly': 'custo_mensal','Charges.Total': 'custo_total'}\n",
    "detalhes_contrato.rename(columns = detalhes_contrato_rotulos, inplace = True)\n",
    "detalhes_contrato.head()"
   ]
  },
  {
   "cell_type": "code",
   "execution_count": 191,
   "id": "3ce9d5ee-09d3-44b2-8d59-761d16b0f1f4",
   "metadata": {},
   "outputs": [
    {
     "data": {
      "text/plain": [
       "array(['One year', 'Month-to-month', 'Two year'], dtype=object)"
      ]
     },
     "execution_count": 191,
     "metadata": {},
     "output_type": "execute_result"
    }
   ],
   "source": [
    "detalhes_contrato.contrato.unique()"
   ]
  },
  {
   "cell_type": "code",
   "execution_count": 192,
   "id": "63239f02-a345-480e-92c4-d6ba950bbc53",
   "metadata": {},
   "outputs": [],
   "source": [
    "tipos_contrato = {'One year': 'Anual', 'Two year': 'Bianual','Month-to-month': 'Mensal'}\n",
    "detalhes_contrato.contrato.replace(tipos_contrato, inplace = True)"
   ]
  },
  {
   "cell_type": "code",
   "execution_count": 193,
   "id": "fb5ad36c-0162-45e1-b77f-ef6289ca8174",
   "metadata": {},
   "outputs": [
    {
     "data": {
      "text/plain": [
       "array(['Yes', 'No'], dtype=object)"
      ]
     },
     "execution_count": 193,
     "metadata": {},
     "output_type": "execute_result"
    }
   ],
   "source": [
    "detalhes_contrato.cobranca_digital.unique()"
   ]
  },
  {
   "cell_type": "code",
   "execution_count": 194,
   "id": "bbb5a5ca-deed-4998-a4ae-02c5f5162f1c",
   "metadata": {},
   "outputs": [],
   "source": [
    "conta_digital = {'Yes': 'Sim', 'No': 'Não'}\n",
    "detalhes_contrato.cobranca_digital.replace(conta_digital, inplace = True)"
   ]
  },
  {
   "cell_type": "code",
   "execution_count": 195,
   "id": "9d850721-10d1-49c4-95ef-09fade5e4f09",
   "metadata": {},
   "outputs": [
    {
     "data": {
      "text/plain": [
       "array(['Mailed check', 'Electronic check', 'Credit card (automatic)',\n",
       "       'Bank transfer (automatic)'], dtype=object)"
      ]
     },
     "execution_count": 195,
     "metadata": {},
     "output_type": "execute_result"
    }
   ],
   "source": [
    "detalhes_contrato.metodo_pagamento.unique()"
   ]
  },
  {
   "cell_type": "code",
   "execution_count": 196,
   "id": "31d112ca-3724-4c05-8605-8bb3dd86243d",
   "metadata": {},
   "outputs": [],
   "source": [
    "metodos_pagamento = {'Mailed check': 'Cheque',\n",
    "                     'Electronic check': 'Cheque eletrônico',\n",
    "                     'Credit card (automatic)': 'Cartão de crédito',\n",
    "                     'Bank transfer (automatic)': 'Transferência bancária'}\n",
    "detalhes_contrato.metodo_pagamento.replace(metodos_pagamento, inplace = True)"
   ]
  },
  {
   "cell_type": "code",
   "execution_count": 197,
   "id": "d5a09161-82f2-4801-aaec-f151e9899191",
   "metadata": {},
   "outputs": [
    {
     "data": {
      "text/plain": [
       "array([65.6 , 59.9 , 73.9 , ..., 91.75, 68.8 , 67.85])"
      ]
     },
     "execution_count": 197,
     "metadata": {},
     "output_type": "execute_result"
    }
   ],
   "source": [
    "detalhes_contrato.custo_mensal.unique()"
   ]
  },
  {
   "cell_type": "code",
   "execution_count": 198,
   "id": "50e92e75-9ed2-466e-bc9f-8980fb9bd9fa",
   "metadata": {},
   "outputs": [
    {
     "data": {
      "text/plain": [
       "array(['593.3', '542.4', '280.85', ..., '742.9', '4627.65', '3707.6'],\n",
       "      dtype=object)"
      ]
     },
     "execution_count": 198,
     "metadata": {},
     "output_type": "execute_result"
    }
   ],
   "source": [
    "detalhes_contrato.custo_total.unique()"
   ]
  },
  {
   "cell_type": "markdown",
   "id": "505b7d02-95d6-402f-8c2e-709543c8cbd7",
   "metadata": {},
   "source": [
    "## Observação:\n",
    "Os valores na coluna `custo_total` estão formatados como string. Estes valores serão convertidos para float, com duas casas decimais."
   ]
  },
  {
   "cell_type": "markdown",
   "id": "ad99686d-116f-4c9f-a0f6-920daaea16ad",
   "metadata": {},
   "source": [
    "# Criação de nova base de dados\n",
    "Faremos concatenação dos campos `cliente_id` e `churn` da base de dados original com os demais campos que foram normalizados."
   ]
  },
  {
   "cell_type": "code",
   "execution_count": 224,
   "id": "cf101a72-928f-41ec-aca5-3f493354ad02",
   "metadata": {},
   "outputs": [
    {
     "data": {
      "text/html": [
       "<div>\n",
       "<style scoped>\n",
       "    .dataframe tbody tr th:only-of-type {\n",
       "        vertical-align: middle;\n",
       "    }\n",
       "\n",
       "    .dataframe tbody tr th {\n",
       "        vertical-align: top;\n",
       "    }\n",
       "\n",
       "    .dataframe thead th {\n",
       "        text-align: right;\n",
       "    }\n",
       "</style>\n",
       "<table border=\"1\" class=\"dataframe\">\n",
       "  <thead>\n",
       "    <tr style=\"text-align: right;\">\n",
       "      <th></th>\n",
       "      <th>cliente_id</th>\n",
       "      <th>churn</th>\n",
       "      <th>genero</th>\n",
       "      <th>idoso</th>\n",
       "      <th>casado</th>\n",
       "      <th>dependentes</th>\n",
       "      <th>duracao_contrato</th>\n",
       "      <th>assinatura_telefone</th>\n",
       "      <th>linhas_extras</th>\n",
       "      <th>assinatura_internet</th>\n",
       "      <th>...</th>\n",
       "      <th>backup_nuvem</th>\n",
       "      <th>protecao_dispositivo</th>\n",
       "      <th>suporte_tecnico</th>\n",
       "      <th>streaming_tv</th>\n",
       "      <th>streaming_filmes</th>\n",
       "      <th>contrato</th>\n",
       "      <th>cobranca_digital</th>\n",
       "      <th>metodo_pagamento</th>\n",
       "      <th>custo_mensal</th>\n",
       "      <th>custo_total</th>\n",
       "    </tr>\n",
       "  </thead>\n",
       "  <tbody>\n",
       "    <tr>\n",
       "      <th>0</th>\n",
       "      <td>0002-ORFBO</td>\n",
       "      <td>Não</td>\n",
       "      <td>Feminino</td>\n",
       "      <td>Não</td>\n",
       "      <td>Sim</td>\n",
       "      <td>Sim</td>\n",
       "      <td>9</td>\n",
       "      <td>Sim</td>\n",
       "      <td>Não</td>\n",
       "      <td>dsl</td>\n",
       "      <td>...</td>\n",
       "      <td>Sim</td>\n",
       "      <td>Não</td>\n",
       "      <td>Sim</td>\n",
       "      <td>Sim</td>\n",
       "      <td>Não</td>\n",
       "      <td>Anual</td>\n",
       "      <td>Sim</td>\n",
       "      <td>Cheque</td>\n",
       "      <td>65.6</td>\n",
       "      <td>593.3</td>\n",
       "    </tr>\n",
       "    <tr>\n",
       "      <th>1</th>\n",
       "      <td>0003-MKNFE</td>\n",
       "      <td>Não</td>\n",
       "      <td>Masculino</td>\n",
       "      <td>Não</td>\n",
       "      <td>Não</td>\n",
       "      <td>Não</td>\n",
       "      <td>9</td>\n",
       "      <td>Sim</td>\n",
       "      <td>Sim</td>\n",
       "      <td>dsl</td>\n",
       "      <td>...</td>\n",
       "      <td>Não</td>\n",
       "      <td>Não</td>\n",
       "      <td>Não</td>\n",
       "      <td>Não</td>\n",
       "      <td>Sim</td>\n",
       "      <td>Mensal</td>\n",
       "      <td>Não</td>\n",
       "      <td>Cheque</td>\n",
       "      <td>59.9</td>\n",
       "      <td>542.4</td>\n",
       "    </tr>\n",
       "    <tr>\n",
       "      <th>2</th>\n",
       "      <td>0004-TLHLJ</td>\n",
       "      <td>Sim</td>\n",
       "      <td>Masculino</td>\n",
       "      <td>Não</td>\n",
       "      <td>Não</td>\n",
       "      <td>Não</td>\n",
       "      <td>4</td>\n",
       "      <td>Sim</td>\n",
       "      <td>Não</td>\n",
       "      <td>fibra</td>\n",
       "      <td>...</td>\n",
       "      <td>Não</td>\n",
       "      <td>Sim</td>\n",
       "      <td>Não</td>\n",
       "      <td>Não</td>\n",
       "      <td>Não</td>\n",
       "      <td>Mensal</td>\n",
       "      <td>Sim</td>\n",
       "      <td>Cheque eletrônico</td>\n",
       "      <td>73.9</td>\n",
       "      <td>280.85</td>\n",
       "    </tr>\n",
       "    <tr>\n",
       "      <th>3</th>\n",
       "      <td>0011-IGKFF</td>\n",
       "      <td>Sim</td>\n",
       "      <td>Masculino</td>\n",
       "      <td>Sim</td>\n",
       "      <td>Sim</td>\n",
       "      <td>Não</td>\n",
       "      <td>13</td>\n",
       "      <td>Sim</td>\n",
       "      <td>Não</td>\n",
       "      <td>fibra</td>\n",
       "      <td>...</td>\n",
       "      <td>Sim</td>\n",
       "      <td>Sim</td>\n",
       "      <td>Não</td>\n",
       "      <td>Sim</td>\n",
       "      <td>Sim</td>\n",
       "      <td>Mensal</td>\n",
       "      <td>Sim</td>\n",
       "      <td>Cheque eletrônico</td>\n",
       "      <td>98.0</td>\n",
       "      <td>1237.85</td>\n",
       "    </tr>\n",
       "    <tr>\n",
       "      <th>4</th>\n",
       "      <td>0013-EXCHZ</td>\n",
       "      <td>Sim</td>\n",
       "      <td>Feminino</td>\n",
       "      <td>Sim</td>\n",
       "      <td>Sim</td>\n",
       "      <td>Não</td>\n",
       "      <td>3</td>\n",
       "      <td>Sim</td>\n",
       "      <td>Não</td>\n",
       "      <td>fibra</td>\n",
       "      <td>...</td>\n",
       "      <td>Não</td>\n",
       "      <td>Não</td>\n",
       "      <td>Sim</td>\n",
       "      <td>Sim</td>\n",
       "      <td>Não</td>\n",
       "      <td>Mensal</td>\n",
       "      <td>Sim</td>\n",
       "      <td>Cheque</td>\n",
       "      <td>83.9</td>\n",
       "      <td>267.4</td>\n",
       "    </tr>\n",
       "  </tbody>\n",
       "</table>\n",
       "<p>5 rows × 21 columns</p>\n",
       "</div>"
      ],
      "text/plain": [
       "   cliente_id churn     genero idoso casado dependentes  duracao_contrato  \\\n",
       "0  0002-ORFBO   Não   Feminino   Não    Sim         Sim                 9   \n",
       "1  0003-MKNFE   Não  Masculino   Não    Não         Não                 9   \n",
       "2  0004-TLHLJ   Sim  Masculino   Não    Não         Não                 4   \n",
       "3  0011-IGKFF   Sim  Masculino   Sim    Sim         Não                13   \n",
       "4  0013-EXCHZ   Sim   Feminino   Sim    Sim         Não                 3   \n",
       "\n",
       "  assinatura_telefone linhas_extras assinatura_internet  ... backup_nuvem  \\\n",
       "0                 Sim           Não                 dsl  ...          Sim   \n",
       "1                 Sim           Sim                 dsl  ...          Não   \n",
       "2                 Sim           Não               fibra  ...          Não   \n",
       "3                 Sim           Não               fibra  ...          Sim   \n",
       "4                 Sim           Não               fibra  ...          Não   \n",
       "\n",
       "  protecao_dispositivo suporte_tecnico streaming_tv streaming_filmes contrato  \\\n",
       "0                  Não             Sim          Sim              Não    Anual   \n",
       "1                  Não             Não          Não              Sim   Mensal   \n",
       "2                  Sim             Não          Não              Não   Mensal   \n",
       "3                  Sim             Não          Sim              Sim   Mensal   \n",
       "4                  Não             Sim          Sim              Não   Mensal   \n",
       "\n",
       "  cobranca_digital   metodo_pagamento custo_mensal  custo_total  \n",
       "0              Sim             Cheque         65.6        593.3  \n",
       "1              Não             Cheque         59.9        542.4  \n",
       "2              Sim  Cheque eletrônico         73.9       280.85  \n",
       "3              Sim  Cheque eletrônico         98.0      1237.85  \n",
       "4              Sim             Cheque         83.9        267.4  \n",
       "\n",
       "[5 rows x 21 columns]"
      ]
     },
     "execution_count": 224,
     "metadata": {},
     "output_type": "execute_result"
    }
   ],
   "source": [
    "dados_organizado = pd.concat([dados[['cliente_id', 'churn']], dados_cliente, servicos_telefone, servicos_internet, detalhes_contrato], axis = 1)\n",
    "dados_organizado.head()"
   ]
  },
  {
   "cell_type": "markdown",
   "id": "7c439782-3a5a-466a-a844-049f95b9ee3b",
   "metadata": {},
   "source": [
    "## Removendo as entradas inválidas da coluna `churn`"
   ]
  },
  {
   "cell_type": "code",
   "execution_count": 225,
   "id": "4fd5fa2d-b27f-4b8b-a335-7f60a3865415",
   "metadata": {
    "tags": []
   },
   "outputs": [
    {
     "data": {
      "text/plain": [
       "7043"
      ]
     },
     "execution_count": 225,
     "metadata": {},
     "output_type": "execute_result"
    }
   ],
   "source": [
    "limpeza_churn = dados_organizado.churn != ''\n",
    "dados_organizado = dados_organizado[limpeza_churn]\n",
    "dados_organizado.reset_index(drop=True, inplace=True)\n",
    "dados_organizado.shape[0]"
   ]
  },
  {
   "cell_type": "code",
   "execution_count": 226,
   "id": "faec147a-6c99-4c56-87c6-e67607fba53e",
   "metadata": {},
   "outputs": [
    {
     "name": "stdout",
     "output_type": "stream",
     "text": [
      "<class 'pandas.core.frame.DataFrame'>\n",
      "RangeIndex: 7043 entries, 0 to 7042\n",
      "Data columns (total 21 columns):\n",
      " #   Column                Non-Null Count  Dtype  \n",
      "---  ------                --------------  -----  \n",
      " 0   cliente_id            7043 non-null   object \n",
      " 1   churn                 7043 non-null   object \n",
      " 2   genero                7043 non-null   object \n",
      " 3   idoso                 7043 non-null   object \n",
      " 4   casado                7043 non-null   object \n",
      " 5   dependentes           7043 non-null   object \n",
      " 6   duracao_contrato      7043 non-null   int64  \n",
      " 7   assinatura_telefone   7043 non-null   object \n",
      " 8   linhas_extras         7043 non-null   object \n",
      " 9   assinatura_internet   7043 non-null   object \n",
      " 10  protecao_online       7043 non-null   object \n",
      " 11  backup_nuvem          7043 non-null   object \n",
      " 12  protecao_dispositivo  7043 non-null   object \n",
      " 13  suporte_tecnico       7043 non-null   object \n",
      " 14  streaming_tv          7043 non-null   object \n",
      " 15  streaming_filmes      7043 non-null   object \n",
      " 16  contrato              7043 non-null   object \n",
      " 17  cobranca_digital      7043 non-null   object \n",
      " 18  metodo_pagamento      7043 non-null   object \n",
      " 19  custo_mensal          7043 non-null   float64\n",
      " 20  custo_total           7043 non-null   object \n",
      "dtypes: float64(1), int64(1), object(19)\n",
      "memory usage: 1.1+ MB\n"
     ]
    }
   ],
   "source": [
    "dados_organizado.info()"
   ]
  },
  {
   "cell_type": "markdown",
   "id": "eabce925-8f33-48b1-a37d-38fcca0f9375",
   "metadata": {},
   "source": [
    "### Convertendo os valores númericos que estão como string na coluna `custo_total`"
   ]
  },
  {
   "cell_type": "code",
   "execution_count": 227,
   "id": "17c6c673-6ee7-45b7-8d25-7c1ac9c1d765",
   "metadata": {},
   "outputs": [],
   "source": [
    "dados_organizado.custo_total = pd.to_numeric(dados_organizado.custo_total, errors = 'coerce')"
   ]
  },
  {
   "cell_type": "code",
   "execution_count": 228,
   "id": "4a0d52dd-86d2-44c2-bfc7-1d66d37c186e",
   "metadata": {
    "tags": []
   },
   "outputs": [
    {
     "name": "stdout",
     "output_type": "stream",
     "text": [
      "<class 'pandas.core.frame.DataFrame'>\n",
      "RangeIndex: 7043 entries, 0 to 7042\n",
      "Data columns (total 21 columns):\n",
      " #   Column                Non-Null Count  Dtype  \n",
      "---  ------                --------------  -----  \n",
      " 0   cliente_id            7043 non-null   object \n",
      " 1   churn                 7043 non-null   object \n",
      " 2   genero                7043 non-null   object \n",
      " 3   idoso                 7043 non-null   object \n",
      " 4   casado                7043 non-null   object \n",
      " 5   dependentes           7043 non-null   object \n",
      " 6   duracao_contrato      7043 non-null   int64  \n",
      " 7   assinatura_telefone   7043 non-null   object \n",
      " 8   linhas_extras         7043 non-null   object \n",
      " 9   assinatura_internet   7043 non-null   object \n",
      " 10  protecao_online       7043 non-null   object \n",
      " 11  backup_nuvem          7043 non-null   object \n",
      " 12  protecao_dispositivo  7043 non-null   object \n",
      " 13  suporte_tecnico       7043 non-null   object \n",
      " 14  streaming_tv          7043 non-null   object \n",
      " 15  streaming_filmes      7043 non-null   object \n",
      " 16  contrato              7043 non-null   object \n",
      " 17  cobranca_digital      7043 non-null   object \n",
      " 18  metodo_pagamento      7043 non-null   object \n",
      " 19  custo_mensal          7043 non-null   float64\n",
      " 20  custo_total           7032 non-null   float64\n",
      "dtypes: float64(2), int64(1), object(18)\n",
      "memory usage: 1.1+ MB\n"
     ]
    }
   ],
   "source": [
    "dados_organizado.info()"
   ]
  },
  {
   "cell_type": "markdown",
   "id": "245a1480-a874-429b-8d3d-9b8f6f6d6416",
   "metadata": {},
   "source": [
    "## Observação:\n",
    "Após a conversão da coluna `custo_total` para float, evidencia-se 11 valores nulos que deverão ser tratados, possivelmente sendo aqueles que estavam com duração de contrato igual à 0."
   ]
  },
  {
   "cell_type": "code",
   "execution_count": 229,
   "id": "90990d6b-5709-4f6c-9294-8b153ea48d45",
   "metadata": {
    "tags": []
   },
   "outputs": [
    {
     "data": {
      "text/html": [
       "<div>\n",
       "<style scoped>\n",
       "    .dataframe tbody tr th:only-of-type {\n",
       "        vertical-align: middle;\n",
       "    }\n",
       "\n",
       "    .dataframe tbody tr th {\n",
       "        vertical-align: top;\n",
       "    }\n",
       "\n",
       "    .dataframe thead th {\n",
       "        text-align: right;\n",
       "    }\n",
       "</style>\n",
       "<table border=\"1\" class=\"dataframe\">\n",
       "  <thead>\n",
       "    <tr style=\"text-align: right;\">\n",
       "      <th></th>\n",
       "      <th>cliente_id</th>\n",
       "      <th>churn</th>\n",
       "      <th>duracao_contrato</th>\n",
       "      <th>custo_mensal</th>\n",
       "      <th>custo_total</th>\n",
       "    </tr>\n",
       "  </thead>\n",
       "  <tbody>\n",
       "    <tr>\n",
       "      <th>945</th>\n",
       "      <td>1371-DWPAZ</td>\n",
       "      <td>Não</td>\n",
       "      <td>0</td>\n",
       "      <td>56.05</td>\n",
       "      <td>NaN</td>\n",
       "    </tr>\n",
       "    <tr>\n",
       "      <th>1731</th>\n",
       "      <td>2520-SGTTA</td>\n",
       "      <td>Não</td>\n",
       "      <td>0</td>\n",
       "      <td>20.00</td>\n",
       "      <td>NaN</td>\n",
       "    </tr>\n",
       "    <tr>\n",
       "      <th>1906</th>\n",
       "      <td>2775-SEFEE</td>\n",
       "      <td>Não</td>\n",
       "      <td>0</td>\n",
       "      <td>61.90</td>\n",
       "      <td>NaN</td>\n",
       "    </tr>\n",
       "    <tr>\n",
       "      <th>2025</th>\n",
       "      <td>2923-ARZLG</td>\n",
       "      <td>Não</td>\n",
       "      <td>0</td>\n",
       "      <td>19.70</td>\n",
       "      <td>NaN</td>\n",
       "    </tr>\n",
       "    <tr>\n",
       "      <th>2176</th>\n",
       "      <td>3115-CZMZD</td>\n",
       "      <td>Não</td>\n",
       "      <td>0</td>\n",
       "      <td>20.25</td>\n",
       "      <td>NaN</td>\n",
       "    </tr>\n",
       "    <tr>\n",
       "      <th>2250</th>\n",
       "      <td>3213-VVOLG</td>\n",
       "      <td>Não</td>\n",
       "      <td>0</td>\n",
       "      <td>25.35</td>\n",
       "      <td>NaN</td>\n",
       "    </tr>\n",
       "    <tr>\n",
       "      <th>2855</th>\n",
       "      <td>4075-WKNIU</td>\n",
       "      <td>Não</td>\n",
       "      <td>0</td>\n",
       "      <td>73.35</td>\n",
       "      <td>NaN</td>\n",
       "    </tr>\n",
       "    <tr>\n",
       "      <th>3052</th>\n",
       "      <td>4367-NUYAO</td>\n",
       "      <td>Não</td>\n",
       "      <td>0</td>\n",
       "      <td>25.75</td>\n",
       "      <td>NaN</td>\n",
       "    </tr>\n",
       "    <tr>\n",
       "      <th>3118</th>\n",
       "      <td>4472-LVYGI</td>\n",
       "      <td>Não</td>\n",
       "      <td>0</td>\n",
       "      <td>52.55</td>\n",
       "      <td>NaN</td>\n",
       "    </tr>\n",
       "    <tr>\n",
       "      <th>4054</th>\n",
       "      <td>5709-LVOEQ</td>\n",
       "      <td>Não</td>\n",
       "      <td>0</td>\n",
       "      <td>80.85</td>\n",
       "      <td>NaN</td>\n",
       "    </tr>\n",
       "    <tr>\n",
       "      <th>5433</th>\n",
       "      <td>7644-OMVMY</td>\n",
       "      <td>Não</td>\n",
       "      <td>0</td>\n",
       "      <td>19.85</td>\n",
       "      <td>NaN</td>\n",
       "    </tr>\n",
       "  </tbody>\n",
       "</table>\n",
       "</div>"
      ],
      "text/plain": [
       "      cliente_id churn  duracao_contrato  custo_mensal  custo_total\n",
       "945   1371-DWPAZ   Não                 0         56.05          NaN\n",
       "1731  2520-SGTTA   Não                 0         20.00          NaN\n",
       "1906  2775-SEFEE   Não                 0         61.90          NaN\n",
       "2025  2923-ARZLG   Não                 0         19.70          NaN\n",
       "2176  3115-CZMZD   Não                 0         20.25          NaN\n",
       "2250  3213-VVOLG   Não                 0         25.35          NaN\n",
       "2855  4075-WKNIU   Não                 0         73.35          NaN\n",
       "3052  4367-NUYAO   Não                 0         25.75          NaN\n",
       "3118  4472-LVYGI   Não                 0         52.55          NaN\n",
       "4054  5709-LVOEQ   Não                 0         80.85          NaN\n",
       "5433  7644-OMVMY   Não                 0         19.85          NaN"
      ]
     },
     "execution_count": 229,
     "metadata": {},
     "output_type": "execute_result"
    }
   ],
   "source": [
    "dados_organizado[dados_organizado.custo_total.isnull()][['cliente_id', 'churn', 'duracao_contrato', 'custo_mensal', 'custo_total']]"
   ]
  },
  {
   "cell_type": "markdown",
   "id": "ef5c070c-74ed-423e-891a-00b2028c508a",
   "metadata": {},
   "source": [
    "Como são clientes que estão com contrato ativo (apresentam Não na coluna churn), podemos concluir que ainda não completaram o primeiro mês de contrato, com isso, a coluna `custo_total` será preenchida com o valor do `custo_mensal`"
   ]
  },
  {
   "cell_type": "markdown",
   "id": "7dd8e2af-6310-4450-8e01-995246d161a6",
   "metadata": {},
   "source": [
    "## Corrigindo as entradas nulas para `custo_total` substituindo com os valores de `custo_mensal`"
   ]
  },
  {
   "cell_type": "code",
   "execution_count": 230,
   "id": "4f2fb8d1-bf4f-4294-bfee-794c5617a92d",
   "metadata": {
    "tags": []
   },
   "outputs": [],
   "source": [
    "indice_valores_nulos = dados_organizado[dados_organizado.custo_total.isnull()].index\n",
    "dados_organizado.loc[indice_valores_nulos, 'custo_total'] = dados_organizado.loc[indice_valores_nulos, 'custo_mensal']"
   ]
  },
  {
   "cell_type": "code",
   "execution_count": 231,
   "id": "a2103369-0a2c-451e-8bba-f8b50d2a923a",
   "metadata": {},
   "outputs": [
    {
     "data": {
      "text/html": [
       "<div>\n",
       "<style scoped>\n",
       "    .dataframe tbody tr th:only-of-type {\n",
       "        vertical-align: middle;\n",
       "    }\n",
       "\n",
       "    .dataframe tbody tr th {\n",
       "        vertical-align: top;\n",
       "    }\n",
       "\n",
       "    .dataframe thead th {\n",
       "        text-align: right;\n",
       "    }\n",
       "</style>\n",
       "<table border=\"1\" class=\"dataframe\">\n",
       "  <thead>\n",
       "    <tr style=\"text-align: right;\">\n",
       "      <th></th>\n",
       "      <th>cliente_id</th>\n",
       "      <th>churn</th>\n",
       "      <th>duracao_contrato</th>\n",
       "      <th>custo_mensal</th>\n",
       "      <th>custo_total</th>\n",
       "    </tr>\n",
       "  </thead>\n",
       "  <tbody>\n",
       "    <tr>\n",
       "      <th>945</th>\n",
       "      <td>1371-DWPAZ</td>\n",
       "      <td>Não</td>\n",
       "      <td>0</td>\n",
       "      <td>56.05</td>\n",
       "      <td>56.05</td>\n",
       "    </tr>\n",
       "    <tr>\n",
       "      <th>1731</th>\n",
       "      <td>2520-SGTTA</td>\n",
       "      <td>Não</td>\n",
       "      <td>0</td>\n",
       "      <td>20.00</td>\n",
       "      <td>20.00</td>\n",
       "    </tr>\n",
       "    <tr>\n",
       "      <th>1906</th>\n",
       "      <td>2775-SEFEE</td>\n",
       "      <td>Não</td>\n",
       "      <td>0</td>\n",
       "      <td>61.90</td>\n",
       "      <td>61.90</td>\n",
       "    </tr>\n",
       "    <tr>\n",
       "      <th>2025</th>\n",
       "      <td>2923-ARZLG</td>\n",
       "      <td>Não</td>\n",
       "      <td>0</td>\n",
       "      <td>19.70</td>\n",
       "      <td>19.70</td>\n",
       "    </tr>\n",
       "    <tr>\n",
       "      <th>2176</th>\n",
       "      <td>3115-CZMZD</td>\n",
       "      <td>Não</td>\n",
       "      <td>0</td>\n",
       "      <td>20.25</td>\n",
       "      <td>20.25</td>\n",
       "    </tr>\n",
       "    <tr>\n",
       "      <th>2250</th>\n",
       "      <td>3213-VVOLG</td>\n",
       "      <td>Não</td>\n",
       "      <td>0</td>\n",
       "      <td>25.35</td>\n",
       "      <td>25.35</td>\n",
       "    </tr>\n",
       "    <tr>\n",
       "      <th>2855</th>\n",
       "      <td>4075-WKNIU</td>\n",
       "      <td>Não</td>\n",
       "      <td>0</td>\n",
       "      <td>73.35</td>\n",
       "      <td>73.35</td>\n",
       "    </tr>\n",
       "    <tr>\n",
       "      <th>3052</th>\n",
       "      <td>4367-NUYAO</td>\n",
       "      <td>Não</td>\n",
       "      <td>0</td>\n",
       "      <td>25.75</td>\n",
       "      <td>25.75</td>\n",
       "    </tr>\n",
       "    <tr>\n",
       "      <th>3118</th>\n",
       "      <td>4472-LVYGI</td>\n",
       "      <td>Não</td>\n",
       "      <td>0</td>\n",
       "      <td>52.55</td>\n",
       "      <td>52.55</td>\n",
       "    </tr>\n",
       "    <tr>\n",
       "      <th>4054</th>\n",
       "      <td>5709-LVOEQ</td>\n",
       "      <td>Não</td>\n",
       "      <td>0</td>\n",
       "      <td>80.85</td>\n",
       "      <td>80.85</td>\n",
       "    </tr>\n",
       "    <tr>\n",
       "      <th>5433</th>\n",
       "      <td>7644-OMVMY</td>\n",
       "      <td>Não</td>\n",
       "      <td>0</td>\n",
       "      <td>19.85</td>\n",
       "      <td>19.85</td>\n",
       "    </tr>\n",
       "  </tbody>\n",
       "</table>\n",
       "</div>"
      ],
      "text/plain": [
       "      cliente_id churn  duracao_contrato  custo_mensal  custo_total\n",
       "945   1371-DWPAZ   Não                 0         56.05        56.05\n",
       "1731  2520-SGTTA   Não                 0         20.00        20.00\n",
       "1906  2775-SEFEE   Não                 0         61.90        61.90\n",
       "2025  2923-ARZLG   Não                 0         19.70        19.70\n",
       "2176  3115-CZMZD   Não                 0         20.25        20.25\n",
       "2250  3213-VVOLG   Não                 0         25.35        25.35\n",
       "2855  4075-WKNIU   Não                 0         73.35        73.35\n",
       "3052  4367-NUYAO   Não                 0         25.75        25.75\n",
       "3118  4472-LVYGI   Não                 0         52.55        52.55\n",
       "4054  5709-LVOEQ   Não                 0         80.85        80.85\n",
       "5433  7644-OMVMY   Não                 0         19.85        19.85"
      ]
     },
     "execution_count": 231,
     "metadata": {},
     "output_type": "execute_result"
    }
   ],
   "source": [
    "dados_organizado[dados_organizado.duracao_contrato == 0][['cliente_id', 'churn', 'duracao_contrato', 'custo_mensal', 'custo_total']]"
   ]
  },
  {
   "cell_type": "markdown",
   "id": "12b57e37-147a-4f25-aa1d-ffef35150f78",
   "metadata": {},
   "source": [
    "### Criação da coluna `custo_diario`"
   ]
  },
  {
   "cell_type": "code",
   "execution_count": 232,
   "id": "eeeccbcb-78a8-431e-ae60-012a41722f73",
   "metadata": {
    "tags": []
   },
   "outputs": [],
   "source": [
    "custo_diario = round(dados_organizado.custo_mensal / 30, 2)\n",
    "dados_organizado.insert(loc = 19, column = 'custo_diario', value = custo_diario)"
   ]
  },
  {
   "cell_type": "code",
   "execution_count": 233,
   "id": "b9178760-b701-4b63-8878-f05b87282553",
   "metadata": {},
   "outputs": [
    {
     "data": {
      "text/html": [
       "<div>\n",
       "<style scoped>\n",
       "    .dataframe tbody tr th:only-of-type {\n",
       "        vertical-align: middle;\n",
       "    }\n",
       "\n",
       "    .dataframe tbody tr th {\n",
       "        vertical-align: top;\n",
       "    }\n",
       "\n",
       "    .dataframe thead th {\n",
       "        text-align: right;\n",
       "    }\n",
       "</style>\n",
       "<table border=\"1\" class=\"dataframe\">\n",
       "  <thead>\n",
       "    <tr style=\"text-align: right;\">\n",
       "      <th></th>\n",
       "      <th>cliente_id</th>\n",
       "      <th>churn</th>\n",
       "      <th>genero</th>\n",
       "      <th>idoso</th>\n",
       "      <th>casado</th>\n",
       "      <th>dependentes</th>\n",
       "      <th>duracao_contrato</th>\n",
       "      <th>assinatura_telefone</th>\n",
       "      <th>linhas_extras</th>\n",
       "      <th>assinatura_internet</th>\n",
       "      <th>...</th>\n",
       "      <th>protecao_dispositivo</th>\n",
       "      <th>suporte_tecnico</th>\n",
       "      <th>streaming_tv</th>\n",
       "      <th>streaming_filmes</th>\n",
       "      <th>contrato</th>\n",
       "      <th>cobranca_digital</th>\n",
       "      <th>metodo_pagamento</th>\n",
       "      <th>custo_diario</th>\n",
       "      <th>custo_mensal</th>\n",
       "      <th>custo_total</th>\n",
       "    </tr>\n",
       "  </thead>\n",
       "  <tbody>\n",
       "    <tr>\n",
       "      <th>0</th>\n",
       "      <td>0002-ORFBO</td>\n",
       "      <td>Não</td>\n",
       "      <td>Feminino</td>\n",
       "      <td>Não</td>\n",
       "      <td>Sim</td>\n",
       "      <td>Sim</td>\n",
       "      <td>9</td>\n",
       "      <td>Sim</td>\n",
       "      <td>Não</td>\n",
       "      <td>dsl</td>\n",
       "      <td>...</td>\n",
       "      <td>Não</td>\n",
       "      <td>Sim</td>\n",
       "      <td>Sim</td>\n",
       "      <td>Não</td>\n",
       "      <td>Anual</td>\n",
       "      <td>Sim</td>\n",
       "      <td>Cheque</td>\n",
       "      <td>2.19</td>\n",
       "      <td>65.6</td>\n",
       "      <td>593.30</td>\n",
       "    </tr>\n",
       "    <tr>\n",
       "      <th>1</th>\n",
       "      <td>0003-MKNFE</td>\n",
       "      <td>Não</td>\n",
       "      <td>Masculino</td>\n",
       "      <td>Não</td>\n",
       "      <td>Não</td>\n",
       "      <td>Não</td>\n",
       "      <td>9</td>\n",
       "      <td>Sim</td>\n",
       "      <td>Sim</td>\n",
       "      <td>dsl</td>\n",
       "      <td>...</td>\n",
       "      <td>Não</td>\n",
       "      <td>Não</td>\n",
       "      <td>Não</td>\n",
       "      <td>Sim</td>\n",
       "      <td>Mensal</td>\n",
       "      <td>Não</td>\n",
       "      <td>Cheque</td>\n",
       "      <td>2.00</td>\n",
       "      <td>59.9</td>\n",
       "      <td>542.40</td>\n",
       "    </tr>\n",
       "    <tr>\n",
       "      <th>2</th>\n",
       "      <td>0004-TLHLJ</td>\n",
       "      <td>Sim</td>\n",
       "      <td>Masculino</td>\n",
       "      <td>Não</td>\n",
       "      <td>Não</td>\n",
       "      <td>Não</td>\n",
       "      <td>4</td>\n",
       "      <td>Sim</td>\n",
       "      <td>Não</td>\n",
       "      <td>fibra</td>\n",
       "      <td>...</td>\n",
       "      <td>Sim</td>\n",
       "      <td>Não</td>\n",
       "      <td>Não</td>\n",
       "      <td>Não</td>\n",
       "      <td>Mensal</td>\n",
       "      <td>Sim</td>\n",
       "      <td>Cheque eletrônico</td>\n",
       "      <td>2.46</td>\n",
       "      <td>73.9</td>\n",
       "      <td>280.85</td>\n",
       "    </tr>\n",
       "    <tr>\n",
       "      <th>3</th>\n",
       "      <td>0011-IGKFF</td>\n",
       "      <td>Sim</td>\n",
       "      <td>Masculino</td>\n",
       "      <td>Sim</td>\n",
       "      <td>Sim</td>\n",
       "      <td>Não</td>\n",
       "      <td>13</td>\n",
       "      <td>Sim</td>\n",
       "      <td>Não</td>\n",
       "      <td>fibra</td>\n",
       "      <td>...</td>\n",
       "      <td>Sim</td>\n",
       "      <td>Não</td>\n",
       "      <td>Sim</td>\n",
       "      <td>Sim</td>\n",
       "      <td>Mensal</td>\n",
       "      <td>Sim</td>\n",
       "      <td>Cheque eletrônico</td>\n",
       "      <td>3.27</td>\n",
       "      <td>98.0</td>\n",
       "      <td>1237.85</td>\n",
       "    </tr>\n",
       "    <tr>\n",
       "      <th>4</th>\n",
       "      <td>0013-EXCHZ</td>\n",
       "      <td>Sim</td>\n",
       "      <td>Feminino</td>\n",
       "      <td>Sim</td>\n",
       "      <td>Sim</td>\n",
       "      <td>Não</td>\n",
       "      <td>3</td>\n",
       "      <td>Sim</td>\n",
       "      <td>Não</td>\n",
       "      <td>fibra</td>\n",
       "      <td>...</td>\n",
       "      <td>Não</td>\n",
       "      <td>Sim</td>\n",
       "      <td>Sim</td>\n",
       "      <td>Não</td>\n",
       "      <td>Mensal</td>\n",
       "      <td>Sim</td>\n",
       "      <td>Cheque</td>\n",
       "      <td>2.80</td>\n",
       "      <td>83.9</td>\n",
       "      <td>267.40</td>\n",
       "    </tr>\n",
       "  </tbody>\n",
       "</table>\n",
       "<p>5 rows × 22 columns</p>\n",
       "</div>"
      ],
      "text/plain": [
       "   cliente_id churn     genero idoso casado dependentes  duracao_contrato  \\\n",
       "0  0002-ORFBO   Não   Feminino   Não    Sim         Sim                 9   \n",
       "1  0003-MKNFE   Não  Masculino   Não    Não         Não                 9   \n",
       "2  0004-TLHLJ   Sim  Masculino   Não    Não         Não                 4   \n",
       "3  0011-IGKFF   Sim  Masculino   Sim    Sim         Não                13   \n",
       "4  0013-EXCHZ   Sim   Feminino   Sim    Sim         Não                 3   \n",
       "\n",
       "  assinatura_telefone linhas_extras assinatura_internet  ...  \\\n",
       "0                 Sim           Não                 dsl  ...   \n",
       "1                 Sim           Sim                 dsl  ...   \n",
       "2                 Sim           Não               fibra  ...   \n",
       "3                 Sim           Não               fibra  ...   \n",
       "4                 Sim           Não               fibra  ...   \n",
       "\n",
       "  protecao_dispositivo suporte_tecnico streaming_tv streaming_filmes contrato  \\\n",
       "0                  Não             Sim          Sim              Não    Anual   \n",
       "1                  Não             Não          Não              Sim   Mensal   \n",
       "2                  Sim             Não          Não              Não   Mensal   \n",
       "3                  Sim             Não          Sim              Sim   Mensal   \n",
       "4                  Não             Sim          Sim              Não   Mensal   \n",
       "\n",
       "  cobranca_digital   metodo_pagamento custo_diario custo_mensal  custo_total  \n",
       "0              Sim             Cheque         2.19         65.6       593.30  \n",
       "1              Não             Cheque         2.00         59.9       542.40  \n",
       "2              Sim  Cheque eletrônico         2.46         73.9       280.85  \n",
       "3              Sim  Cheque eletrônico         3.27         98.0      1237.85  \n",
       "4              Sim             Cheque         2.80         83.9       267.40  \n",
       "\n",
       "[5 rows x 22 columns]"
      ]
     },
     "execution_count": 233,
     "metadata": {},
     "output_type": "execute_result"
    }
   ],
   "source": [
    "dados_organizado.head()"
   ]
  },
  {
   "cell_type": "code",
   "execution_count": 234,
   "id": "b26b95d5-46e9-4f51-8939-6a9f4e086749",
   "metadata": {},
   "outputs": [
    {
     "name": "stdout",
     "output_type": "stream",
     "text": [
      "<class 'pandas.core.frame.DataFrame'>\n",
      "RangeIndex: 7043 entries, 0 to 7042\n",
      "Data columns (total 22 columns):\n",
      " #   Column                Non-Null Count  Dtype  \n",
      "---  ------                --------------  -----  \n",
      " 0   cliente_id            7043 non-null   object \n",
      " 1   churn                 7043 non-null   object \n",
      " 2   genero                7043 non-null   object \n",
      " 3   idoso                 7043 non-null   object \n",
      " 4   casado                7043 non-null   object \n",
      " 5   dependentes           7043 non-null   object \n",
      " 6   duracao_contrato      7043 non-null   int64  \n",
      " 7   assinatura_telefone   7043 non-null   object \n",
      " 8   linhas_extras         7043 non-null   object \n",
      " 9   assinatura_internet   7043 non-null   object \n",
      " 10  protecao_online       7043 non-null   object \n",
      " 11  backup_nuvem          7043 non-null   object \n",
      " 12  protecao_dispositivo  7043 non-null   object \n",
      " 13  suporte_tecnico       7043 non-null   object \n",
      " 14  streaming_tv          7043 non-null   object \n",
      " 15  streaming_filmes      7043 non-null   object \n",
      " 16  contrato              7043 non-null   object \n",
      " 17  cobranca_digital      7043 non-null   object \n",
      " 18  metodo_pagamento      7043 non-null   object \n",
      " 19  custo_diario          7043 non-null   float64\n",
      " 20  custo_mensal          7043 non-null   float64\n",
      " 21  custo_total           7043 non-null   float64\n",
      "dtypes: float64(3), int64(1), object(18)\n",
      "memory usage: 1.2+ MB\n"
     ]
    }
   ],
   "source": [
    "dados_organizado.info()"
   ]
  },
  {
   "cell_type": "code",
   "execution_count": 235,
   "id": "287f9cbf-5d82-4b14-b806-7c2b4d28a136",
   "metadata": {},
   "outputs": [
    {
     "data": {
      "text/plain": [
       "cliente_id              0\n",
       "churn                   0\n",
       "genero                  0\n",
       "idoso                   0\n",
       "casado                  0\n",
       "dependentes             0\n",
       "duracao_contrato        0\n",
       "assinatura_telefone     0\n",
       "linhas_extras           0\n",
       "assinatura_internet     0\n",
       "protecao_online         0\n",
       "backup_nuvem            0\n",
       "protecao_dispositivo    0\n",
       "suporte_tecnico         0\n",
       "streaming_tv            0\n",
       "streaming_filmes        0\n",
       "contrato                0\n",
       "cobranca_digital        0\n",
       "metodo_pagamento        0\n",
       "custo_diario            0\n",
       "custo_mensal            0\n",
       "custo_total             0\n",
       "dtype: int64"
      ]
     },
     "execution_count": 235,
     "metadata": {},
     "output_type": "execute_result"
    }
   ],
   "source": [
    "dados_organizado.isnull().sum()"
   ]
  },
  {
   "cell_type": "markdown",
   "id": "3291f426-9273-4a32-b711-2bdaf22a98e1",
   "metadata": {},
   "source": [
    "# Salvando os dados limpos"
   ]
  },
  {
   "cell_type": "code",
   "execution_count": 236,
   "id": "47f9d9c6-7415-460f-a170-a24009a32211",
   "metadata": {},
   "outputs": [],
   "source": [
    "dados_organizado.to_json('dados_churn_clean.json')  # salvando a nova base de dados para um novo json"
   ]
  },
  {
   "cell_type": "markdown",
   "id": "9ffbc926-79cd-4487-a1d4-b57766efa7fd",
   "metadata": {},
   "source": [
    "## Taxa de evasão de clientes"
   ]
  },
  {
   "cell_type": "code",
   "execution_count": 221,
   "id": "9aee7f7d-4459-4563-9fa8-c7d8440d88fb",
   "metadata": {},
   "outputs": [
    {
     "data": {
      "text/plain": [
       "<AxesSubplot:ylabel='churn'>"
      ]
     },
     "execution_count": 221,
     "metadata": {},
     "output_type": "execute_result"
    },
    {
     "data": {
      "image/png": "[encoded data removed]",
      "text/plain": [
       "<Figure size 432x288 with 1 Axes>"
      ]
     },
     "metadata": {},
     "output_type": "display_data"
    }
   ],
   "source": [
    "dados_organizado.churn.value_counts(normalize = True).plot(kind = 'pie', autopct='%.2f%%', explode = (0,0.1))"
   ]
  },
  {
   "cell_type": "markdown",
   "id": "25f7a48a-5e51-417d-ab84-ed350322879e",
   "metadata": {},
   "source": [
    "### Configurando Histograma sobre duração de contrato"
   ]
  },
  {
   "cell_type": "code",
   "execution_count": 222,
   "id": "8795047f-4e7b-4bd6-93a3-3b2cd3915ab1",
   "metadata": {},
   "outputs": [
    {
     "data": {
      "text/plain": [
       "Text(0, 0.5, 'Número de Clientes')"
      ]
     },
     "execution_count": 222,
     "metadata": {},
     "output_type": "execute_result"
    },
    {
     "data": {
      "image/png": "[encoded data removed]",
      "text/plain": [
       "<Figure size 432x288 with 1 Axes>"
      ]
     },
     "metadata": {
      "needs_background": "light"
     },
     "output_type": "display_data"
    }
   ],
   "source": [
    "ax = sns.histplot(x = dados_organizado.duracao_contrato, bins = 6, kde = True,)\n",
    "ax.axes.set_title('Histograma abordando Duração de Contrato', fontsize = 20)\n",
    "ax.set_xlabel('Duração de Contrato (meses)', fontsize = 14)\n",
    "ax.set_ylabel('Número de Clientes', fontsize = 14)"
   ]
  },
  {
   "cell_type": "markdown",
   "id": "5d11f534-68be-4758-a095-8938c177a4e9",
   "metadata": {},
   "source": [
    "### Configurando Boxplot do custo diário"
   ]
  },
  {
   "cell_type": "code",
   "execution_count": 81,
   "id": "41752c73-4bb9-4554-b9fe-fd0b3d947a92",
   "metadata": {},
   "outputs": [
    {
     "data": {
      "text/plain": [
       "count    6819.000000\n",
       "mean        2.162319\n",
       "std         1.003610\n",
       "min         0.610000\n",
       "25%         1.185000\n",
       "50%         2.350000\n",
       "75%         3.000000\n",
       "max         3.960000\n",
       "Name: custo_diario, dtype: float64"
      ]
     },
     "execution_count": 81,
     "metadata": {},
     "output_type": "execute_result"
    }
   ],
   "source": [
    "dados_organizado.custo_diario.describe()"
   ]
  },
  {
   "cell_type": "code",
   "execution_count": 82,
   "id": "48e80c58-5181-46a5-9a4d-d2bd19112c2e",
   "metadata": {},
   "outputs": [
    {
     "data": {
      "text/plain": [
       "Text(0.5, 0, 'Custo Diário')"
      ]
     },
     "execution_count": 82,
     "metadata": {},
     "output_type": "execute_result"
    },
    {
     "data": {
      "image/png": "[encoded data removed]",
      "text/plain": [
       "<Figure size 432x288 with 1 Axes>"
      ]
     },
     "metadata": {
      "needs_background": "light"
     },
     "output_type": "display_data"
    }
   ],
   "source": [
    "ax = sns.boxplot(x = dados_organizado.custo_diario, orient = 'h', width = 0.5)\n",
    "ax.axes.set_title('Distribuição de valores para Custo Diário', fontsize = 20)\n",
    "ax.set_xlabel('Custo Diário', fontsize = 14)"
   ]
  },
  {
   "cell_type": "markdown",
   "id": "e6dce4a3-867a-4656-bfb8-b93ca1fd0e40",
   "metadata": {
    "tags": []
   },
   "source": [
    "### Configurando Boxplot do custo mensal"
   ]
  },
  {
   "cell_type": "code",
   "execution_count": 83,
   "id": "70cb2117-e3f7-48b7-8902-67907c480c8f",
   "metadata": {},
   "outputs": [
    {
     "data": {
      "text/plain": [
       "count    6819.000000\n",
       "mean       64.871161\n",
       "std        30.105254\n",
       "min        18.250000\n",
       "25%        35.575000\n",
       "50%        70.400000\n",
       "75%        89.900000\n",
       "max       118.750000\n",
       "Name: custo_mensal, dtype: float64"
      ]
     },
     "execution_count": 83,
     "metadata": {},
     "output_type": "execute_result"
    }
   ],
   "source": [
    "dados_organizado.custo_mensal.describe()"
   ]
  },
  {
   "cell_type": "code",
   "execution_count": 84,
   "id": "0d20c6bb-34e3-4bbc-92b3-c1fd3f84cb60",
   "metadata": {},
   "outputs": [
    {
     "data": {
      "text/plain": [
       "Text(0.5, 0, 'Custo Mensal')"
      ]
     },
     "execution_count": 84,
     "metadata": {},
     "output_type": "execute_result"
    },
    {
     "data": {
      "image/png": "[encoded data removed]",
      "text/plain": [
       "<Figure size 432x288 with 1 Axes>"
      ]
     },
     "metadata": {
      "needs_background": "light"
     },
     "output_type": "display_data"
    }
   ],
   "source": [
    "ax = sns.boxplot(x = dados_organizado.custo_mensal, orient = 'h', width = 0.5)\n",
    "ax.axes.set_title('Distribuição de valores para Custo Mensal', fontsize = 20)\n",
    "ax.set_xlabel('Custo Mensal', fontsize = 14)"
   ]
  },
  {
   "cell_type": "markdown",
   "id": "a6d95921-500d-4810-9e95-f019068df1be",
   "metadata": {},
   "source": [
    "### Configurando Boxplot do custo total"
   ]
  },
  {
   "cell_type": "code",
   "execution_count": 86,
   "id": "0c02ecb4-1e00-42ea-a9c4-08cf22e8c70a",
   "metadata": {},
   "outputs": [
    {
     "data": {
      "text/plain": [
       "count    6819.000000\n",
       "mean     2291.692198\n",
       "std      2269.080121\n",
       "min        18.800000\n",
       "25%       405.650000\n",
       "50%      1404.650000\n",
       "75%      3823.325000\n",
       "max      8684.800000\n",
       "Name: custo_total, dtype: float64"
      ]
     },
     "execution_count": 86,
     "metadata": {},
     "output_type": "execute_result"
    }
   ],
   "source": [
    "dados_organizado.custo_total.describe()"
   ]
  },
  {
   "cell_type": "code",
   "execution_count": 85,
   "id": "eb795a9a-e689-4b8e-83e3-dc3a75115dab",
   "metadata": {},
   "outputs": [
    {
     "data": {
      "text/plain": [
       "Text(0.5, 0, 'Custo Total')"
      ]
     },
     "execution_count": 85,
     "metadata": {},
     "output_type": "execute_result"
    },
    {
     "data": {
      "image/png": "[encoded data removed]",
      "text/plain": [
       "<Figure size 432x288 with 1 Axes>"
      ]
     },
     "metadata": {
      "needs_background": "light"
     },
     "output_type": "display_data"
    }
   ],
   "source": [
    "ax = sns.boxplot(x = dados_organizado.custo_total, orient = 'h', width = 0.5)\n",
    "ax.axes.set_title('Distribuição de valores para Custo Total', fontsize = 20)\n",
    "ax.set_xlabel('Custo Total', fontsize = 14)"
   ]
  },
  {
   "cell_type": "code",
   "execution_count": null,
   "id": "341538f2-9364-4d8f-9e53-6a9d4eb06708",
   "metadata": {},
   "outputs": [],
   "source": []
  }
 ],
 "metadata": {
  "kernelspec": {
   "display_name": "Python 3 (ipykernel)",
   "language": "python",
   "name": "python3"
  },
  "language_info": {
   "codemirror_mode": {
    "name": "ipython",
    "version": 3
   },
   "file_extension": ".py",
   "mimetype": "text/x-python",
   "name": "python",
   "nbconvert_exporter": "python",
   "pygments_lexer": "ipython3",
   "version": "3.9.7"
  }
 },
 "nbformat": 4,
 "nbformat_minor": 5
}
