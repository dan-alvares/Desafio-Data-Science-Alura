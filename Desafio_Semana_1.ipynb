{
 "cells": [
  {
   "cell_type": "code",
   "execution_count": 2,
   "id": "a765e84d-daf5-449c-b24f-45f762cd7c3e",
   "metadata": {},
   "outputs": [],
   "source": [
    "import pandas as pd\n",
    "import matplotlib.pyplot as plt\n",
    "import seaborn as sns\n",
    "%matplotlib inline"
   ]
  },
  {
   "cell_type": "markdown",
   "id": "a9476ad9-4e37-4273-8d45-0b8d9388a882",
   "metadata": {},
   "source": [
    "# Importando base de dados"
   ]
  },
  {
   "cell_type": "code",
   "execution_count": 3,
   "id": "124a41b5-7a00-4708-999c-bc77afba0c6c",
   "metadata": {},
   "outputs": [],
   "source": [
    "dados = pd.read_json('Telco-Customer-Churn.json')"
   ]
  },
  {
   "cell_type": "code",
   "execution_count": 4,
   "id": "11c9154e-8dea-4ed6-89ae-d0fda9870b88",
   "metadata": {},
   "outputs": [
    {
     "data": {
      "text/html": [
       "<div>\n",
       "<style scoped>\n",
       "    .dataframe tbody tr th:only-of-type {\n",
       "        vertical-align: middle;\n",
       "    }\n",
       "\n",
       "    .dataframe tbody tr th {\n",
       "        vertical-align: top;\n",
       "    }\n",
       "\n",
       "    .dataframe thead th {\n",
       "        text-align: right;\n",
       "    }\n",
       "</style>\n",
       "<table border=\"1\" class=\"dataframe\">\n",
       "  <thead>\n",
       "    <tr style=\"text-align: right;\">\n",
       "      <th></th>\n",
       "      <th>customerID</th>\n",
       "      <th>Churn</th>\n",
       "      <th>customer</th>\n",
       "      <th>phone</th>\n",
       "      <th>internet</th>\n",
       "      <th>account</th>\n",
       "    </tr>\n",
       "  </thead>\n",
       "  <tbody>\n",
       "    <tr>\n",
       "      <th>0</th>\n",
       "      <td>0002-ORFBO</td>\n",
       "      <td>No</td>\n",
       "      <td>{'gender': 'Female', 'SeniorCitizen': 0, 'Part...</td>\n",
       "      <td>{'PhoneService': 'Yes', 'MultipleLines': 'No'}</td>\n",
       "      <td>{'InternetService': 'DSL', 'OnlineSecurity': '...</td>\n",
       "      <td>{'Contract': 'One year', 'PaperlessBilling': '...</td>\n",
       "    </tr>\n",
       "    <tr>\n",
       "      <th>1</th>\n",
       "      <td>0003-MKNFE</td>\n",
       "      <td>No</td>\n",
       "      <td>{'gender': 'Male', 'SeniorCitizen': 0, 'Partne...</td>\n",
       "      <td>{'PhoneService': 'Yes', 'MultipleLines': 'Yes'}</td>\n",
       "      <td>{'InternetService': 'DSL', 'OnlineSecurity': '...</td>\n",
       "      <td>{'Contract': 'Month-to-month', 'PaperlessBilli...</td>\n",
       "    </tr>\n",
       "    <tr>\n",
       "      <th>2</th>\n",
       "      <td>0004-TLHLJ</td>\n",
       "      <td>Yes</td>\n",
       "      <td>{'gender': 'Male', 'SeniorCitizen': 0, 'Partne...</td>\n",
       "      <td>{'PhoneService': 'Yes', 'MultipleLines': 'No'}</td>\n",
       "      <td>{'InternetService': 'Fiber optic', 'OnlineSecu...</td>\n",
       "      <td>{'Contract': 'Month-to-month', 'PaperlessBilli...</td>\n",
       "    </tr>\n",
       "    <tr>\n",
       "      <th>3</th>\n",
       "      <td>0011-IGKFF</td>\n",
       "      <td>Yes</td>\n",
       "      <td>{'gender': 'Male', 'SeniorCitizen': 1, 'Partne...</td>\n",
       "      <td>{'PhoneService': 'Yes', 'MultipleLines': 'No'}</td>\n",
       "      <td>{'InternetService': 'Fiber optic', 'OnlineSecu...</td>\n",
       "      <td>{'Contract': 'Month-to-month', 'PaperlessBilli...</td>\n",
       "    </tr>\n",
       "    <tr>\n",
       "      <th>4</th>\n",
       "      <td>0013-EXCHZ</td>\n",
       "      <td>Yes</td>\n",
       "      <td>{'gender': 'Female', 'SeniorCitizen': 1, 'Part...</td>\n",
       "      <td>{'PhoneService': 'Yes', 'MultipleLines': 'No'}</td>\n",
       "      <td>{'InternetService': 'Fiber optic', 'OnlineSecu...</td>\n",
       "      <td>{'Contract': 'Month-to-month', 'PaperlessBilli...</td>\n",
       "    </tr>\n",
       "  </tbody>\n",
       "</table>\n",
       "</div>"
      ],
      "text/plain": [
       "   customerID Churn                                           customer  \\\n",
       "0  0002-ORFBO    No  {'gender': 'Female', 'SeniorCitizen': 0, 'Part...   \n",
       "1  0003-MKNFE    No  {'gender': 'Male', 'SeniorCitizen': 0, 'Partne...   \n",
       "2  0004-TLHLJ   Yes  {'gender': 'Male', 'SeniorCitizen': 0, 'Partne...   \n",
       "3  0011-IGKFF   Yes  {'gender': 'Male', 'SeniorCitizen': 1, 'Partne...   \n",
       "4  0013-EXCHZ   Yes  {'gender': 'Female', 'SeniorCitizen': 1, 'Part...   \n",
       "\n",
       "                                             phone  \\\n",
       "0   {'PhoneService': 'Yes', 'MultipleLines': 'No'}   \n",
       "1  {'PhoneService': 'Yes', 'MultipleLines': 'Yes'}   \n",
       "2   {'PhoneService': 'Yes', 'MultipleLines': 'No'}   \n",
       "3   {'PhoneService': 'Yes', 'MultipleLines': 'No'}   \n",
       "4   {'PhoneService': 'Yes', 'MultipleLines': 'No'}   \n",
       "\n",
       "                                            internet  \\\n",
       "0  {'InternetService': 'DSL', 'OnlineSecurity': '...   \n",
       "1  {'InternetService': 'DSL', 'OnlineSecurity': '...   \n",
       "2  {'InternetService': 'Fiber optic', 'OnlineSecu...   \n",
       "3  {'InternetService': 'Fiber optic', 'OnlineSecu...   \n",
       "4  {'InternetService': 'Fiber optic', 'OnlineSecu...   \n",
       "\n",
       "                                             account  \n",
       "0  {'Contract': 'One year', 'PaperlessBilling': '...  \n",
       "1  {'Contract': 'Month-to-month', 'PaperlessBilli...  \n",
       "2  {'Contract': 'Month-to-month', 'PaperlessBilli...  \n",
       "3  {'Contract': 'Month-to-month', 'PaperlessBilli...  \n",
       "4  {'Contract': 'Month-to-month', 'PaperlessBilli...  "
      ]
     },
     "execution_count": 4,
     "metadata": {},
     "output_type": "execute_result"
    }
   ],
   "source": [
    "dados.head()"
   ]
  },
  {
   "cell_type": "code",
   "execution_count": 5,
   "id": "ebac819a-b489-4e01-a7b5-08dcbe91cad7",
   "metadata": {},
   "outputs": [
    {
     "data": {
      "text/html": [
       "<div>\n",
       "<style scoped>\n",
       "    .dataframe tbody tr th:only-of-type {\n",
       "        vertical-align: middle;\n",
       "    }\n",
       "\n",
       "    .dataframe tbody tr th {\n",
       "        vertical-align: top;\n",
       "    }\n",
       "\n",
       "    .dataframe thead th {\n",
       "        text-align: right;\n",
       "    }\n",
       "</style>\n",
       "<table border=\"1\" class=\"dataframe\">\n",
       "  <thead>\n",
       "    <tr style=\"text-align: right;\">\n",
       "      <th></th>\n",
       "      <th>customerID</th>\n",
       "      <th>Churn</th>\n",
       "      <th>customer</th>\n",
       "      <th>phone</th>\n",
       "      <th>internet</th>\n",
       "      <th>account</th>\n",
       "    </tr>\n",
       "  </thead>\n",
       "  <tbody>\n",
       "    <tr>\n",
       "      <th>7262</th>\n",
       "      <td>9987-LUTYD</td>\n",
       "      <td>No</td>\n",
       "      <td>{'gender': 'Female', 'SeniorCitizen': 0, 'Part...</td>\n",
       "      <td>{'PhoneService': 'Yes', 'MultipleLines': 'No'}</td>\n",
       "      <td>{'InternetService': 'DSL', 'OnlineSecurity': '...</td>\n",
       "      <td>{'Contract': 'One year', 'PaperlessBilling': '...</td>\n",
       "    </tr>\n",
       "    <tr>\n",
       "      <th>7263</th>\n",
       "      <td>9992-RRAMN</td>\n",
       "      <td>Yes</td>\n",
       "      <td>{'gender': 'Male', 'SeniorCitizen': 0, 'Partne...</td>\n",
       "      <td>{'PhoneService': 'Yes', 'MultipleLines': 'Yes'}</td>\n",
       "      <td>{'InternetService': 'Fiber optic', 'OnlineSecu...</td>\n",
       "      <td>{'Contract': 'Month-to-month', 'PaperlessBilli...</td>\n",
       "    </tr>\n",
       "    <tr>\n",
       "      <th>7264</th>\n",
       "      <td>9992-UJOEL</td>\n",
       "      <td>No</td>\n",
       "      <td>{'gender': 'Male', 'SeniorCitizen': 0, 'Partne...</td>\n",
       "      <td>{'PhoneService': 'Yes', 'MultipleLines': 'No'}</td>\n",
       "      <td>{'InternetService': 'DSL', 'OnlineSecurity': '...</td>\n",
       "      <td>{'Contract': 'Month-to-month', 'PaperlessBilli...</td>\n",
       "    </tr>\n",
       "    <tr>\n",
       "      <th>7265</th>\n",
       "      <td>9993-LHIEB</td>\n",
       "      <td>No</td>\n",
       "      <td>{'gender': 'Male', 'SeniorCitizen': 0, 'Partne...</td>\n",
       "      <td>{'PhoneService': 'Yes', 'MultipleLines': 'No'}</td>\n",
       "      <td>{'InternetService': 'DSL', 'OnlineSecurity': '...</td>\n",
       "      <td>{'Contract': 'Two year', 'PaperlessBilling': '...</td>\n",
       "    </tr>\n",
       "    <tr>\n",
       "      <th>7266</th>\n",
       "      <td>9995-HOTOH</td>\n",
       "      <td>No</td>\n",
       "      <td>{'gender': 'Male', 'SeniorCitizen': 0, 'Partne...</td>\n",
       "      <td>{'PhoneService': 'No', 'MultipleLines': 'No ph...</td>\n",
       "      <td>{'InternetService': 'DSL', 'OnlineSecurity': '...</td>\n",
       "      <td>{'Contract': 'Two year', 'PaperlessBilling': '...</td>\n",
       "    </tr>\n",
       "  </tbody>\n",
       "</table>\n",
       "</div>"
      ],
      "text/plain": [
       "      customerID Churn                                           customer  \\\n",
       "7262  9987-LUTYD    No  {'gender': 'Female', 'SeniorCitizen': 0, 'Part...   \n",
       "7263  9992-RRAMN   Yes  {'gender': 'Male', 'SeniorCitizen': 0, 'Partne...   \n",
       "7264  9992-UJOEL    No  {'gender': 'Male', 'SeniorCitizen': 0, 'Partne...   \n",
       "7265  9993-LHIEB    No  {'gender': 'Male', 'SeniorCitizen': 0, 'Partne...   \n",
       "7266  9995-HOTOH    No  {'gender': 'Male', 'SeniorCitizen': 0, 'Partne...   \n",
       "\n",
       "                                                  phone  \\\n",
       "7262     {'PhoneService': 'Yes', 'MultipleLines': 'No'}   \n",
       "7263    {'PhoneService': 'Yes', 'MultipleLines': 'Yes'}   \n",
       "7264     {'PhoneService': 'Yes', 'MultipleLines': 'No'}   \n",
       "7265     {'PhoneService': 'Yes', 'MultipleLines': 'No'}   \n",
       "7266  {'PhoneService': 'No', 'MultipleLines': 'No ph...   \n",
       "\n",
       "                                               internet  \\\n",
       "7262  {'InternetService': 'DSL', 'OnlineSecurity': '...   \n",
       "7263  {'InternetService': 'Fiber optic', 'OnlineSecu...   \n",
       "7264  {'InternetService': 'DSL', 'OnlineSecurity': '...   \n",
       "7265  {'InternetService': 'DSL', 'OnlineSecurity': '...   \n",
       "7266  {'InternetService': 'DSL', 'OnlineSecurity': '...   \n",
       "\n",
       "                                                account  \n",
       "7262  {'Contract': 'One year', 'PaperlessBilling': '...  \n",
       "7263  {'Contract': 'Month-to-month', 'PaperlessBilli...  \n",
       "7264  {'Contract': 'Month-to-month', 'PaperlessBilli...  \n",
       "7265  {'Contract': 'Two year', 'PaperlessBilling': '...  \n",
       "7266  {'Contract': 'Two year', 'PaperlessBilling': '...  "
      ]
     },
     "execution_count": 5,
     "metadata": {},
     "output_type": "execute_result"
    }
   ],
   "source": [
    "dados.tail()"
   ]
  },
  {
   "cell_type": "code",
   "execution_count": 6,
   "id": "bac192f6-5f3c-4b9e-9958-484008484bc0",
   "metadata": {},
   "outputs": [
    {
     "name": "stdout",
     "output_type": "stream",
     "text": [
      "<class 'pandas.core.frame.DataFrame'>\n",
      "RangeIndex: 7267 entries, 0 to 7266\n",
      "Data columns (total 6 columns):\n",
      " #   Column      Non-Null Count  Dtype \n",
      "---  ------      --------------  ----- \n",
      " 0   customerID  7267 non-null   object\n",
      " 1   Churn       7267 non-null   object\n",
      " 2   customer    7267 non-null   object\n",
      " 3   phone       7267 non-null   object\n",
      " 4   internet    7267 non-null   object\n",
      " 5   account     7267 non-null   object\n",
      "dtypes: object(6)\n",
      "memory usage: 340.8+ KB\n"
     ]
    }
   ],
   "source": [
    "dados.info()"
   ]
  },
  {
   "cell_type": "code",
   "execution_count": 7,
   "id": "8d80d943-b1aa-4f4b-b269-aa3248187c80",
   "metadata": {},
   "outputs": [
    {
     "data": {
      "text/plain": [
       "(7267, 6)"
      ]
     },
     "execution_count": 7,
     "metadata": {},
     "output_type": "execute_result"
    }
   ],
   "source": [
    "dados.shape"
   ]
  },
  {
   "cell_type": "markdown",
   "id": "300212f5-0589-4e44-9e4b-589ca70ec934",
   "metadata": {},
   "source": [
    "# Observação\n",
    "Todas as 7267 entradas da base de dados não são nulas mas ainda podem existir inconsistências."
   ]
  },
  {
   "cell_type": "markdown",
   "id": "9cabf276-eeb9-4726-b63c-5a5c416e6e21",
   "metadata": {},
   "source": [
    "# Vamos traduzir e padronizar os rótulos do Data Frame"
   ]
  },
  {
   "cell_type": "code",
   "execution_count": 8,
   "id": "f37f4989-7ec3-40d5-bbb1-cd6988cb9761",
   "metadata": {},
   "outputs": [
    {
     "data": {
      "text/html": [
       "<div>\n",
       "<style scoped>\n",
       "    .dataframe tbody tr th:only-of-type {\n",
       "        vertical-align: middle;\n",
       "    }\n",
       "\n",
       "    .dataframe tbody tr th {\n",
       "        vertical-align: top;\n",
       "    }\n",
       "\n",
       "    .dataframe thead th {\n",
       "        text-align: right;\n",
       "    }\n",
       "</style>\n",
       "<table border=\"1\" class=\"dataframe\">\n",
       "  <thead>\n",
       "    <tr style=\"text-align: right;\">\n",
       "      <th></th>\n",
       "      <th>cliente_id</th>\n",
       "      <th>churn</th>\n",
       "      <th>dados_cliente</th>\n",
       "      <th>servicos_telefone</th>\n",
       "      <th>servicos_internet</th>\n",
       "      <th>detalhes_contrato</th>\n",
       "    </tr>\n",
       "  </thead>\n",
       "  <tbody>\n",
       "    <tr>\n",
       "      <th>0</th>\n",
       "      <td>0002-ORFBO</td>\n",
       "      <td>No</td>\n",
       "      <td>{'gender': 'Female', 'SeniorCitizen': 0, 'Part...</td>\n",
       "      <td>{'PhoneService': 'Yes', 'MultipleLines': 'No'}</td>\n",
       "      <td>{'InternetService': 'DSL', 'OnlineSecurity': '...</td>\n",
       "      <td>{'Contract': 'One year', 'PaperlessBilling': '...</td>\n",
       "    </tr>\n",
       "    <tr>\n",
       "      <th>1</th>\n",
       "      <td>0003-MKNFE</td>\n",
       "      <td>No</td>\n",
       "      <td>{'gender': 'Male', 'SeniorCitizen': 0, 'Partne...</td>\n",
       "      <td>{'PhoneService': 'Yes', 'MultipleLines': 'Yes'}</td>\n",
       "      <td>{'InternetService': 'DSL', 'OnlineSecurity': '...</td>\n",
       "      <td>{'Contract': 'Month-to-month', 'PaperlessBilli...</td>\n",
       "    </tr>\n",
       "    <tr>\n",
       "      <th>2</th>\n",
       "      <td>0004-TLHLJ</td>\n",
       "      <td>Yes</td>\n",
       "      <td>{'gender': 'Male', 'SeniorCitizen': 0, 'Partne...</td>\n",
       "      <td>{'PhoneService': 'Yes', 'MultipleLines': 'No'}</td>\n",
       "      <td>{'InternetService': 'Fiber optic', 'OnlineSecu...</td>\n",
       "      <td>{'Contract': 'Month-to-month', 'PaperlessBilli...</td>\n",
       "    </tr>\n",
       "    <tr>\n",
       "      <th>3</th>\n",
       "      <td>0011-IGKFF</td>\n",
       "      <td>Yes</td>\n",
       "      <td>{'gender': 'Male', 'SeniorCitizen': 1, 'Partne...</td>\n",
       "      <td>{'PhoneService': 'Yes', 'MultipleLines': 'No'}</td>\n",
       "      <td>{'InternetService': 'Fiber optic', 'OnlineSecu...</td>\n",
       "      <td>{'Contract': 'Month-to-month', 'PaperlessBilli...</td>\n",
       "    </tr>\n",
       "    <tr>\n",
       "      <th>4</th>\n",
       "      <td>0013-EXCHZ</td>\n",
       "      <td>Yes</td>\n",
       "      <td>{'gender': 'Female', 'SeniorCitizen': 1, 'Part...</td>\n",
       "      <td>{'PhoneService': 'Yes', 'MultipleLines': 'No'}</td>\n",
       "      <td>{'InternetService': 'Fiber optic', 'OnlineSecu...</td>\n",
       "      <td>{'Contract': 'Month-to-month', 'PaperlessBilli...</td>\n",
       "    </tr>\n",
       "  </tbody>\n",
       "</table>\n",
       "</div>"
      ],
      "text/plain": [
       "   cliente_id churn                                      dados_cliente  \\\n",
       "0  0002-ORFBO    No  {'gender': 'Female', 'SeniorCitizen': 0, 'Part...   \n",
       "1  0003-MKNFE    No  {'gender': 'Male', 'SeniorCitizen': 0, 'Partne...   \n",
       "2  0004-TLHLJ   Yes  {'gender': 'Male', 'SeniorCitizen': 0, 'Partne...   \n",
       "3  0011-IGKFF   Yes  {'gender': 'Male', 'SeniorCitizen': 1, 'Partne...   \n",
       "4  0013-EXCHZ   Yes  {'gender': 'Female', 'SeniorCitizen': 1, 'Part...   \n",
       "\n",
       "                                 servicos_telefone  \\\n",
       "0   {'PhoneService': 'Yes', 'MultipleLines': 'No'}   \n",
       "1  {'PhoneService': 'Yes', 'MultipleLines': 'Yes'}   \n",
       "2   {'PhoneService': 'Yes', 'MultipleLines': 'No'}   \n",
       "3   {'PhoneService': 'Yes', 'MultipleLines': 'No'}   \n",
       "4   {'PhoneService': 'Yes', 'MultipleLines': 'No'}   \n",
       "\n",
       "                                   servicos_internet  \\\n",
       "0  {'InternetService': 'DSL', 'OnlineSecurity': '...   \n",
       "1  {'InternetService': 'DSL', 'OnlineSecurity': '...   \n",
       "2  {'InternetService': 'Fiber optic', 'OnlineSecu...   \n",
       "3  {'InternetService': 'Fiber optic', 'OnlineSecu...   \n",
       "4  {'InternetService': 'Fiber optic', 'OnlineSecu...   \n",
       "\n",
       "                                   detalhes_contrato  \n",
       "0  {'Contract': 'One year', 'PaperlessBilling': '...  \n",
       "1  {'Contract': 'Month-to-month', 'PaperlessBilli...  \n",
       "2  {'Contract': 'Month-to-month', 'PaperlessBilli...  \n",
       "3  {'Contract': 'Month-to-month', 'PaperlessBilli...  \n",
       "4  {'Contract': 'Month-to-month', 'PaperlessBilli...  "
      ]
     },
     "execution_count": 8,
     "metadata": {},
     "output_type": "execute_result"
    }
   ],
   "source": [
    "rotulos = {'customerID': 'cliente_id', 'Churn': 'churn', 'customer': 'dados_cliente', 'phone': 'servicos_telefone', 'internet': 'servicos_internet','account': 'detalhes_contrato'}\n",
    "dados.rename(columns = rotulos, inplace = True)\n",
    "dados.head()"
   ]
  },
  {
   "cell_type": "markdown",
   "id": "6eb23c3c-b531-4775-9ec4-e7c12d010af9",
   "metadata": {},
   "source": [
    "# Analisando e buscando inconformidades dentro de cada campo do DataFrame"
   ]
  },
  {
   "cell_type": "markdown",
   "id": "7d0b0c3f-e2dd-43ea-bc59-ef35b3508052",
   "metadata": {},
   "source": [
    "## Verificando cliente_id"
   ]
  },
  {
   "cell_type": "code",
   "execution_count": 9,
   "id": "835efa47-591a-4c25-a7ba-4826bc27ede8",
   "metadata": {},
   "outputs": [
    {
     "data": {
      "text/plain": [
       "array(['0002-ORFBO', '0003-MKNFE', '0004-TLHLJ', ..., '9992-UJOEL',\n",
       "       '9993-LHIEB', '9995-HOTOH'], dtype=object)"
      ]
     },
     "execution_count": 9,
     "metadata": {},
     "output_type": "execute_result"
    }
   ],
   "source": [
    "dados.cliente_id.unique()"
   ]
  },
  {
   "cell_type": "code",
   "execution_count": 10,
   "id": "48226089-e212-4249-b80b-ce5af4f402da",
   "metadata": {},
   "outputs": [
    {
     "data": {
      "text/plain": [
       "0002-ORFBO    1\n",
       "6614-VBEGU    1\n",
       "6637-KYRCV    1\n",
       "6635-MYYYZ    1\n",
       "6635-CPNUN    1\n",
       "             ..\n",
       "3374-TTZTK    1\n",
       "3374-PZLXD    1\n",
       "3374-LXDEV    1\n",
       "3373-YZZYM    1\n",
       "9995-HOTOH    1\n",
       "Name: cliente_id, Length: 7267, dtype: int64"
      ]
     },
     "execution_count": 10,
     "metadata": {},
     "output_type": "execute_result"
    }
   ],
   "source": [
    "dados.cliente_id.value_counts()"
   ]
  },
  {
   "cell_type": "markdown",
   "id": "aeb6fee9-4d44-4d24-928d-c22d3b0e2840",
   "metadata": {},
   "source": [
    "## Verificando churn"
   ]
  },
  {
   "cell_type": "code",
   "execution_count": 11,
   "id": "c21658fa-0dcd-477f-bab4-4c02ac09f3b2",
   "metadata": {},
   "outputs": [
    {
     "data": {
      "text/plain": [
       "array(['No', 'Yes', ''], dtype=object)"
      ]
     },
     "execution_count": 11,
     "metadata": {},
     "output_type": "execute_result"
    }
   ],
   "source": [
    "dados.churn.unique()"
   ]
  },
  {
   "cell_type": "code",
   "execution_count": 12,
   "id": "ec1dccd0-6f6e-448a-a350-95aa5e9da8bc",
   "metadata": {},
   "outputs": [
    {
     "data": {
      "text/plain": [
       "No     5174\n",
       "Yes    1869\n",
       "        224\n",
       "Name: churn, dtype: int64"
      ]
     },
     "execution_count": 12,
     "metadata": {},
     "output_type": "execute_result"
    }
   ],
   "source": [
    "dados.churn.value_counts()"
   ]
  },
  {
   "cell_type": "code",
   "execution_count": 13,
   "id": "55d45d81-bfd3-4eca-9d10-d9eee7fa1184",
   "metadata": {},
   "outputs": [
    {
     "data": {
      "text/plain": [
       "No     71.198569\n",
       "Yes    25.719004\n",
       "        3.082427\n",
       "Name: churn, dtype: float64"
      ]
     },
     "execution_count": 13,
     "metadata": {},
     "output_type": "execute_result"
    }
   ],
   "source": [
    "dados.churn.value_counts(normalize = True) * 100"
   ]
  },
  {
   "cell_type": "markdown",
   "id": "5b0e6bb3-c656-4335-b2de-fa4384f375c3",
   "metadata": {
    "tags": []
   },
   "source": [
    "### Aproximadamente 3% das entradas de dados apresentam problemas na coluna churn, sendo assim, serão removidas."
   ]
  },
  {
   "cell_type": "code",
   "execution_count": 14,
   "id": "ddb1cd30-eec6-4a2c-bff2-175ba59e2c82",
   "metadata": {},
   "outputs": [
    {
     "data": {
      "text/plain": [
       "7043"
      ]
     },
     "execution_count": 14,
     "metadata": {},
     "output_type": "execute_result"
    }
   ],
   "source": [
    "limpeza_churn = dados.churn != ''\n",
    "dados = dados[limpeza_churn]\n",
    "churn_traducao = {'No': 'Não', 'Yes': 'Sim'}\n",
    "dados.churn.replace(churn_traducao, inplace = True)\n",
    "dados.shape[0]"
   ]
  },
  {
   "cell_type": "markdown",
   "id": "3cd7c5a7-c488-48c5-82f1-f54bf31ace18",
   "metadata": {},
   "source": [
    "## Base de dados foi reconstruída removendo as entradas vazias de evasão"
   ]
  },
  {
   "cell_type": "code",
   "execution_count": 15,
   "id": "bb7f4bbc-483c-4d29-8912-0893e95ed187",
   "metadata": {},
   "outputs": [
    {
     "data": {
      "text/html": [
       "<div>\n",
       "<style scoped>\n",
       "    .dataframe tbody tr th:only-of-type {\n",
       "        vertical-align: middle;\n",
       "    }\n",
       "\n",
       "    .dataframe tbody tr th {\n",
       "        vertical-align: top;\n",
       "    }\n",
       "\n",
       "    .dataframe thead th {\n",
       "        text-align: right;\n",
       "    }\n",
       "</style>\n",
       "<table border=\"1\" class=\"dataframe\">\n",
       "  <thead>\n",
       "    <tr style=\"text-align: right;\">\n",
       "      <th></th>\n",
       "      <th>cliente_id</th>\n",
       "      <th>churn</th>\n",
       "      <th>dados_cliente</th>\n",
       "      <th>servicos_telefone</th>\n",
       "      <th>servicos_internet</th>\n",
       "      <th>detalhes_contrato</th>\n",
       "    </tr>\n",
       "  </thead>\n",
       "  <tbody>\n",
       "    <tr>\n",
       "      <th>0</th>\n",
       "      <td>0002-ORFBO</td>\n",
       "      <td>Não</td>\n",
       "      <td>{'gender': 'Female', 'SeniorCitizen': 0, 'Part...</td>\n",
       "      <td>{'PhoneService': 'Yes', 'MultipleLines': 'No'}</td>\n",
       "      <td>{'InternetService': 'DSL', 'OnlineSecurity': '...</td>\n",
       "      <td>{'Contract': 'One year', 'PaperlessBilling': '...</td>\n",
       "    </tr>\n",
       "    <tr>\n",
       "      <th>1</th>\n",
       "      <td>0003-MKNFE</td>\n",
       "      <td>Não</td>\n",
       "      <td>{'gender': 'Male', 'SeniorCitizen': 0, 'Partne...</td>\n",
       "      <td>{'PhoneService': 'Yes', 'MultipleLines': 'Yes'}</td>\n",
       "      <td>{'InternetService': 'DSL', 'OnlineSecurity': '...</td>\n",
       "      <td>{'Contract': 'Month-to-month', 'PaperlessBilli...</td>\n",
       "    </tr>\n",
       "    <tr>\n",
       "      <th>2</th>\n",
       "      <td>0004-TLHLJ</td>\n",
       "      <td>Sim</td>\n",
       "      <td>{'gender': 'Male', 'SeniorCitizen': 0, 'Partne...</td>\n",
       "      <td>{'PhoneService': 'Yes', 'MultipleLines': 'No'}</td>\n",
       "      <td>{'InternetService': 'Fiber optic', 'OnlineSecu...</td>\n",
       "      <td>{'Contract': 'Month-to-month', 'PaperlessBilli...</td>\n",
       "    </tr>\n",
       "    <tr>\n",
       "      <th>3</th>\n",
       "      <td>0011-IGKFF</td>\n",
       "      <td>Sim</td>\n",
       "      <td>{'gender': 'Male', 'SeniorCitizen': 1, 'Partne...</td>\n",
       "      <td>{'PhoneService': 'Yes', 'MultipleLines': 'No'}</td>\n",
       "      <td>{'InternetService': 'Fiber optic', 'OnlineSecu...</td>\n",
       "      <td>{'Contract': 'Month-to-month', 'PaperlessBilli...</td>\n",
       "    </tr>\n",
       "    <tr>\n",
       "      <th>4</th>\n",
       "      <td>0013-EXCHZ</td>\n",
       "      <td>Sim</td>\n",
       "      <td>{'gender': 'Female', 'SeniorCitizen': 1, 'Part...</td>\n",
       "      <td>{'PhoneService': 'Yes', 'MultipleLines': 'No'}</td>\n",
       "      <td>{'InternetService': 'Fiber optic', 'OnlineSecu...</td>\n",
       "      <td>{'Contract': 'Month-to-month', 'PaperlessBilli...</td>\n",
       "    </tr>\n",
       "    <tr>\n",
       "      <th>...</th>\n",
       "      <td>...</td>\n",
       "      <td>...</td>\n",
       "      <td>...</td>\n",
       "      <td>...</td>\n",
       "      <td>...</td>\n",
       "      <td>...</td>\n",
       "    </tr>\n",
       "    <tr>\n",
       "      <th>7262</th>\n",
       "      <td>9987-LUTYD</td>\n",
       "      <td>Não</td>\n",
       "      <td>{'gender': 'Female', 'SeniorCitizen': 0, 'Part...</td>\n",
       "      <td>{'PhoneService': 'Yes', 'MultipleLines': 'No'}</td>\n",
       "      <td>{'InternetService': 'DSL', 'OnlineSecurity': '...</td>\n",
       "      <td>{'Contract': 'One year', 'PaperlessBilling': '...</td>\n",
       "    </tr>\n",
       "    <tr>\n",
       "      <th>7263</th>\n",
       "      <td>9992-RRAMN</td>\n",
       "      <td>Sim</td>\n",
       "      <td>{'gender': 'Male', 'SeniorCitizen': 0, 'Partne...</td>\n",
       "      <td>{'PhoneService': 'Yes', 'MultipleLines': 'Yes'}</td>\n",
       "      <td>{'InternetService': 'Fiber optic', 'OnlineSecu...</td>\n",
       "      <td>{'Contract': 'Month-to-month', 'PaperlessBilli...</td>\n",
       "    </tr>\n",
       "    <tr>\n",
       "      <th>7264</th>\n",
       "      <td>9992-UJOEL</td>\n",
       "      <td>Não</td>\n",
       "      <td>{'gender': 'Male', 'SeniorCitizen': 0, 'Partne...</td>\n",
       "      <td>{'PhoneService': 'Yes', 'MultipleLines': 'No'}</td>\n",
       "      <td>{'InternetService': 'DSL', 'OnlineSecurity': '...</td>\n",
       "      <td>{'Contract': 'Month-to-month', 'PaperlessBilli...</td>\n",
       "    </tr>\n",
       "    <tr>\n",
       "      <th>7265</th>\n",
       "      <td>9993-LHIEB</td>\n",
       "      <td>Não</td>\n",
       "      <td>{'gender': 'Male', 'SeniorCitizen': 0, 'Partne...</td>\n",
       "      <td>{'PhoneService': 'Yes', 'MultipleLines': 'No'}</td>\n",
       "      <td>{'InternetService': 'DSL', 'OnlineSecurity': '...</td>\n",
       "      <td>{'Contract': 'Two year', 'PaperlessBilling': '...</td>\n",
       "    </tr>\n",
       "    <tr>\n",
       "      <th>7266</th>\n",
       "      <td>9995-HOTOH</td>\n",
       "      <td>Não</td>\n",
       "      <td>{'gender': 'Male', 'SeniorCitizen': 0, 'Partne...</td>\n",
       "      <td>{'PhoneService': 'No', 'MultipleLines': 'No ph...</td>\n",
       "      <td>{'InternetService': 'DSL', 'OnlineSecurity': '...</td>\n",
       "      <td>{'Contract': 'Two year', 'PaperlessBilling': '...</td>\n",
       "    </tr>\n",
       "  </tbody>\n",
       "</table>\n",
       "<p>7043 rows × 6 columns</p>\n",
       "</div>"
      ],
      "text/plain": [
       "      cliente_id churn                                      dados_cliente  \\\n",
       "0     0002-ORFBO   Não  {'gender': 'Female', 'SeniorCitizen': 0, 'Part...   \n",
       "1     0003-MKNFE   Não  {'gender': 'Male', 'SeniorCitizen': 0, 'Partne...   \n",
       "2     0004-TLHLJ   Sim  {'gender': 'Male', 'SeniorCitizen': 0, 'Partne...   \n",
       "3     0011-IGKFF   Sim  {'gender': 'Male', 'SeniorCitizen': 1, 'Partne...   \n",
       "4     0013-EXCHZ   Sim  {'gender': 'Female', 'SeniorCitizen': 1, 'Part...   \n",
       "...          ...   ...                                                ...   \n",
       "7262  9987-LUTYD   Não  {'gender': 'Female', 'SeniorCitizen': 0, 'Part...   \n",
       "7263  9992-RRAMN   Sim  {'gender': 'Male', 'SeniorCitizen': 0, 'Partne...   \n",
       "7264  9992-UJOEL   Não  {'gender': 'Male', 'SeniorCitizen': 0, 'Partne...   \n",
       "7265  9993-LHIEB   Não  {'gender': 'Male', 'SeniorCitizen': 0, 'Partne...   \n",
       "7266  9995-HOTOH   Não  {'gender': 'Male', 'SeniorCitizen': 0, 'Partne...   \n",
       "\n",
       "                                      servicos_telefone  \\\n",
       "0        {'PhoneService': 'Yes', 'MultipleLines': 'No'}   \n",
       "1       {'PhoneService': 'Yes', 'MultipleLines': 'Yes'}   \n",
       "2        {'PhoneService': 'Yes', 'MultipleLines': 'No'}   \n",
       "3        {'PhoneService': 'Yes', 'MultipleLines': 'No'}   \n",
       "4        {'PhoneService': 'Yes', 'MultipleLines': 'No'}   \n",
       "...                                                 ...   \n",
       "7262     {'PhoneService': 'Yes', 'MultipleLines': 'No'}   \n",
       "7263    {'PhoneService': 'Yes', 'MultipleLines': 'Yes'}   \n",
       "7264     {'PhoneService': 'Yes', 'MultipleLines': 'No'}   \n",
       "7265     {'PhoneService': 'Yes', 'MultipleLines': 'No'}   \n",
       "7266  {'PhoneService': 'No', 'MultipleLines': 'No ph...   \n",
       "\n",
       "                                      servicos_internet  \\\n",
       "0     {'InternetService': 'DSL', 'OnlineSecurity': '...   \n",
       "1     {'InternetService': 'DSL', 'OnlineSecurity': '...   \n",
       "2     {'InternetService': 'Fiber optic', 'OnlineSecu...   \n",
       "3     {'InternetService': 'Fiber optic', 'OnlineSecu...   \n",
       "4     {'InternetService': 'Fiber optic', 'OnlineSecu...   \n",
       "...                                                 ...   \n",
       "7262  {'InternetService': 'DSL', 'OnlineSecurity': '...   \n",
       "7263  {'InternetService': 'Fiber optic', 'OnlineSecu...   \n",
       "7264  {'InternetService': 'DSL', 'OnlineSecurity': '...   \n",
       "7265  {'InternetService': 'DSL', 'OnlineSecurity': '...   \n",
       "7266  {'InternetService': 'DSL', 'OnlineSecurity': '...   \n",
       "\n",
       "                                      detalhes_contrato  \n",
       "0     {'Contract': 'One year', 'PaperlessBilling': '...  \n",
       "1     {'Contract': 'Month-to-month', 'PaperlessBilli...  \n",
       "2     {'Contract': 'Month-to-month', 'PaperlessBilli...  \n",
       "3     {'Contract': 'Month-to-month', 'PaperlessBilli...  \n",
       "4     {'Contract': 'Month-to-month', 'PaperlessBilli...  \n",
       "...                                                 ...  \n",
       "7262  {'Contract': 'One year', 'PaperlessBilling': '...  \n",
       "7263  {'Contract': 'Month-to-month', 'PaperlessBilli...  \n",
       "7264  {'Contract': 'Month-to-month', 'PaperlessBilli...  \n",
       "7265  {'Contract': 'Two year', 'PaperlessBilling': '...  \n",
       "7266  {'Contract': 'Two year', 'PaperlessBilling': '...  \n",
       "\n",
       "[7043 rows x 6 columns]"
      ]
     },
     "execution_count": 15,
     "metadata": {},
     "output_type": "execute_result"
    }
   ],
   "source": [
    "dados"
   ]
  },
  {
   "cell_type": "code",
   "execution_count": 16,
   "id": "4b319410-d336-4f7d-b639-f6890922e44c",
   "metadata": {},
   "outputs": [
    {
     "data": {
      "text/plain": [
       "array(['Não', 'Sim'], dtype=object)"
      ]
     },
     "execution_count": 16,
     "metadata": {},
     "output_type": "execute_result"
    }
   ],
   "source": [
    "dados.churn.unique()"
   ]
  },
  {
   "cell_type": "markdown",
   "id": "f161d595-4ee4-45ea-9d8b-66cf81bf52ad",
   "metadata": {},
   "source": [
    "## Agora vamos normalizar as demais colunas do Data Frame\n",
    "### Iniciando com dados_cliente"
   ]
  },
  {
   "cell_type": "code",
   "execution_count": 17,
   "id": "e3d3bea2-2e37-470c-b2ab-71002efa904d",
   "metadata": {},
   "outputs": [
    {
     "data": {
      "text/html": [
       "<div>\n",
       "<style scoped>\n",
       "    .dataframe tbody tr th:only-of-type {\n",
       "        vertical-align: middle;\n",
       "    }\n",
       "\n",
       "    .dataframe tbody tr th {\n",
       "        vertical-align: top;\n",
       "    }\n",
       "\n",
       "    .dataframe thead th {\n",
       "        text-align: right;\n",
       "    }\n",
       "</style>\n",
       "<table border=\"1\" class=\"dataframe\">\n",
       "  <thead>\n",
       "    <tr style=\"text-align: right;\">\n",
       "      <th></th>\n",
       "      <th>genero</th>\n",
       "      <th>idoso</th>\n",
       "      <th>casado</th>\n",
       "      <th>dependentes</th>\n",
       "      <th>duracao_contrato</th>\n",
       "    </tr>\n",
       "  </thead>\n",
       "  <tbody>\n",
       "    <tr>\n",
       "      <th>0</th>\n",
       "      <td>Female</td>\n",
       "      <td>0</td>\n",
       "      <td>Yes</td>\n",
       "      <td>Yes</td>\n",
       "      <td>9</td>\n",
       "    </tr>\n",
       "    <tr>\n",
       "      <th>1</th>\n",
       "      <td>Male</td>\n",
       "      <td>0</td>\n",
       "      <td>No</td>\n",
       "      <td>No</td>\n",
       "      <td>9</td>\n",
       "    </tr>\n",
       "    <tr>\n",
       "      <th>2</th>\n",
       "      <td>Male</td>\n",
       "      <td>0</td>\n",
       "      <td>No</td>\n",
       "      <td>No</td>\n",
       "      <td>4</td>\n",
       "    </tr>\n",
       "    <tr>\n",
       "      <th>3</th>\n",
       "      <td>Male</td>\n",
       "      <td>1</td>\n",
       "      <td>Yes</td>\n",
       "      <td>No</td>\n",
       "      <td>13</td>\n",
       "    </tr>\n",
       "    <tr>\n",
       "      <th>4</th>\n",
       "      <td>Female</td>\n",
       "      <td>1</td>\n",
       "      <td>Yes</td>\n",
       "      <td>No</td>\n",
       "      <td>3</td>\n",
       "    </tr>\n",
       "  </tbody>\n",
       "</table>\n",
       "</div>"
      ],
      "text/plain": [
       "   genero  idoso casado dependentes  duracao_contrato\n",
       "0  Female      0    Yes         Yes                 9\n",
       "1    Male      0     No          No                 9\n",
       "2    Male      0     No          No                 4\n",
       "3    Male      1    Yes          No                13\n",
       "4  Female      1    Yes          No                 3"
      ]
     },
     "execution_count": 17,
     "metadata": {},
     "output_type": "execute_result"
    }
   ],
   "source": [
    "dados_cliente = pd.json_normalize(dados.dados_cliente)\n",
    "clientes_rotulos = {'gender': 'genero', 'SeniorCitizen': 'idoso', 'Partner': 'casado', 'Dependents': 'dependentes', 'tenure': 'duracao_contrato'}\n",
    "dados_cliente.rename(columns = clientes_rotulos, inplace = True)\n",
    "dados_cliente.head()"
   ]
  },
  {
   "cell_type": "code",
   "execution_count": 18,
   "id": "d85fef82-eae4-4f20-8068-1527a39a9ba7",
   "metadata": {},
   "outputs": [
    {
     "data": {
      "text/plain": [
       "array(['Female', 'Male'], dtype=object)"
      ]
     },
     "execution_count": 18,
     "metadata": {},
     "output_type": "execute_result"
    }
   ],
   "source": [
    "dados_cliente.genero.unique()"
   ]
  },
  {
   "cell_type": "code",
   "execution_count": 19,
   "id": "527510fb-795f-4ec8-9cba-5723a7ab9263",
   "metadata": {},
   "outputs": [
    {
     "data": {
      "text/plain": [
       "array([0, 1])"
      ]
     },
     "execution_count": 19,
     "metadata": {},
     "output_type": "execute_result"
    }
   ],
   "source": [
    "dados_cliente.idoso.unique()"
   ]
  },
  {
   "cell_type": "code",
   "execution_count": 20,
   "id": "f6487710-3b1f-4958-9d6d-df4a9532b3a9",
   "metadata": {},
   "outputs": [
    {
     "data": {
      "text/plain": [
       "array(['Yes', 'No'], dtype=object)"
      ]
     },
     "execution_count": 20,
     "metadata": {},
     "output_type": "execute_result"
    }
   ],
   "source": [
    "dados_cliente.casado.unique()"
   ]
  },
  {
   "cell_type": "code",
   "execution_count": 21,
   "id": "0bb65cb3-ce61-422e-9b85-527aa6e34c71",
   "metadata": {},
   "outputs": [
    {
     "data": {
      "text/plain": [
       "array(['Yes', 'No'], dtype=object)"
      ]
     },
     "execution_count": 21,
     "metadata": {},
     "output_type": "execute_result"
    }
   ],
   "source": [
    "dados_cliente.dependentes.unique()"
   ]
  },
  {
   "cell_type": "code",
   "execution_count": 22,
   "id": "4284b225-25ec-446f-afb3-a12a07ba4c48",
   "metadata": {},
   "outputs": [
    {
     "data": {
      "text/plain": [
       "array([ 9,  4, 13,  3, 71, 63,  7, 65, 54, 72,  5, 56, 34,  1, 45, 50, 23,\n",
       "       55, 26, 69, 37, 49, 66, 67, 20, 43, 59, 12, 27,  2, 25, 29, 14, 35,\n",
       "       64, 39, 40, 11,  6, 30, 70, 57, 58, 16, 32, 33, 10, 21, 61, 15, 44,\n",
       "       22, 24, 19, 47, 62, 46, 52,  8, 60, 48, 28, 41, 53, 68, 31, 36, 17,\n",
       "       18, 51, 38, 42,  0])"
      ]
     },
     "execution_count": 22,
     "metadata": {},
     "output_type": "execute_result"
    }
   ],
   "source": [
    "dados_cliente.duracao_contrato.unique()"
   ]
  },
  {
   "cell_type": "code",
   "execution_count": 23,
   "id": "794be769-c648-482a-9bc4-afda69647cab",
   "metadata": {},
   "outputs": [
    {
     "data": {
      "text/plain": [
       "(7043, 5)"
      ]
     },
     "execution_count": 23,
     "metadata": {},
     "output_type": "execute_result"
    }
   ],
   "source": [
    "dados_cliente.shape"
   ]
  },
  {
   "cell_type": "code",
   "execution_count": 24,
   "id": "b73d50f1-b551-4d95-a556-8617cc7f050a",
   "metadata": {},
   "outputs": [
    {
     "data": {
      "text/html": [
       "<div>\n",
       "<style scoped>\n",
       "    .dataframe tbody tr th:only-of-type {\n",
       "        vertical-align: middle;\n",
       "    }\n",
       "\n",
       "    .dataframe tbody tr th {\n",
       "        vertical-align: top;\n",
       "    }\n",
       "\n",
       "    .dataframe thead th {\n",
       "        text-align: right;\n",
       "    }\n",
       "</style>\n",
       "<table border=\"1\" class=\"dataframe\">\n",
       "  <thead>\n",
       "    <tr style=\"text-align: right;\">\n",
       "      <th></th>\n",
       "      <th>genero</th>\n",
       "      <th>idoso</th>\n",
       "      <th>casado</th>\n",
       "      <th>dependentes</th>\n",
       "      <th>duracao_contrato</th>\n",
       "    </tr>\n",
       "  </thead>\n",
       "  <tbody>\n",
       "    <tr>\n",
       "      <th>0</th>\n",
       "      <td>Feminino</td>\n",
       "      <td>Não</td>\n",
       "      <td>Sim</td>\n",
       "      <td>Sim</td>\n",
       "      <td>9</td>\n",
       "    </tr>\n",
       "    <tr>\n",
       "      <th>1</th>\n",
       "      <td>Masculino</td>\n",
       "      <td>Não</td>\n",
       "      <td>Não</td>\n",
       "      <td>Não</td>\n",
       "      <td>9</td>\n",
       "    </tr>\n",
       "    <tr>\n",
       "      <th>2</th>\n",
       "      <td>Masculino</td>\n",
       "      <td>Não</td>\n",
       "      <td>Não</td>\n",
       "      <td>Não</td>\n",
       "      <td>4</td>\n",
       "    </tr>\n",
       "    <tr>\n",
       "      <th>3</th>\n",
       "      <td>Masculino</td>\n",
       "      <td>Sim</td>\n",
       "      <td>Sim</td>\n",
       "      <td>Não</td>\n",
       "      <td>13</td>\n",
       "    </tr>\n",
       "    <tr>\n",
       "      <th>4</th>\n",
       "      <td>Feminino</td>\n",
       "      <td>Sim</td>\n",
       "      <td>Sim</td>\n",
       "      <td>Não</td>\n",
       "      <td>3</td>\n",
       "    </tr>\n",
       "  </tbody>\n",
       "</table>\n",
       "</div>"
      ],
      "text/plain": [
       "      genero idoso casado dependentes  duracao_contrato\n",
       "0   Feminino   Não    Sim         Sim                 9\n",
       "1  Masculino   Não    Não         Não                 9\n",
       "2  Masculino   Não    Não         Não                 4\n",
       "3  Masculino   Sim    Sim         Não                13\n",
       "4   Feminino   Sim    Sim         Não                 3"
      ]
     },
     "execution_count": 24,
     "metadata": {},
     "output_type": "execute_result"
    }
   ],
   "source": [
    "traducao_genero = {'Female': 'Feminino', 'Male': 'Masculino'}\n",
    "traducao_idoso = {0: 'Não', 1: 'Sim'}\n",
    "traducao_casado = {'Yes': 'Sim', 'No': 'Não'}\n",
    "traducao_dependentes = {'Yes': 'Sim', 'No': 'Não'}\n",
    "dados_cliente.genero.replace(traducao_genero, inplace = True)\n",
    "dados_cliente.idoso.replace(traducao_idoso, inplace = True)\n",
    "dados_cliente.casado.replace(traducao_casado, inplace = True)\n",
    "dados_cliente.dependentes.replace(traducao_dependentes, inplace = True)\n",
    "dados_cliente.head()"
   ]
  },
  {
   "cell_type": "code",
   "execution_count": 25,
   "id": "5612289f-a74e-4849-8845-14d0a6753302",
   "metadata": {},
   "outputs": [
    {
     "name": "stdout",
     "output_type": "stream",
     "text": [
      "<class 'pandas.core.frame.DataFrame'>\n",
      "RangeIndex: 7043 entries, 0 to 7042\n",
      "Data columns (total 5 columns):\n",
      " #   Column            Non-Null Count  Dtype \n",
      "---  ------            --------------  ----- \n",
      " 0   genero            7043 non-null   object\n",
      " 1   idoso             7043 non-null   object\n",
      " 2   casado            7043 non-null   object\n",
      " 3   dependentes       7043 non-null   object\n",
      " 4   duracao_contrato  7043 non-null   int64 \n",
      "dtypes: int64(1), object(4)\n",
      "memory usage: 275.2+ KB\n"
     ]
    }
   ],
   "source": [
    "dados_cliente.info()"
   ]
  },
  {
   "cell_type": "markdown",
   "id": "a003621b-e158-46a0-8980-5e441fb061f8",
   "metadata": {},
   "source": [
    "## Normalizando servicos_telefone"
   ]
  },
  {
   "cell_type": "code",
   "execution_count": 26,
   "id": "d59e5cb4-896a-43f6-a48d-99311acf3cb5",
   "metadata": {},
   "outputs": [
    {
     "data": {
      "text/html": [
       "<div>\n",
       "<style scoped>\n",
       "    .dataframe tbody tr th:only-of-type {\n",
       "        vertical-align: middle;\n",
       "    }\n",
       "\n",
       "    .dataframe tbody tr th {\n",
       "        vertical-align: top;\n",
       "    }\n",
       "\n",
       "    .dataframe thead th {\n",
       "        text-align: right;\n",
       "    }\n",
       "</style>\n",
       "<table border=\"1\" class=\"dataframe\">\n",
       "  <thead>\n",
       "    <tr style=\"text-align: right;\">\n",
       "      <th></th>\n",
       "      <th>assinatura_telefone</th>\n",
       "      <th>linhas_extras</th>\n",
       "    </tr>\n",
       "  </thead>\n",
       "  <tbody>\n",
       "    <tr>\n",
       "      <th>0</th>\n",
       "      <td>Yes</td>\n",
       "      <td>No</td>\n",
       "    </tr>\n",
       "    <tr>\n",
       "      <th>1</th>\n",
       "      <td>Yes</td>\n",
       "      <td>Yes</td>\n",
       "    </tr>\n",
       "    <tr>\n",
       "      <th>2</th>\n",
       "      <td>Yes</td>\n",
       "      <td>No</td>\n",
       "    </tr>\n",
       "    <tr>\n",
       "      <th>3</th>\n",
       "      <td>Yes</td>\n",
       "      <td>No</td>\n",
       "    </tr>\n",
       "    <tr>\n",
       "      <th>4</th>\n",
       "      <td>Yes</td>\n",
       "      <td>No</td>\n",
       "    </tr>\n",
       "  </tbody>\n",
       "</table>\n",
       "</div>"
      ],
      "text/plain": [
       "  assinatura_telefone linhas_extras\n",
       "0                 Yes            No\n",
       "1                 Yes           Yes\n",
       "2                 Yes            No\n",
       "3                 Yes            No\n",
       "4                 Yes            No"
      ]
     },
     "execution_count": 26,
     "metadata": {},
     "output_type": "execute_result"
    }
   ],
   "source": [
    "servicos_telefone = pd.json_normalize(dados.servicos_telefone)\n",
    "telefone_rotulos = {'PhoneService': 'assinatura_telefone','MultipleLines': 'linhas_extras'}\n",
    "servicos_telefone.rename(columns = telefone_rotulos, inplace = True)\n",
    "servicos_telefone.head()"
   ]
  },
  {
   "cell_type": "code",
   "execution_count": 27,
   "id": "e28ed03c-9ecc-4f06-8cc5-f2f5bc92305c",
   "metadata": {},
   "outputs": [
    {
     "name": "stdout",
     "output_type": "stream",
     "text": [
      "<class 'pandas.core.frame.DataFrame'>\n",
      "RangeIndex: 7043 entries, 0 to 7042\n",
      "Data columns (total 2 columns):\n",
      " #   Column               Non-Null Count  Dtype \n",
      "---  ------               --------------  ----- \n",
      " 0   assinatura_telefone  7043 non-null   object\n",
      " 1   linhas_extras        7043 non-null   object\n",
      "dtypes: object(2)\n",
      "memory usage: 110.2+ KB\n"
     ]
    }
   ],
   "source": [
    "servicos_telefone.info()"
   ]
  },
  {
   "cell_type": "code",
   "execution_count": 28,
   "id": "9f51c65d-f2c4-4189-b73b-1228e4159ed2",
   "metadata": {},
   "outputs": [
    {
     "data": {
      "text/plain": [
       "array(['Yes', 'No'], dtype=object)"
      ]
     },
     "execution_count": 28,
     "metadata": {},
     "output_type": "execute_result"
    }
   ],
   "source": [
    "servicos_telefone.assinatura_telefone.unique()"
   ]
  },
  {
   "cell_type": "code",
   "execution_count": 29,
   "id": "136ff6bc-3bb8-4d06-b083-b8338270b7a6",
   "metadata": {},
   "outputs": [
    {
     "data": {
      "text/plain": [
       "array(['No', 'Yes', 'No phone service'], dtype=object)"
      ]
     },
     "execution_count": 29,
     "metadata": {},
     "output_type": "execute_result"
    }
   ],
   "source": [
    "servicos_telefone.linhas_extras.unique()"
   ]
  },
  {
   "cell_type": "code",
   "execution_count": 30,
   "id": "db42305a-e9a7-48c1-98ca-9b30434f6c49",
   "metadata": {},
   "outputs": [
    {
     "data": {
      "text/html": [
       "<div>\n",
       "<style scoped>\n",
       "    .dataframe tbody tr th:only-of-type {\n",
       "        vertical-align: middle;\n",
       "    }\n",
       "\n",
       "    .dataframe tbody tr th {\n",
       "        vertical-align: top;\n",
       "    }\n",
       "\n",
       "    .dataframe thead th {\n",
       "        text-align: right;\n",
       "    }\n",
       "</style>\n",
       "<table border=\"1\" class=\"dataframe\">\n",
       "  <thead>\n",
       "    <tr style=\"text-align: right;\">\n",
       "      <th></th>\n",
       "      <th>assinatura_telefone</th>\n",
       "      <th>linhas_extras</th>\n",
       "    </tr>\n",
       "  </thead>\n",
       "  <tbody>\n",
       "    <tr>\n",
       "      <th>0</th>\n",
       "      <td>Sim</td>\n",
       "      <td>Não</td>\n",
       "    </tr>\n",
       "    <tr>\n",
       "      <th>1</th>\n",
       "      <td>Sim</td>\n",
       "      <td>Sim</td>\n",
       "    </tr>\n",
       "    <tr>\n",
       "      <th>2</th>\n",
       "      <td>Sim</td>\n",
       "      <td>Não</td>\n",
       "    </tr>\n",
       "    <tr>\n",
       "      <th>3</th>\n",
       "      <td>Sim</td>\n",
       "      <td>Não</td>\n",
       "    </tr>\n",
       "    <tr>\n",
       "      <th>4</th>\n",
       "      <td>Sim</td>\n",
       "      <td>Não</td>\n",
       "    </tr>\n",
       "  </tbody>\n",
       "</table>\n",
       "</div>"
      ],
      "text/plain": [
       "  assinatura_telefone linhas_extras\n",
       "0                 Sim           Não\n",
       "1                 Sim           Sim\n",
       "2                 Sim           Não\n",
       "3                 Sim           Não\n",
       "4                 Sim           Não"
      ]
     },
     "execution_count": 30,
     "metadata": {},
     "output_type": "execute_result"
    }
   ],
   "source": [
    "traducao_assinatura = {'Yes': 'Sim', 'No': 'Não'}\n",
    "traducao_linhas_extras = {'No': 'Não', 'Yes': 'Sim', 'No phone service': 'Sem assinatura de telefone'}\n",
    "servicos_telefone.assinatura_telefone.replace(traducao_assinatura, inplace = True)\n",
    "servicos_telefone.linhas_extras.replace(traducao_linhas_extras, inplace = True)\n",
    "servicos_telefone.head()"
   ]
  },
  {
   "cell_type": "code",
   "execution_count": 31,
   "id": "6f60b462-6e2a-4a08-8165-5111edb559ea",
   "metadata": {},
   "outputs": [
    {
     "data": {
      "text/plain": [
       "7043"
      ]
     },
     "execution_count": 31,
     "metadata": {},
     "output_type": "execute_result"
    }
   ],
   "source": [
    "servicos_telefone.shape[0]"
   ]
  },
  {
   "cell_type": "markdown",
   "id": "35e00c73-e25a-4fa2-b5a7-9d506c914dcc",
   "metadata": {},
   "source": [
    "## Normalizando servicos_internet"
   ]
  },
  {
   "cell_type": "code",
   "execution_count": 32,
   "id": "1b86df87-6c9a-4601-ad44-30287bb5c1f7",
   "metadata": {},
   "outputs": [],
   "source": [
    "servicos_internet = pd.json_normalize(dados.servicos_internet)"
   ]
  },
  {
   "cell_type": "code",
   "execution_count": 33,
   "id": "20e976ca-d23d-4808-9bbf-1378fba800c7",
   "metadata": {},
   "outputs": [
    {
     "data": {
      "text/html": [
       "<div>\n",
       "<style scoped>\n",
       "    .dataframe tbody tr th:only-of-type {\n",
       "        vertical-align: middle;\n",
       "    }\n",
       "\n",
       "    .dataframe tbody tr th {\n",
       "        vertical-align: top;\n",
       "    }\n",
       "\n",
       "    .dataframe thead th {\n",
       "        text-align: right;\n",
       "    }\n",
       "</style>\n",
       "<table border=\"1\" class=\"dataframe\">\n",
       "  <thead>\n",
       "    <tr style=\"text-align: right;\">\n",
       "      <th></th>\n",
       "      <th>assinatura_internet</th>\n",
       "      <th>protecao_online</th>\n",
       "      <th>backup_nuvem</th>\n",
       "      <th>protecao_dispositivo</th>\n",
       "      <th>suporte_tecnico</th>\n",
       "      <th>streaming_tv</th>\n",
       "      <th>streaming_filmes</th>\n",
       "    </tr>\n",
       "  </thead>\n",
       "  <tbody>\n",
       "    <tr>\n",
       "      <th>0</th>\n",
       "      <td>DSL</td>\n",
       "      <td>No</td>\n",
       "      <td>Yes</td>\n",
       "      <td>No</td>\n",
       "      <td>Yes</td>\n",
       "      <td>Yes</td>\n",
       "      <td>No</td>\n",
       "    </tr>\n",
       "    <tr>\n",
       "      <th>1</th>\n",
       "      <td>DSL</td>\n",
       "      <td>No</td>\n",
       "      <td>No</td>\n",
       "      <td>No</td>\n",
       "      <td>No</td>\n",
       "      <td>No</td>\n",
       "      <td>Yes</td>\n",
       "    </tr>\n",
       "    <tr>\n",
       "      <th>2</th>\n",
       "      <td>Fiber optic</td>\n",
       "      <td>No</td>\n",
       "      <td>No</td>\n",
       "      <td>Yes</td>\n",
       "      <td>No</td>\n",
       "      <td>No</td>\n",
       "      <td>No</td>\n",
       "    </tr>\n",
       "    <tr>\n",
       "      <th>3</th>\n",
       "      <td>Fiber optic</td>\n",
       "      <td>No</td>\n",
       "      <td>Yes</td>\n",
       "      <td>Yes</td>\n",
       "      <td>No</td>\n",
       "      <td>Yes</td>\n",
       "      <td>Yes</td>\n",
       "    </tr>\n",
       "    <tr>\n",
       "      <th>4</th>\n",
       "      <td>Fiber optic</td>\n",
       "      <td>No</td>\n",
       "      <td>No</td>\n",
       "      <td>No</td>\n",
       "      <td>Yes</td>\n",
       "      <td>Yes</td>\n",
       "      <td>No</td>\n",
       "    </tr>\n",
       "  </tbody>\n",
       "</table>\n",
       "</div>"
      ],
      "text/plain": [
       "  assinatura_internet protecao_online backup_nuvem protecao_dispositivo  \\\n",
       "0                 DSL              No          Yes                   No   \n",
       "1                 DSL              No           No                   No   \n",
       "2         Fiber optic              No           No                  Yes   \n",
       "3         Fiber optic              No          Yes                  Yes   \n",
       "4         Fiber optic              No           No                   No   \n",
       "\n",
       "  suporte_tecnico streaming_tv streaming_filmes  \n",
       "0             Yes          Yes               No  \n",
       "1              No           No              Yes  \n",
       "2              No           No               No  \n",
       "3              No          Yes              Yes  \n",
       "4             Yes          Yes               No  "
      ]
     },
     "execution_count": 33,
     "metadata": {},
     "output_type": "execute_result"
    }
   ],
   "source": [
    "servicos_rotulos = {'InternetService': 'assinatura_internet',\n",
    "                    'OnlineSecurity': 'protecao_online',\n",
    "                    'OnlineBackup': 'backup_nuvem',\n",
    "                    'DeviceProtection': 'protecao_dispositivo',\n",
    "                    'TechSupport': 'suporte_tecnico',\n",
    "                    'StreamingTV': 'streaming_tv',\n",
    "                    'StreamingMovies': 'streaming_filmes'}\n",
    "servicos_internet.rename(columns = servicos_rotulos, inplace = True)\n",
    "servicos_internet.head()"
   ]
  },
  {
   "cell_type": "code",
   "execution_count": 34,
   "id": "b6332420-2b81-4bd5-9242-999358d92c74",
   "metadata": {},
   "outputs": [
    {
     "data": {
      "text/plain": [
       "array(['DSL', 'Fiber optic', 'No'], dtype=object)"
      ]
     },
     "execution_count": 34,
     "metadata": {},
     "output_type": "execute_result"
    }
   ],
   "source": [
    "servicos_internet.assinatura_internet.unique()"
   ]
  },
  {
   "cell_type": "markdown",
   "id": "1a535419-38bb-4703-8046-b204f86c36cb",
   "metadata": {},
   "source": [
    "### Nota-se que as demais colunas apresentam valores que parecidos"
   ]
  },
  {
   "cell_type": "code",
   "execution_count": 35,
   "id": "7d9a2a9a-c501-4a85-8294-a57ba4b5f599",
   "metadata": {},
   "outputs": [
    {
     "data": {
      "text/plain": [
       "array(['No', 'Yes', 'No internet service'], dtype=object)"
      ]
     },
     "execution_count": 35,
     "metadata": {},
     "output_type": "execute_result"
    }
   ],
   "source": [
    "servicos_internet.protecao_online.unique()"
   ]
  },
  {
   "cell_type": "code",
   "execution_count": 36,
   "id": "53129478-eadc-48e8-9a8c-6175182f103c",
   "metadata": {},
   "outputs": [
    {
     "data": {
      "text/plain": [
       "array(['Yes', 'No', 'No internet service'], dtype=object)"
      ]
     },
     "execution_count": 36,
     "metadata": {},
     "output_type": "execute_result"
    }
   ],
   "source": [
    "servicos_internet.backup_nuvem.unique()"
   ]
  },
  {
   "cell_type": "code",
   "execution_count": 37,
   "id": "640ad5f3-1ed9-40cc-92f4-9d2c8c4b8c3f",
   "metadata": {},
   "outputs": [
    {
     "data": {
      "text/plain": [
       "array(['No', 'Yes', 'No internet service'], dtype=object)"
      ]
     },
     "execution_count": 37,
     "metadata": {},
     "output_type": "execute_result"
    }
   ],
   "source": [
    "servicos_internet.protecao_dispositivo.unique()"
   ]
  },
  {
   "cell_type": "code",
   "execution_count": 38,
   "id": "060e4597-2558-450f-b710-3605b024c390",
   "metadata": {},
   "outputs": [
    {
     "data": {
      "text/plain": [
       "array(['Yes', 'No', 'No internet service'], dtype=object)"
      ]
     },
     "execution_count": 38,
     "metadata": {},
     "output_type": "execute_result"
    }
   ],
   "source": [
    "servicos_internet.suporte_tecnico.unique()"
   ]
  },
  {
   "cell_type": "code",
   "execution_count": 39,
   "id": "f627df8f-1c33-4836-828c-c1656f92c16d",
   "metadata": {},
   "outputs": [
    {
     "data": {
      "text/plain": [
       "array(['Yes', 'No', 'No internet service'], dtype=object)"
      ]
     },
     "execution_count": 39,
     "metadata": {},
     "output_type": "execute_result"
    }
   ],
   "source": [
    "servicos_internet.streaming_tv.unique()"
   ]
  },
  {
   "cell_type": "code",
   "execution_count": 40,
   "id": "89991f10-5885-4ede-b274-c1f802e102b4",
   "metadata": {},
   "outputs": [
    {
     "data": {
      "text/plain": [
       "array(['No', 'Yes', 'No internet service'], dtype=object)"
      ]
     },
     "execution_count": 40,
     "metadata": {},
     "output_type": "execute_result"
    }
   ],
   "source": [
    "servicos_internet.streaming_filmes.unique()"
   ]
  },
  {
   "cell_type": "code",
   "execution_count": 41,
   "id": "5b97c7c8-1c04-4092-b82d-f6474853ab14",
   "metadata": {
    "tags": []
   },
   "outputs": [],
   "source": [
    "assinatura_internet_traduzia = {'Fiber optic': 'fibra', 'DSL': 'dsl', 'No': 'não contratada'}\n",
    "servicos_internet.assinatura_internet.replace(assinatura_internet_traduzia, inplace = True)"
   ]
  },
  {
   "cell_type": "code",
   "execution_count": 42,
   "id": "e2497ec2-dbcf-41e0-a87d-98c2c9eb3349",
   "metadata": {},
   "outputs": [
    {
     "data": {
      "text/plain": [
       "Index(['assinatura_internet', 'protecao_online', 'backup_nuvem',\n",
       "       'protecao_dispositivo', 'suporte_tecnico', 'streaming_tv',\n",
       "       'streaming_filmes'],\n",
       "      dtype='object')"
      ]
     },
     "execution_count": 42,
     "metadata": {},
     "output_type": "execute_result"
    }
   ],
   "source": [
    "demais_traducoes = {'No': 'Não', 'Yes': 'Sim', 'No internet service': 'internet não contratada'}\n",
    "colunas_servicos = servicos_internet.columns\n",
    "colunas_servicos"
   ]
  },
  {
   "cell_type": "code",
   "execution_count": 43,
   "id": "21a047f6-8e90-4f0e-bcfb-9c44a0e4ed38",
   "metadata": {},
   "outputs": [],
   "source": [
    "servicos_internet[['protecao_online', 'backup_nuvem',\n",
    "       'protecao_dispositivo', 'suporte_tecnico', 'streaming_tv',\n",
    "       'streaming_filmes']] = servicos_internet[['protecao_online', 'backup_nuvem',\n",
    "       'protecao_dispositivo', 'suporte_tecnico', 'streaming_tv',\n",
    "       'streaming_filmes']].replace(demais_traducoes)"
   ]
  },
  {
   "cell_type": "code",
   "execution_count": 44,
   "id": "15dfb699-5cd9-4e54-8071-83128056b7d3",
   "metadata": {},
   "outputs": [
    {
     "data": {
      "text/html": [
       "<div>\n",
       "<style scoped>\n",
       "    .dataframe tbody tr th:only-of-type {\n",
       "        vertical-align: middle;\n",
       "    }\n",
       "\n",
       "    .dataframe tbody tr th {\n",
       "        vertical-align: top;\n",
       "    }\n",
       "\n",
       "    .dataframe thead th {\n",
       "        text-align: right;\n",
       "    }\n",
       "</style>\n",
       "<table border=\"1\" class=\"dataframe\">\n",
       "  <thead>\n",
       "    <tr style=\"text-align: right;\">\n",
       "      <th></th>\n",
       "      <th>assinatura_internet</th>\n",
       "      <th>protecao_online</th>\n",
       "      <th>backup_nuvem</th>\n",
       "      <th>protecao_dispositivo</th>\n",
       "      <th>suporte_tecnico</th>\n",
       "      <th>streaming_tv</th>\n",
       "      <th>streaming_filmes</th>\n",
       "    </tr>\n",
       "  </thead>\n",
       "  <tbody>\n",
       "    <tr>\n",
       "      <th>0</th>\n",
       "      <td>dsl</td>\n",
       "      <td>Não</td>\n",
       "      <td>Sim</td>\n",
       "      <td>Não</td>\n",
       "      <td>Sim</td>\n",
       "      <td>Sim</td>\n",
       "      <td>Não</td>\n",
       "    </tr>\n",
       "    <tr>\n",
       "      <th>1</th>\n",
       "      <td>dsl</td>\n",
       "      <td>Não</td>\n",
       "      <td>Não</td>\n",
       "      <td>Não</td>\n",
       "      <td>Não</td>\n",
       "      <td>Não</td>\n",
       "      <td>Sim</td>\n",
       "    </tr>\n",
       "    <tr>\n",
       "      <th>2</th>\n",
       "      <td>fibra</td>\n",
       "      <td>Não</td>\n",
       "      <td>Não</td>\n",
       "      <td>Sim</td>\n",
       "      <td>Não</td>\n",
       "      <td>Não</td>\n",
       "      <td>Não</td>\n",
       "    </tr>\n",
       "    <tr>\n",
       "      <th>3</th>\n",
       "      <td>fibra</td>\n",
       "      <td>Não</td>\n",
       "      <td>Sim</td>\n",
       "      <td>Sim</td>\n",
       "      <td>Não</td>\n",
       "      <td>Sim</td>\n",
       "      <td>Sim</td>\n",
       "    </tr>\n",
       "    <tr>\n",
       "      <th>4</th>\n",
       "      <td>fibra</td>\n",
       "      <td>Não</td>\n",
       "      <td>Não</td>\n",
       "      <td>Não</td>\n",
       "      <td>Sim</td>\n",
       "      <td>Sim</td>\n",
       "      <td>Não</td>\n",
       "    </tr>\n",
       "    <tr>\n",
       "      <th>...</th>\n",
       "      <td>...</td>\n",
       "      <td>...</td>\n",
       "      <td>...</td>\n",
       "      <td>...</td>\n",
       "      <td>...</td>\n",
       "      <td>...</td>\n",
       "      <td>...</td>\n",
       "    </tr>\n",
       "    <tr>\n",
       "      <th>7038</th>\n",
       "      <td>dsl</td>\n",
       "      <td>Sim</td>\n",
       "      <td>Não</td>\n",
       "      <td>Não</td>\n",
       "      <td>Sim</td>\n",
       "      <td>Não</td>\n",
       "      <td>Não</td>\n",
       "    </tr>\n",
       "    <tr>\n",
       "      <th>7039</th>\n",
       "      <td>fibra</td>\n",
       "      <td>Não</td>\n",
       "      <td>Não</td>\n",
       "      <td>Não</td>\n",
       "      <td>Não</td>\n",
       "      <td>Não</td>\n",
       "      <td>Sim</td>\n",
       "    </tr>\n",
       "    <tr>\n",
       "      <th>7040</th>\n",
       "      <td>dsl</td>\n",
       "      <td>Não</td>\n",
       "      <td>Sim</td>\n",
       "      <td>Não</td>\n",
       "      <td>Não</td>\n",
       "      <td>Não</td>\n",
       "      <td>Não</td>\n",
       "    </tr>\n",
       "    <tr>\n",
       "      <th>7041</th>\n",
       "      <td>dsl</td>\n",
       "      <td>Sim</td>\n",
       "      <td>Não</td>\n",
       "      <td>Sim</td>\n",
       "      <td>Sim</td>\n",
       "      <td>Não</td>\n",
       "      <td>Sim</td>\n",
       "    </tr>\n",
       "    <tr>\n",
       "      <th>7042</th>\n",
       "      <td>dsl</td>\n",
       "      <td>Sim</td>\n",
       "      <td>Sim</td>\n",
       "      <td>Sim</td>\n",
       "      <td>Não</td>\n",
       "      <td>Sim</td>\n",
       "      <td>Sim</td>\n",
       "    </tr>\n",
       "  </tbody>\n",
       "</table>\n",
       "<p>7043 rows × 7 columns</p>\n",
       "</div>"
      ],
      "text/plain": [
       "     assinatura_internet protecao_online backup_nuvem protecao_dispositivo  \\\n",
       "0                    dsl             Não          Sim                  Não   \n",
       "1                    dsl             Não          Não                  Não   \n",
       "2                  fibra             Não          Não                  Sim   \n",
       "3                  fibra             Não          Sim                  Sim   \n",
       "4                  fibra             Não          Não                  Não   \n",
       "...                  ...             ...          ...                  ...   \n",
       "7038                 dsl             Sim          Não                  Não   \n",
       "7039               fibra             Não          Não                  Não   \n",
       "7040                 dsl             Não          Sim                  Não   \n",
       "7041                 dsl             Sim          Não                  Sim   \n",
       "7042                 dsl             Sim          Sim                  Sim   \n",
       "\n",
       "     suporte_tecnico streaming_tv streaming_filmes  \n",
       "0                Sim          Sim              Não  \n",
       "1                Não          Não              Sim  \n",
       "2                Não          Não              Não  \n",
       "3                Não          Sim              Sim  \n",
       "4                Sim          Sim              Não  \n",
       "...              ...          ...              ...  \n",
       "7038             Sim          Não              Não  \n",
       "7039             Não          Não              Sim  \n",
       "7040             Não          Não              Não  \n",
       "7041             Sim          Não              Sim  \n",
       "7042             Não          Sim              Sim  \n",
       "\n",
       "[7043 rows x 7 columns]"
      ]
     },
     "execution_count": 44,
     "metadata": {},
     "output_type": "execute_result"
    }
   ],
   "source": [
    "servicos_internet"
   ]
  },
  {
   "cell_type": "markdown",
   "id": "3b4d67bf-223d-4cec-8ffc-4341c3bf0846",
   "metadata": {},
   "source": [
    "## Normalizando a coluna detalhes_contrato"
   ]
  },
  {
   "cell_type": "code",
   "execution_count": 45,
   "id": "ee6ee353-4e48-4037-a6db-19ecbc6e19d8",
   "metadata": {},
   "outputs": [
    {
     "data": {
      "text/html": [
       "<div>\n",
       "<style scoped>\n",
       "    .dataframe tbody tr th:only-of-type {\n",
       "        vertical-align: middle;\n",
       "    }\n",
       "\n",
       "    .dataframe tbody tr th {\n",
       "        vertical-align: top;\n",
       "    }\n",
       "\n",
       "    .dataframe thead th {\n",
       "        text-align: right;\n",
       "    }\n",
       "</style>\n",
       "<table border=\"1\" class=\"dataframe\">\n",
       "  <thead>\n",
       "    <tr style=\"text-align: right;\">\n",
       "      <th></th>\n",
       "      <th>contrato</th>\n",
       "      <th>cobranca_digital</th>\n",
       "      <th>metodo_pagamento</th>\n",
       "      <th>custo_mensal</th>\n",
       "      <th>custo_total</th>\n",
       "    </tr>\n",
       "  </thead>\n",
       "  <tbody>\n",
       "    <tr>\n",
       "      <th>0</th>\n",
       "      <td>One year</td>\n",
       "      <td>Yes</td>\n",
       "      <td>Mailed check</td>\n",
       "      <td>65.6</td>\n",
       "      <td>593.3</td>\n",
       "    </tr>\n",
       "    <tr>\n",
       "      <th>1</th>\n",
       "      <td>Month-to-month</td>\n",
       "      <td>No</td>\n",
       "      <td>Mailed check</td>\n",
       "      <td>59.9</td>\n",
       "      <td>542.4</td>\n",
       "    </tr>\n",
       "    <tr>\n",
       "      <th>2</th>\n",
       "      <td>Month-to-month</td>\n",
       "      <td>Yes</td>\n",
       "      <td>Electronic check</td>\n",
       "      <td>73.9</td>\n",
       "      <td>280.85</td>\n",
       "    </tr>\n",
       "    <tr>\n",
       "      <th>3</th>\n",
       "      <td>Month-to-month</td>\n",
       "      <td>Yes</td>\n",
       "      <td>Electronic check</td>\n",
       "      <td>98.0</td>\n",
       "      <td>1237.85</td>\n",
       "    </tr>\n",
       "    <tr>\n",
       "      <th>4</th>\n",
       "      <td>Month-to-month</td>\n",
       "      <td>Yes</td>\n",
       "      <td>Mailed check</td>\n",
       "      <td>83.9</td>\n",
       "      <td>267.4</td>\n",
       "    </tr>\n",
       "  </tbody>\n",
       "</table>\n",
       "</div>"
      ],
      "text/plain": [
       "         contrato cobranca_digital  metodo_pagamento  custo_mensal custo_total\n",
       "0        One year              Yes      Mailed check          65.6       593.3\n",
       "1  Month-to-month               No      Mailed check          59.9       542.4\n",
       "2  Month-to-month              Yes  Electronic check          73.9      280.85\n",
       "3  Month-to-month              Yes  Electronic check          98.0     1237.85\n",
       "4  Month-to-month              Yes      Mailed check          83.9       267.4"
      ]
     },
     "execution_count": 45,
     "metadata": {},
     "output_type": "execute_result"
    }
   ],
   "source": [
    "detalhes_contrato = pd.json_normalize(dados.detalhes_contrato)\n",
    "detalhes_contrato_rotulos = {'Contract': 'contrato','PaperlessBilling': 'cobranca_digital','PaymentMethod': 'metodo_pagamento','Charges.Monthly': 'custo_mensal','Charges.Total': 'custo_total'}\n",
    "detalhes_contrato.rename(columns = detalhes_contrato_rotulos, inplace = True)\n",
    "detalhes_contrato.head()"
   ]
  },
  {
   "cell_type": "code",
   "execution_count": 46,
   "id": "44cbb923-be87-49fc-a327-bef2d9764b35",
   "metadata": {},
   "outputs": [
    {
     "name": "stdout",
     "output_type": "stream",
     "text": [
      "<class 'pandas.core.frame.DataFrame'>\n",
      "RangeIndex: 7043 entries, 0 to 7042\n",
      "Data columns (total 5 columns):\n",
      " #   Column            Non-Null Count  Dtype  \n",
      "---  ------            --------------  -----  \n",
      " 0   contrato          7043 non-null   object \n",
      " 1   cobranca_digital  7043 non-null   object \n",
      " 2   metodo_pagamento  7043 non-null   object \n",
      " 3   custo_mensal      7043 non-null   float64\n",
      " 4   custo_total       7043 non-null   object \n",
      "dtypes: float64(1), object(4)\n",
      "memory usage: 275.2+ KB\n"
     ]
    }
   ],
   "source": [
    "detalhes_contrato.info()"
   ]
  },
  {
   "cell_type": "markdown",
   "id": "1d254ed3-c442-41c9-8b3f-93ef7a366f48",
   "metadata": {},
   "source": [
    "### Podemos notar que o tipo de dado da coluna 'custo_total' não está como float, sendo necessário sua adequação"
   ]
  },
  {
   "cell_type": "code",
   "execution_count": 47,
   "id": "3ce9d5ee-09d3-44b2-8d59-761d16b0f1f4",
   "metadata": {},
   "outputs": [
    {
     "data": {
      "text/plain": [
       "array(['One year', 'Month-to-month', 'Two year'], dtype=object)"
      ]
     },
     "execution_count": 47,
     "metadata": {},
     "output_type": "execute_result"
    }
   ],
   "source": [
    "detalhes_contrato.contrato.unique()"
   ]
  },
  {
   "cell_type": "code",
   "execution_count": 48,
   "id": "63239f02-a345-480e-92c4-d6ba950bbc53",
   "metadata": {},
   "outputs": [],
   "source": [
    "tipos_contrato = {'One year': 'Anual', 'Two year': 'Bianual','Month-to-month': 'Mensal'}\n",
    "detalhes_contrato.contrato.replace(tipos_contrato, inplace = True)"
   ]
  },
  {
   "cell_type": "code",
   "execution_count": 49,
   "id": "fb5ad36c-0162-45e1-b77f-ef6289ca8174",
   "metadata": {},
   "outputs": [
    {
     "data": {
      "text/plain": [
       "array(['Yes', 'No'], dtype=object)"
      ]
     },
     "execution_count": 49,
     "metadata": {},
     "output_type": "execute_result"
    }
   ],
   "source": [
    "detalhes_contrato.cobranca_digital.unique()"
   ]
  },
  {
   "cell_type": "code",
   "execution_count": 50,
   "id": "bbb5a5ca-deed-4998-a4ae-02c5f5162f1c",
   "metadata": {},
   "outputs": [],
   "source": [
    "conta_digital = {'Yes': 'Sim', 'No': 'Não'}\n",
    "detalhes_contrato.cobranca_digital.replace(conta_digital, inplace = True)"
   ]
  },
  {
   "cell_type": "code",
   "execution_count": 51,
   "id": "9d850721-10d1-49c4-95ef-09fade5e4f09",
   "metadata": {},
   "outputs": [
    {
     "data": {
      "text/plain": [
       "array(['Mailed check', 'Electronic check', 'Credit card (automatic)',\n",
       "       'Bank transfer (automatic)'], dtype=object)"
      ]
     },
     "execution_count": 51,
     "metadata": {},
     "output_type": "execute_result"
    }
   ],
   "source": [
    "detalhes_contrato.metodo_pagamento.unique()"
   ]
  },
  {
   "cell_type": "code",
   "execution_count": 52,
   "id": "31d112ca-3724-4c05-8605-8bb3dd86243d",
   "metadata": {},
   "outputs": [],
   "source": [
    "metodos_pagamento = {'Mailed check': 'Cheque',\n",
    "                     'Electronic check': 'Cheque eletrônico',\n",
    "                     'Credit card (automatic)': 'Cartão de crédito',\n",
    "                     'Bank transfer (automatic)': 'Transferência bancária'}\n",
    "detalhes_contrato.metodo_pagamento.replace(metodos_pagamento, inplace = True)"
   ]
  },
  {
   "cell_type": "code",
   "execution_count": 53,
   "id": "9da072cc-650d-4e28-b64d-3d01eb01e3c5",
   "metadata": {},
   "outputs": [
    {
     "data": {
      "text/html": [
       "<div>\n",
       "<style scoped>\n",
       "    .dataframe tbody tr th:only-of-type {\n",
       "        vertical-align: middle;\n",
       "    }\n",
       "\n",
       "    .dataframe tbody tr th {\n",
       "        vertical-align: top;\n",
       "    }\n",
       "\n",
       "    .dataframe thead th {\n",
       "        text-align: right;\n",
       "    }\n",
       "</style>\n",
       "<table border=\"1\" class=\"dataframe\">\n",
       "  <thead>\n",
       "    <tr style=\"text-align: right;\">\n",
       "      <th></th>\n",
       "      <th>contrato</th>\n",
       "      <th>cobranca_digital</th>\n",
       "      <th>metodo_pagamento</th>\n",
       "      <th>custo_mensal</th>\n",
       "      <th>custo_total</th>\n",
       "    </tr>\n",
       "  </thead>\n",
       "  <tbody>\n",
       "    <tr>\n",
       "      <th>0</th>\n",
       "      <td>Anual</td>\n",
       "      <td>Sim</td>\n",
       "      <td>Cheque</td>\n",
       "      <td>65.6</td>\n",
       "      <td>593.3</td>\n",
       "    </tr>\n",
       "    <tr>\n",
       "      <th>1</th>\n",
       "      <td>Mensal</td>\n",
       "      <td>Não</td>\n",
       "      <td>Cheque</td>\n",
       "      <td>59.9</td>\n",
       "      <td>542.4</td>\n",
       "    </tr>\n",
       "    <tr>\n",
       "      <th>2</th>\n",
       "      <td>Mensal</td>\n",
       "      <td>Sim</td>\n",
       "      <td>Cheque eletrônico</td>\n",
       "      <td>73.9</td>\n",
       "      <td>280.85</td>\n",
       "    </tr>\n",
       "    <tr>\n",
       "      <th>3</th>\n",
       "      <td>Mensal</td>\n",
       "      <td>Sim</td>\n",
       "      <td>Cheque eletrônico</td>\n",
       "      <td>98.0</td>\n",
       "      <td>1237.85</td>\n",
       "    </tr>\n",
       "    <tr>\n",
       "      <th>4</th>\n",
       "      <td>Mensal</td>\n",
       "      <td>Sim</td>\n",
       "      <td>Cheque</td>\n",
       "      <td>83.9</td>\n",
       "      <td>267.4</td>\n",
       "    </tr>\n",
       "  </tbody>\n",
       "</table>\n",
       "</div>"
      ],
      "text/plain": [
       "  contrato cobranca_digital   metodo_pagamento  custo_mensal custo_total\n",
       "0    Anual              Sim             Cheque          65.6       593.3\n",
       "1   Mensal              Não             Cheque          59.9       542.4\n",
       "2   Mensal              Sim  Cheque eletrônico          73.9      280.85\n",
       "3   Mensal              Sim  Cheque eletrônico          98.0     1237.85\n",
       "4   Mensal              Sim             Cheque          83.9       267.4"
      ]
     },
     "execution_count": 53,
     "metadata": {},
     "output_type": "execute_result"
    }
   ],
   "source": [
    "detalhes_contrato.head()"
   ]
  },
  {
   "cell_type": "code",
   "execution_count": 54,
   "id": "d5a09161-82f2-4801-aaec-f151e9899191",
   "metadata": {},
   "outputs": [
    {
     "data": {
      "text/plain": [
       "array([65.6 , 59.9 , 73.9 , ..., 91.75, 68.8 , 67.85])"
      ]
     },
     "execution_count": 54,
     "metadata": {},
     "output_type": "execute_result"
    }
   ],
   "source": [
    "detalhes_contrato.custo_mensal.unique()"
   ]
  },
  {
   "cell_type": "code",
   "execution_count": 55,
   "id": "50e92e75-9ed2-466e-bc9f-8980fb9bd9fa",
   "metadata": {},
   "outputs": [
    {
     "data": {
      "text/plain": [
       "array(['593.3', '542.4', '280.85', ..., '742.9', '4627.65', '3707.6'],\n",
       "      dtype=object)"
      ]
     },
     "execution_count": 55,
     "metadata": {},
     "output_type": "execute_result"
    }
   ],
   "source": [
    "detalhes_contrato.custo_total.unique()"
   ]
  },
  {
   "cell_type": "markdown",
   "id": "73a7ee9f-e30a-4305-b73e-44e7244e7883",
   "metadata": {},
   "source": [
    "### Convertendo os valores númericos que estão como string na coluna 'custo_total'"
   ]
  },
  {
   "cell_type": "code",
   "execution_count": 56,
   "id": "70f12fe3-9d97-4b5d-86a1-5229a336b172",
   "metadata": {},
   "outputs": [],
   "source": [
    "detalhes_contrato.custo_total = pd.to_numeric(detalhes_contrato.custo_total, errors = 'coerce')"
   ]
  },
  {
   "cell_type": "code",
   "execution_count": 57,
   "id": "1d2906a5-9799-42ef-9857-e47d84c87d2c",
   "metadata": {},
   "outputs": [
    {
     "name": "stdout",
     "output_type": "stream",
     "text": [
      "<class 'pandas.core.frame.DataFrame'>\n",
      "RangeIndex: 7043 entries, 0 to 7042\n",
      "Data columns (total 5 columns):\n",
      " #   Column            Non-Null Count  Dtype  \n",
      "---  ------            --------------  -----  \n",
      " 0   contrato          7043 non-null   object \n",
      " 1   cobranca_digital  7043 non-null   object \n",
      " 2   metodo_pagamento  7043 non-null   object \n",
      " 3   custo_mensal      7043 non-null   float64\n",
      " 4   custo_total       7032 non-null   float64\n",
      "dtypes: float64(2), object(3)\n",
      "memory usage: 275.2+ KB\n"
     ]
    }
   ],
   "source": [
    "detalhes_contrato.info()"
   ]
  },
  {
   "cell_type": "code",
   "execution_count": 58,
   "id": "42d90fcc-e67f-4f15-957e-361783e2e1e6",
   "metadata": {},
   "outputs": [
    {
     "data": {
      "text/plain": [
       "11"
      ]
     },
     "execution_count": 58,
     "metadata": {},
     "output_type": "execute_result"
    }
   ],
   "source": [
    "detalhes_contrato.custo_total.isna().sum()"
   ]
  },
  {
   "cell_type": "code",
   "execution_count": 59,
   "id": "64874770-89fb-4faf-9b18-b86c15392004",
   "metadata": {},
   "outputs": [
    {
     "data": {
      "text/plain": [
       "contrato             0\n",
       "cobranca_digital     0\n",
       "metodo_pagamento     0\n",
       "custo_mensal         0\n",
       "custo_total         11\n",
       "dtype: int64"
      ]
     },
     "execution_count": 59,
     "metadata": {},
     "output_type": "execute_result"
    }
   ],
   "source": [
    "detalhes_contrato.isnull().sum()"
   ]
  },
  {
   "cell_type": "code",
   "execution_count": 60,
   "id": "2996ba20-fb3b-4c6d-a2a2-2a8323cc5561",
   "metadata": {},
   "outputs": [
    {
     "data": {
      "text/plain": [
       "False    7032\n",
       "True       11\n",
       "Name: custo_total, dtype: int64"
      ]
     },
     "execution_count": 60,
     "metadata": {},
     "output_type": "execute_result"
    }
   ],
   "source": [
    "detalhes_contrato.custo_total.isnull().value_counts()"
   ]
  },
  {
   "cell_type": "markdown",
   "id": "ad99686d-116f-4c9f-a0f6-920daaea16ad",
   "metadata": {},
   "source": [
    "### Criação de nova base de dados\n",
    "#### Concatenou-se os campos 'cliente_id' e 'churn' da base de dados original com os demais campos que foram normalizados"
   ]
  },
  {
   "cell_type": "code",
   "execution_count": 61,
   "id": "cf101a72-928f-41ec-aca5-3f493354ad02",
   "metadata": {},
   "outputs": [
    {
     "data": {
      "text/html": [
       "<div>\n",
       "<style scoped>\n",
       "    .dataframe tbody tr th:only-of-type {\n",
       "        vertical-align: middle;\n",
       "    }\n",
       "\n",
       "    .dataframe tbody tr th {\n",
       "        vertical-align: top;\n",
       "    }\n",
       "\n",
       "    .dataframe thead th {\n",
       "        text-align: right;\n",
       "    }\n",
       "</style>\n",
       "<table border=\"1\" class=\"dataframe\">\n",
       "  <thead>\n",
       "    <tr style=\"text-align: right;\">\n",
       "      <th></th>\n",
       "      <th>cliente_id</th>\n",
       "      <th>churn</th>\n",
       "      <th>genero</th>\n",
       "      <th>idoso</th>\n",
       "      <th>casado</th>\n",
       "      <th>dependentes</th>\n",
       "      <th>duracao_contrato</th>\n",
       "      <th>assinatura_telefone</th>\n",
       "      <th>linhas_extras</th>\n",
       "      <th>assinatura_internet</th>\n",
       "      <th>...</th>\n",
       "      <th>backup_nuvem</th>\n",
       "      <th>protecao_dispositivo</th>\n",
       "      <th>suporte_tecnico</th>\n",
       "      <th>streaming_tv</th>\n",
       "      <th>streaming_filmes</th>\n",
       "      <th>contrato</th>\n",
       "      <th>cobranca_digital</th>\n",
       "      <th>metodo_pagamento</th>\n",
       "      <th>custo_mensal</th>\n",
       "      <th>custo_total</th>\n",
       "    </tr>\n",
       "  </thead>\n",
       "  <tbody>\n",
       "    <tr>\n",
       "      <th>0</th>\n",
       "      <td>0002-ORFBO</td>\n",
       "      <td>Não</td>\n",
       "      <td>Feminino</td>\n",
       "      <td>Não</td>\n",
       "      <td>Sim</td>\n",
       "      <td>Sim</td>\n",
       "      <td>9.0</td>\n",
       "      <td>Sim</td>\n",
       "      <td>Não</td>\n",
       "      <td>dsl</td>\n",
       "      <td>...</td>\n",
       "      <td>Sim</td>\n",
       "      <td>Não</td>\n",
       "      <td>Sim</td>\n",
       "      <td>Sim</td>\n",
       "      <td>Não</td>\n",
       "      <td>Anual</td>\n",
       "      <td>Sim</td>\n",
       "      <td>Cheque</td>\n",
       "      <td>65.6</td>\n",
       "      <td>593.30</td>\n",
       "    </tr>\n",
       "    <tr>\n",
       "      <th>1</th>\n",
       "      <td>0003-MKNFE</td>\n",
       "      <td>Não</td>\n",
       "      <td>Masculino</td>\n",
       "      <td>Não</td>\n",
       "      <td>Não</td>\n",
       "      <td>Não</td>\n",
       "      <td>9.0</td>\n",
       "      <td>Sim</td>\n",
       "      <td>Sim</td>\n",
       "      <td>dsl</td>\n",
       "      <td>...</td>\n",
       "      <td>Não</td>\n",
       "      <td>Não</td>\n",
       "      <td>Não</td>\n",
       "      <td>Não</td>\n",
       "      <td>Sim</td>\n",
       "      <td>Mensal</td>\n",
       "      <td>Não</td>\n",
       "      <td>Cheque</td>\n",
       "      <td>59.9</td>\n",
       "      <td>542.40</td>\n",
       "    </tr>\n",
       "    <tr>\n",
       "      <th>2</th>\n",
       "      <td>0004-TLHLJ</td>\n",
       "      <td>Sim</td>\n",
       "      <td>Masculino</td>\n",
       "      <td>Não</td>\n",
       "      <td>Não</td>\n",
       "      <td>Não</td>\n",
       "      <td>4.0</td>\n",
       "      <td>Sim</td>\n",
       "      <td>Não</td>\n",
       "      <td>fibra</td>\n",
       "      <td>...</td>\n",
       "      <td>Não</td>\n",
       "      <td>Sim</td>\n",
       "      <td>Não</td>\n",
       "      <td>Não</td>\n",
       "      <td>Não</td>\n",
       "      <td>Mensal</td>\n",
       "      <td>Sim</td>\n",
       "      <td>Cheque eletrônico</td>\n",
       "      <td>73.9</td>\n",
       "      <td>280.85</td>\n",
       "    </tr>\n",
       "    <tr>\n",
       "      <th>3</th>\n",
       "      <td>0011-IGKFF</td>\n",
       "      <td>Sim</td>\n",
       "      <td>Masculino</td>\n",
       "      <td>Sim</td>\n",
       "      <td>Sim</td>\n",
       "      <td>Não</td>\n",
       "      <td>13.0</td>\n",
       "      <td>Sim</td>\n",
       "      <td>Não</td>\n",
       "      <td>fibra</td>\n",
       "      <td>...</td>\n",
       "      <td>Sim</td>\n",
       "      <td>Sim</td>\n",
       "      <td>Não</td>\n",
       "      <td>Sim</td>\n",
       "      <td>Sim</td>\n",
       "      <td>Mensal</td>\n",
       "      <td>Sim</td>\n",
       "      <td>Cheque eletrônico</td>\n",
       "      <td>98.0</td>\n",
       "      <td>1237.85</td>\n",
       "    </tr>\n",
       "    <tr>\n",
       "      <th>4</th>\n",
       "      <td>0013-EXCHZ</td>\n",
       "      <td>Sim</td>\n",
       "      <td>Feminino</td>\n",
       "      <td>Sim</td>\n",
       "      <td>Sim</td>\n",
       "      <td>Não</td>\n",
       "      <td>3.0</td>\n",
       "      <td>Sim</td>\n",
       "      <td>Não</td>\n",
       "      <td>fibra</td>\n",
       "      <td>...</td>\n",
       "      <td>Não</td>\n",
       "      <td>Não</td>\n",
       "      <td>Sim</td>\n",
       "      <td>Sim</td>\n",
       "      <td>Não</td>\n",
       "      <td>Mensal</td>\n",
       "      <td>Sim</td>\n",
       "      <td>Cheque</td>\n",
       "      <td>83.9</td>\n",
       "      <td>267.40</td>\n",
       "    </tr>\n",
       "  </tbody>\n",
       "</table>\n",
       "<p>5 rows × 21 columns</p>\n",
       "</div>"
      ],
      "text/plain": [
       "   cliente_id churn     genero idoso casado dependentes  duracao_contrato  \\\n",
       "0  0002-ORFBO   Não   Feminino   Não    Sim         Sim               9.0   \n",
       "1  0003-MKNFE   Não  Masculino   Não    Não         Não               9.0   \n",
       "2  0004-TLHLJ   Sim  Masculino   Não    Não         Não               4.0   \n",
       "3  0011-IGKFF   Sim  Masculino   Sim    Sim         Não              13.0   \n",
       "4  0013-EXCHZ   Sim   Feminino   Sim    Sim         Não               3.0   \n",
       "\n",
       "  assinatura_telefone linhas_extras assinatura_internet  ... backup_nuvem  \\\n",
       "0                 Sim           Não                 dsl  ...          Sim   \n",
       "1                 Sim           Sim                 dsl  ...          Não   \n",
       "2                 Sim           Não               fibra  ...          Não   \n",
       "3                 Sim           Não               fibra  ...          Sim   \n",
       "4                 Sim           Não               fibra  ...          Não   \n",
       "\n",
       "  protecao_dispositivo suporte_tecnico streaming_tv streaming_filmes contrato  \\\n",
       "0                  Não             Sim          Sim              Não    Anual   \n",
       "1                  Não             Não          Não              Sim   Mensal   \n",
       "2                  Sim             Não          Não              Não   Mensal   \n",
       "3                  Sim             Não          Sim              Sim   Mensal   \n",
       "4                  Não             Sim          Sim              Não   Mensal   \n",
       "\n",
       "  cobranca_digital   metodo_pagamento custo_mensal  custo_total  \n",
       "0              Sim             Cheque         65.6       593.30  \n",
       "1              Não             Cheque         59.9       542.40  \n",
       "2              Sim  Cheque eletrônico         73.9       280.85  \n",
       "3              Sim  Cheque eletrônico         98.0      1237.85  \n",
       "4              Sim             Cheque         83.9       267.40  \n",
       "\n",
       "[5 rows x 21 columns]"
      ]
     },
     "execution_count": 61,
     "metadata": {},
     "output_type": "execute_result"
    }
   ],
   "source": [
    "dados_organizado = pd.concat([dados[['cliente_id', 'churn']], dados_cliente, servicos_telefone, servicos_internet, detalhes_contrato], axis = 1)\n",
    "dados_organizado.head()"
   ]
  },
  {
   "cell_type": "markdown",
   "id": "12b57e37-147a-4f25-aa1d-ffef35150f78",
   "metadata": {},
   "source": [
    "### Criação da coluna 'custo_diario', inserida na posição 18"
   ]
  },
  {
   "cell_type": "code",
   "execution_count": 62,
   "id": "eeeccbcb-78a8-431e-ae60-012a41722f73",
   "metadata": {
    "tags": []
   },
   "outputs": [],
   "source": [
    "custo_diario = round(dados_organizado.custo_mensal / 30, 2)\n",
    "dados_organizado.insert(loc = 18, column = 'custo_diario', value = custo_diario)"
   ]
  },
  {
   "cell_type": "markdown",
   "id": "755149ec-9bd1-411e-9afc-4e5e710c4ffb",
   "metadata": {},
   "source": [
    "### Corrigindo a transformação de tipo realizada pelo Pandas na coluna 'duracao_contrato'\n",
    "#### Setando novamente o tipo de dado como integer"
   ]
  },
  {
   "cell_type": "code",
   "execution_count": 96,
   "id": "e4f75d88-68e3-4184-a65e-f8ac4a134ad9",
   "metadata": {},
   "outputs": [],
   "source": [
    "dados_organizado.duracao_contrato = pd.to_numeric(dados_organizado.duracao_contrato, downcast = 'integer', errors = 'coerce')"
   ]
  },
  {
   "cell_type": "markdown",
   "id": "ef9ccb80-ae10-48c9-8a56-adc062dc21ba",
   "metadata": {},
   "source": [
    "### Remoção de 11 entradas nulas presentes na coluna 'custo_total'"
   ]
  },
  {
   "cell_type": "code",
   "execution_count": 97,
   "id": "56b56bc8-c0f7-476a-a6c0-a81f58517d39",
   "metadata": {},
   "outputs": [
    {
     "name": "stdout",
     "output_type": "stream",
     "text": [
      "<class 'pandas.core.frame.DataFrame'>\n",
      "Int64Index: 6819 entries, 0 to 7042\n",
      "Data columns (total 22 columns):\n",
      " #   Column                Non-Null Count  Dtype  \n",
      "---  ------                --------------  -----  \n",
      " 0   cliente_id            6819 non-null   object \n",
      " 1   churn                 6819 non-null   object \n",
      " 2   genero                6819 non-null   object \n",
      " 3   idoso                 6819 non-null   object \n",
      " 4   casado                6819 non-null   object \n",
      " 5   dependentes           6819 non-null   object \n",
      " 6   duracao_contrato      6819 non-null   int8   \n",
      " 7   assinatura_telefone   6819 non-null   object \n",
      " 8   linhas_extras         6819 non-null   object \n",
      " 9   assinatura_internet   6819 non-null   object \n",
      " 10  protecao_online       6819 non-null   object \n",
      " 11  backup_nuvem          6819 non-null   object \n",
      " 12  protecao_dispositivo  6819 non-null   object \n",
      " 13  suporte_tecnico       6819 non-null   object \n",
      " 14  streaming_tv          6819 non-null   object \n",
      " 15  streaming_filmes      6819 non-null   object \n",
      " 16  contrato              6819 non-null   object \n",
      " 17  cobranca_digital      6819 non-null   object \n",
      " 18  custo_diario          6819 non-null   float64\n",
      " 19  metodo_pagamento      6819 non-null   object \n",
      " 20  custo_mensal          6819 non-null   float64\n",
      " 21  custo_total           6819 non-null   float64\n",
      "dtypes: float64(3), int8(1), object(18)\n",
      "memory usage: 1.2+ MB\n"
     ]
    }
   ],
   "source": [
    "dados_organizado.dropna(axis = 0, inplace = True)\n",
    "dados_organizado.info()"
   ]
  },
  {
   "cell_type": "code",
   "execution_count": 98,
   "id": "651a6476-9e5a-4cc7-b009-f6b797d7639f",
   "metadata": {},
   "outputs": [
    {
     "data": {
      "text/plain": [
       "cliente_id              0\n",
       "churn                   0\n",
       "genero                  0\n",
       "idoso                   0\n",
       "casado                  0\n",
       "dependentes             0\n",
       "duracao_contrato        0\n",
       "assinatura_telefone     0\n",
       "linhas_extras           0\n",
       "assinatura_internet     0\n",
       "protecao_online         0\n",
       "backup_nuvem            0\n",
       "protecao_dispositivo    0\n",
       "suporte_tecnico         0\n",
       "streaming_tv            0\n",
       "streaming_filmes        0\n",
       "contrato                0\n",
       "cobranca_digital        0\n",
       "custo_diario            0\n",
       "metodo_pagamento        0\n",
       "custo_mensal            0\n",
       "custo_total             0\n",
       "dtype: int64"
      ]
     },
     "execution_count": 98,
     "metadata": {},
     "output_type": "execute_result"
    }
   ],
   "source": [
    "dados_organizado.isnull().sum()"
   ]
  },
  {
   "cell_type": "code",
   "execution_count": 99,
   "id": "b9178760-b701-4b63-8878-f05b87282553",
   "metadata": {},
   "outputs": [
    {
     "data": {
      "text/html": [
       "<div>\n",
       "<style scoped>\n",
       "    .dataframe tbody tr th:only-of-type {\n",
       "        vertical-align: middle;\n",
       "    }\n",
       "\n",
       "    .dataframe tbody tr th {\n",
       "        vertical-align: top;\n",
       "    }\n",
       "\n",
       "    .dataframe thead th {\n",
       "        text-align: right;\n",
       "    }\n",
       "</style>\n",
       "<table border=\"1\" class=\"dataframe\">\n",
       "  <thead>\n",
       "    <tr style=\"text-align: right;\">\n",
       "      <th></th>\n",
       "      <th>cliente_id</th>\n",
       "      <th>churn</th>\n",
       "      <th>genero</th>\n",
       "      <th>idoso</th>\n",
       "      <th>casado</th>\n",
       "      <th>dependentes</th>\n",
       "      <th>duracao_contrato</th>\n",
       "      <th>assinatura_telefone</th>\n",
       "      <th>linhas_extras</th>\n",
       "      <th>assinatura_internet</th>\n",
       "      <th>...</th>\n",
       "      <th>protecao_dispositivo</th>\n",
       "      <th>suporte_tecnico</th>\n",
       "      <th>streaming_tv</th>\n",
       "      <th>streaming_filmes</th>\n",
       "      <th>contrato</th>\n",
       "      <th>cobranca_digital</th>\n",
       "      <th>custo_diario</th>\n",
       "      <th>metodo_pagamento</th>\n",
       "      <th>custo_mensal</th>\n",
       "      <th>custo_total</th>\n",
       "    </tr>\n",
       "  </thead>\n",
       "  <tbody>\n",
       "    <tr>\n",
       "      <th>0</th>\n",
       "      <td>0002-ORFBO</td>\n",
       "      <td>Não</td>\n",
       "      <td>Feminino</td>\n",
       "      <td>Não</td>\n",
       "      <td>Sim</td>\n",
       "      <td>Sim</td>\n",
       "      <td>9</td>\n",
       "      <td>Sim</td>\n",
       "      <td>Não</td>\n",
       "      <td>dsl</td>\n",
       "      <td>...</td>\n",
       "      <td>Não</td>\n",
       "      <td>Sim</td>\n",
       "      <td>Sim</td>\n",
       "      <td>Não</td>\n",
       "      <td>Anual</td>\n",
       "      <td>Sim</td>\n",
       "      <td>2.19</td>\n",
       "      <td>Cheque</td>\n",
       "      <td>65.6</td>\n",
       "      <td>593.30</td>\n",
       "    </tr>\n",
       "    <tr>\n",
       "      <th>1</th>\n",
       "      <td>0003-MKNFE</td>\n",
       "      <td>Não</td>\n",
       "      <td>Masculino</td>\n",
       "      <td>Não</td>\n",
       "      <td>Não</td>\n",
       "      <td>Não</td>\n",
       "      <td>9</td>\n",
       "      <td>Sim</td>\n",
       "      <td>Sim</td>\n",
       "      <td>dsl</td>\n",
       "      <td>...</td>\n",
       "      <td>Não</td>\n",
       "      <td>Não</td>\n",
       "      <td>Não</td>\n",
       "      <td>Sim</td>\n",
       "      <td>Mensal</td>\n",
       "      <td>Não</td>\n",
       "      <td>2.00</td>\n",
       "      <td>Cheque</td>\n",
       "      <td>59.9</td>\n",
       "      <td>542.40</td>\n",
       "    </tr>\n",
       "    <tr>\n",
       "      <th>2</th>\n",
       "      <td>0004-TLHLJ</td>\n",
       "      <td>Sim</td>\n",
       "      <td>Masculino</td>\n",
       "      <td>Não</td>\n",
       "      <td>Não</td>\n",
       "      <td>Não</td>\n",
       "      <td>4</td>\n",
       "      <td>Sim</td>\n",
       "      <td>Não</td>\n",
       "      <td>fibra</td>\n",
       "      <td>...</td>\n",
       "      <td>Sim</td>\n",
       "      <td>Não</td>\n",
       "      <td>Não</td>\n",
       "      <td>Não</td>\n",
       "      <td>Mensal</td>\n",
       "      <td>Sim</td>\n",
       "      <td>2.46</td>\n",
       "      <td>Cheque eletrônico</td>\n",
       "      <td>73.9</td>\n",
       "      <td>280.85</td>\n",
       "    </tr>\n",
       "    <tr>\n",
       "      <th>3</th>\n",
       "      <td>0011-IGKFF</td>\n",
       "      <td>Sim</td>\n",
       "      <td>Masculino</td>\n",
       "      <td>Sim</td>\n",
       "      <td>Sim</td>\n",
       "      <td>Não</td>\n",
       "      <td>13</td>\n",
       "      <td>Sim</td>\n",
       "      <td>Não</td>\n",
       "      <td>fibra</td>\n",
       "      <td>...</td>\n",
       "      <td>Sim</td>\n",
       "      <td>Não</td>\n",
       "      <td>Sim</td>\n",
       "      <td>Sim</td>\n",
       "      <td>Mensal</td>\n",
       "      <td>Sim</td>\n",
       "      <td>3.27</td>\n",
       "      <td>Cheque eletrônico</td>\n",
       "      <td>98.0</td>\n",
       "      <td>1237.85</td>\n",
       "    </tr>\n",
       "    <tr>\n",
       "      <th>4</th>\n",
       "      <td>0013-EXCHZ</td>\n",
       "      <td>Sim</td>\n",
       "      <td>Feminino</td>\n",
       "      <td>Sim</td>\n",
       "      <td>Sim</td>\n",
       "      <td>Não</td>\n",
       "      <td>3</td>\n",
       "      <td>Sim</td>\n",
       "      <td>Não</td>\n",
       "      <td>fibra</td>\n",
       "      <td>...</td>\n",
       "      <td>Não</td>\n",
       "      <td>Sim</td>\n",
       "      <td>Sim</td>\n",
       "      <td>Não</td>\n",
       "      <td>Mensal</td>\n",
       "      <td>Sim</td>\n",
       "      <td>2.80</td>\n",
       "      <td>Cheque</td>\n",
       "      <td>83.9</td>\n",
       "      <td>267.40</td>\n",
       "    </tr>\n",
       "  </tbody>\n",
       "</table>\n",
       "<p>5 rows × 22 columns</p>\n",
       "</div>"
      ],
      "text/plain": [
       "   cliente_id churn     genero idoso casado dependentes  duracao_contrato  \\\n",
       "0  0002-ORFBO   Não   Feminino   Não    Sim         Sim                 9   \n",
       "1  0003-MKNFE   Não  Masculino   Não    Não         Não                 9   \n",
       "2  0004-TLHLJ   Sim  Masculino   Não    Não         Não                 4   \n",
       "3  0011-IGKFF   Sim  Masculino   Sim    Sim         Não                13   \n",
       "4  0013-EXCHZ   Sim   Feminino   Sim    Sim         Não                 3   \n",
       "\n",
       "  assinatura_telefone linhas_extras assinatura_internet  ...  \\\n",
       "0                 Sim           Não                 dsl  ...   \n",
       "1                 Sim           Sim                 dsl  ...   \n",
       "2                 Sim           Não               fibra  ...   \n",
       "3                 Sim           Não               fibra  ...   \n",
       "4                 Sim           Não               fibra  ...   \n",
       "\n",
       "  protecao_dispositivo suporte_tecnico streaming_tv streaming_filmes contrato  \\\n",
       "0                  Não             Sim          Sim              Não    Anual   \n",
       "1                  Não             Não          Não              Sim   Mensal   \n",
       "2                  Sim             Não          Não              Não   Mensal   \n",
       "3                  Sim             Não          Sim              Sim   Mensal   \n",
       "4                  Não             Sim          Sim              Não   Mensal   \n",
       "\n",
       "  cobranca_digital custo_diario   metodo_pagamento  custo_mensal custo_total  \n",
       "0              Sim         2.19             Cheque          65.6      593.30  \n",
       "1              Não         2.00             Cheque          59.9      542.40  \n",
       "2              Sim         2.46  Cheque eletrônico          73.9      280.85  \n",
       "3              Sim         3.27  Cheque eletrônico          98.0     1237.85  \n",
       "4              Sim         2.80             Cheque          83.9      267.40  \n",
       "\n",
       "[5 rows x 22 columns]"
      ]
     },
     "execution_count": 99,
     "metadata": {},
     "output_type": "execute_result"
    }
   ],
   "source": [
    "dados_organizado.head()"
   ]
  },
  {
   "cell_type": "code",
   "execution_count": 100,
   "id": "47f9d9c6-7415-460f-a170-a24009a32211",
   "metadata": {},
   "outputs": [],
   "source": [
    "dados_organizado.to_json('dados_churn_clean.json')  # salvando a nova base de dados para um novo json"
   ]
  },
  {
   "cell_type": "markdown",
   "id": "9ffbc926-79cd-4487-a1d4-b57766efa7fd",
   "metadata": {},
   "source": [
    "## Taxa de evasão de clientes"
   ]
  },
  {
   "cell_type": "code",
   "execution_count": 101,
   "id": "9aee7f7d-4459-4563-9fa8-c7d8440d88fb",
   "metadata": {},
   "outputs": [
    {
     "data": {
      "text/plain": [
       "<AxesSubplot:ylabel='churn'>"
      ]
     },
     "execution_count": 101,
     "metadata": {},
     "output_type": "execute_result"
    },
    {
     "data": {
      "image/png": "[encoded data removed]",
      "text/plain": [
       "<Figure size 432x288 with 1 Axes>"
      ]
     },
     "metadata": {},
     "output_type": "display_data"
    }
   ],
   "source": [
    "dados_organizado.churn.value_counts(normalize = True).plot(kind = 'pie', autopct='%.2f%%', explode = (0,0.1))"
   ]
  },
  {
   "cell_type": "markdown",
   "id": "25f7a48a-5e51-417d-ab84-ed350322879e",
   "metadata": {},
   "source": [
    "### Configurando Histograma sobre duração de contrato"
   ]
  },
  {
   "cell_type": "code",
   "execution_count": 103,
   "id": "8795047f-4e7b-4bd6-93a3-3b2cd3915ab1",
   "metadata": {},
   "outputs": [
    {
     "data": {
      "text/plain": [
       "Text(0, 0.5, 'Número de Clientes')"
      ]
     },
     "execution_count": 103,
     "metadata": {},
     "output_type": "execute_result"
    },
    {
     "data": {
      "image/png": "[encoded data removed]",
      "text/plain": [
       "<Figure size 432x288 with 1 Axes>"
      ]
     },
     "metadata": {
      "needs_background": "light"
     },
     "output_type": "display_data"
    }
   ],
   "source": [
    "ax = sns.histplot(x = dados_organizado.duracao_contrato, bins = 6, kde = True,)\n",
    "ax.axes.set_title('Histograma abordando Duração de Contrato', fontsize = 20)\n",
    "ax.set_xlabel('Duração de Contrato (meses)', fontsize = 14)\n",
    "ax.set_ylabel('Número de Clientes', fontsize = 14)"
   ]
  },
  {
   "cell_type": "markdown",
   "id": "5d11f534-68be-4758-a095-8938c177a4e9",
   "metadata": {},
   "source": [
    "### Configurando Boxplot do custo diário"
   ]
  },
  {
   "cell_type": "code",
   "execution_count": 70,
   "id": "41752c73-4bb9-4554-b9fe-fd0b3d947a92",
   "metadata": {},
   "outputs": [
    {
     "data": {
      "text/plain": [
       "count    6819.000000\n",
       "mean        2.162319\n",
       "std         1.003610\n",
       "min         0.610000\n",
       "25%         1.185000\n",
       "50%         2.350000\n",
       "75%         3.000000\n",
       "max         3.960000\n",
       "Name: custo_diario, dtype: float64"
      ]
     },
     "execution_count": 70,
     "metadata": {},
     "output_type": "execute_result"
    }
   ],
   "source": [
    "dados_organizado.custo_diario.describe()"
   ]
  },
  {
   "cell_type": "code",
   "execution_count": 79,
   "id": "48e80c58-5181-46a5-9a4d-d2bd19112c2e",
   "metadata": {},
   "outputs": [
    {
     "data": {
      "text/plain": [
       "Text(0.5, 0, 'Custo Diário')"
      ]
     },
     "execution_count": 79,
     "metadata": {},
     "output_type": "execute_result"
    },
    {
     "data": {
      "image/png": "[encoded data removed]",
      "text/plain": [
       "<Figure size 432x288 with 1 Axes>"
      ]
     },
     "metadata": {
      "needs_background": "light"
     },
     "output_type": "display_data"
    }
   ],
   "source": [
    "ax = sns.boxplot(x = dados_organizado.custo_diario, orient = 'h', width = 0.5)\n",
    "ax.axes.set_title('Distribuição de valores para Custo Diário', fontsize = 20)\n",
    "ax.set_xlabel('Custo Diário', fontsize = 14)"
   ]
  },
  {
   "cell_type": "markdown",
   "id": "e6dce4a3-867a-4656-bfb8-b93ca1fd0e40",
   "metadata": {
    "tags": []
   },
   "source": [
    "### Configurando Boxplot do custo mensal"
   ]
  },
  {
   "cell_type": "code",
   "execution_count": 74,
   "id": "70cb2117-e3f7-48b7-8902-67907c480c8f",
   "metadata": {},
   "outputs": [
    {
     "data": {
      "text/plain": [
       "count    6819.000000\n",
       "mean       64.871161\n",
       "std        30.105254\n",
       "min        18.250000\n",
       "25%        35.575000\n",
       "50%        70.400000\n",
       "75%        89.900000\n",
       "max       118.750000\n",
       "Name: custo_mensal, dtype: float64"
      ]
     },
     "execution_count": 74,
     "metadata": {},
     "output_type": "execute_result"
    }
   ],
   "source": [
    "dados_organizado.custo_mensal.describe()"
   ]
  },
  {
   "cell_type": "code",
   "execution_count": 77,
   "id": "0d20c6bb-34e3-4bbc-92b3-c1fd3f84cb60",
   "metadata": {},
   "outputs": [
    {
     "data": {
      "text/plain": [
       "Text(0.5, 0, 'Custo Mensal')"
      ]
     },
     "execution_count": 77,
     "metadata": {},
     "output_type": "execute_result"
    },
    {
     "data": {
      "image/png": "[encoded data removed]",
      "text/plain": [
       "<Figure size 432x288 with 1 Axes>"
      ]
     },
     "metadata": {
      "needs_background": "light"
     },
     "output_type": "display_data"
    }
   ],
   "source": [
    "ax = sns.boxplot(x = dados_organizado.custo_mensal, orient = 'h', width = 0.5)\n",
    "ax.axes.set_title('Distribuição de valores para Custo Mensal', fontsize = 20)\n",
    "ax.set_xlabel('Custo Mensal', fontsize = 14)"
   ]
  },
  {
   "cell_type": "markdown",
   "id": "a6d95921-500d-4810-9e95-f019068df1be",
   "metadata": {},
   "source": [
    "### Configurando Boxplot do custo total"
   ]
  },
  {
   "cell_type": "code",
   "execution_count": 78,
   "id": "eb795a9a-e689-4b8e-83e3-dc3a75115dab",
   "metadata": {},
   "outputs": [
    {
     "data": {
      "text/plain": [
       "Text(0.5, 0, 'Custo Total')"
      ]
     },
     "execution_count": 78,
     "metadata": {},
     "output_type": "execute_result"
    },
    {
     "data": {
      "image/png": "[encoded data removed]",
      "text/plain": [
       "<Figure size 432x288 with 1 Axes>"
      ]
     },
     "metadata": {
      "needs_background": "light"
     },
     "output_type": "display_data"
    }
   ],
   "source": [
    "ax = sns.boxplot(x = dados_organizado.custo_total, orient = 'h', width = 0.5)\n",
    "ax.axes.set_title('Distribuição de valores para Custo Total', fontsize = 20)\n",
    "ax.set_xlabel('Custo Total', fontsize = 14)"
   ]
  },
  {
   "cell_type": "code",
   "execution_count": null,
   "id": "341538f2-9364-4d8f-9e53-6a9d4eb06708",
   "metadata": {},
   "outputs": [],
   "source": []
  }
 ],
 "metadata": {
  "kernelspec": {
   "display_name": "Python 3 (ipykernel)",
   "language": "python",
   "name": "python3"
  },
  "language_info": {
   "codemirror_mode": {
    "name": "ipython",
    "version": 3
   },
   "file_extension": ".py",
   "mimetype": "text/x-python",
   "name": "python",
   "nbconvert_exporter": "python",
   "pygments_lexer": "ipython3",
   "version": "3.9.7"
  }
 },
 "nbformat": 4,
 "nbformat_minor": 5
}
